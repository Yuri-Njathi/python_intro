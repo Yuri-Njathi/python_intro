{
  "nbformat": 4,
  "nbformat_minor": 0,
  "metadata": {
    "colab": {
      "provenance": [],
      "authorship_tag": "ABX9TyOJvxu3Fs6RPx3bSpQZzZgE",
      "include_colab_link": true
    },
    "kernelspec": {
      "name": "python3",
      "display_name": "Python 3"
    },
    "language_info": {
      "name": "python"
    }
  },
  "cells": [
    {
      "cell_type": "markdown",
      "metadata": {
        "id": "view-in-github",
        "colab_type": "text"
      },
      "source": [
        "<a href=\"https://colab.research.google.com/github/Yuri-Njathi/python_intro/blob/master/python_for_ml/test_rgb_semantic.ipynb\" target=\"_parent\"><img src=\"https://colab.research.google.com/assets/colab-badge.svg\" alt=\"Open In Colab\"/></a>"
      ]
    },
    {
      "cell_type": "markdown",
      "source": [
        "Image formats\n",
        "\n",
        ".jpg / .jpeg\n",
        "\n",
        ".png\n",
        "\n",
        ".tif/.tiff\n",
        "\n",
        ".dicom # medical images"
      ],
      "metadata": {
        "id": "KDsPnYf1f0Al"
      }
    },
    {
      "cell_type": "code",
      "execution_count": 2,
      "metadata": {
        "id": "7-KG8kt5UrwD"
      },
      "outputs": [],
      "source": [
        "import matplotlib.pyplot as plt\n",
        "import numpy as np"
      ]
    },
    {
      "cell_type": "code",
      "source": [
        "img = plt.imread('/content/Pixel-Art.png') #RGBA image\n",
        "img.shape"
      ],
      "metadata": {
        "colab": {
          "base_uri": "https://localhost:8080/"
        },
        "id": "DPgPx8TZV48R",
        "outputId": "ca9ad694-b742-415f-a0a5-22c415d82bff"
      },
      "execution_count": 3,
      "outputs": [
        {
          "output_type": "execute_result",
          "data": {
            "text/plain": [
              "(320, 319, 4)"
            ]
          },
          "metadata": {},
          "execution_count": 3
        }
      ]
    },
    {
      "cell_type": "code",
      "source": [
        "plt.tick_params(left = False, right = False , labelleft = False , labelbottom = False, bottom = False)\n",
        "plt.imshow(img[:,:,2],cmap='gray')\n",
        "plt.show()"
      ],
      "metadata": {
        "colab": {
          "base_uri": "https://localhost:8080/",
          "height": 406
        },
        "id": "hTFC0b0PV-do",
        "outputId": "4ce2a278-e7e1-4fd1-b71e-00f729b136c2"
      },
      "execution_count": 10,
      "outputs": [
        {
          "output_type": "display_data",
          "data": {
            "text/plain": [
              "<Figure size 640x480 with 1 Axes>"
            ],
            "image/png": "[encoded data removed]"
          },
          "metadata": {}
        }
      ]
    },
    {
      "cell_type": "code",
      "source": [
        "plt.imsave('/content/Pixel-Art-0.png',img[:,:,0])\n",
        "plt.imsave('/content/Pixel-Art-1.png',img[:,:,1])\n",
        "plt.imsave('/content/Pixel-Art-2.png',img[:,:,2])\n",
        "plt.imsave('/content/Pixel-Art-3.png',img[:,:,3])"
      ],
      "metadata": {
        "id": "y3xjqU9i3PAp"
      },
      "execution_count": 6,
      "outputs": []
    },
    {
      "cell_type": "code",
      "source": [
        "img1_0 = plt.imread('/content/Pixel-Art-0.png')\n",
        "img1_1 = plt.imread('/content/Pixel-Art-1.png')\n",
        "img1_2 = plt.imread('/content/Pixel-Art-2.png')\n",
        "img1_0.shape"
      ],
      "metadata": {
        "colab": {
          "base_uri": "https://localhost:8080/"
        },
        "id": "PqB5A7TP5n3J",
        "outputId": "0de40968-fda7-4977-8a3a-345744efbdd8"
      },
      "execution_count": 7,
      "outputs": [
        {
          "output_type": "execute_result",
          "data": {
            "text/plain": [
              "(320, 319, 4)"
            ]
          },
          "metadata": {},
          "execution_count": 7
        }
      ]
    },
    {
      "cell_type": "code",
      "source": [
        "# # ERROR ####\n",
        "# import torch\n",
        "# img1_reconstructed = torch.ones((320,319,4),dtype=torch.uint8)\n",
        "# img1_reconstructed[:,:,0] = torch.tensor(img[:,:,0].copy(),dtype=torch.uint8)\n",
        "# img1_reconstructed[:,:,1] = torch.tensor(img[:,:,1].copy(),dtype=torch.uint8)\n",
        "# img1_reconstructed[:,:,2] = torch.tensor(img[:,:,2].copy(),dtype=torch.uint8)\n",
        "# img1_reconstructed[:,:,3] = torch.tensor(img[:,:,3].copy(),dtype=torch.uint8)\n",
        "# plt.imshow(img1_reconstructed[:,:,0],cmap='gray')"
      ],
      "metadata": {
        "id": "Rt9YBkB26JYP"
      },
      "execution_count": 24,
      "outputs": []
    },
    {
      "cell_type": "code",
      "source": [
        "len(np.unique(img*255))"
      ],
      "metadata": {
        "colab": {
          "base_uri": "https://localhost:8080/"
        },
        "id": "aPBiCj9IWVum",
        "outputId": "88d79c26-3fa3-458c-d136-067fe0995020"
      },
      "execution_count": null,
      "outputs": [
        {
          "output_type": "execute_result",
          "data": {
            "text/plain": [
              "20"
            ]
          },
          "metadata": {},
          "execution_count": 34
        }
      ]
    },
    {
      "cell_type": "code",
      "source": [
        "np.unique(img*255)"
      ],
      "metadata": {
        "colab": {
          "base_uri": "https://localhost:8080/"
        },
        "id": "25uFv2mvWDUC",
        "outputId": "356b2578-3d5c-4925-ae2e-88d83e6e610f"
      },
      "execution_count": null,
      "outputs": [
        {
          "output_type": "execute_result",
          "data": {
            "text/plain": [
              "array([  0.,   2.,  22.,  35.,  51.,  64.,  76.,  87.,  96., 102., 103.,\n",
              "       107., 112., 115., 128., 130., 135., 142., 156., 255.],\n",
              "      dtype=float32)"
            ]
          },
          "metadata": {},
          "execution_count": 35
        }
      ]
    },
    {
      "cell_type": "code",
      "source": [
        "import torch"
      ],
      "metadata": {
        "id": "JRlfKjetWqUS"
      },
      "execution_count": null,
      "outputs": []
    },
    {
      "cell_type": "code",
      "source": [
        "img1 = torch.zeros((2,2),dtype=torch.uint8)\n",
        "img1[0,0] = 0\n",
        "img1[0,1] = 84\n",
        "img1[1,0] = 168\n",
        "img1[1,1] = 252\n",
        "plt.imshow(img1,cmap='gray')\n",
        "plt.show()"
      ],
      "metadata": {
        "colab": {
          "base_uri": "https://localhost:8080/",
          "height": 435
        },
        "id": "-sgDINmwY6V_",
        "outputId": "e0d7a4d3-75c9-403e-c262-b49d3ba4aa51"
      },
      "execution_count": null,
      "outputs": [
        {
          "output_type": "display_data",
          "data": {
            "text/plain": [
              "<Figure size 640x480 with 1 Axes>"
            ],
            "image/png": "[encoded data removed]"
          },
          "metadata": {}
        }
      ]
    },
    {
      "cell_type": "code",
      "source": [
        "n_img1 = np.array(img1)\n",
        "plt.imsave(\"grayscale.png\",n_img1)"
      ],
      "metadata": {
        "id": "A8c78W6Atrmk"
      },
      "execution_count": null,
      "outputs": []
    },
    {
      "cell_type": "code",
      "source": [
        "img1 = torch.zeros((2,2,3),dtype=torch.uint8)\n",
        "img1[0,0,0] = 0\n",
        "img1[0,1,0] = 84\n",
        "img1[1,0,0] = 168\n",
        "img1[1,1,0] = 252\n",
        "plt.imshow(img1,cmap='gray')\n",
        "plt.show()\n",
        "n_img1 = np.array(img1)\n",
        "plt.imsave(\"RGB.png\",n_img1)"
      ],
      "metadata": {
        "colab": {
          "base_uri": "https://localhost:8080/",
          "height": 435
        },
        "id": "sjgFnTmcs6Fm",
        "outputId": "a9eb5e80-1e98-4a74-cd0c-2a7eba77bd24"
      },
      "execution_count": null,
      "outputs": [
        {
          "output_type": "display_data",
          "data": {
            "text/plain": [
              "<Figure size 640x480 with 1 Axes>"
            ],
            "image/png": "[encoded data removed]"
          },
          "metadata": {}
        }
      ]
    },
    {
      "cell_type": "code",
      "source": [
        "img2 = torch.ones((8,8,3),dtype=torch.uint8)*220\n",
        "plt.imshow(img2,cmap='gray')\n",
        "plt.show()"
      ],
      "metadata": {
        "colab": {
          "base_uri": "https://localhost:8080/",
          "height": 430
        },
        "id": "uWMFXa4MY9rJ",
        "outputId": "225fc3e8-d61b-42c7-f245-f4910add6e00"
      },
      "execution_count": null,
      "outputs": [
        {
          "output_type": "display_data",
          "data": {
            "text/plain": [
              "<Figure size 640x480 with 1 Axes>"
            ],
            "image/png": "[encoded data removed]"
          },
          "metadata": {}
        }
      ]
    },
    {
      "cell_type": "code",
      "source": [
        "img2[:,:,0] = torch.ones((8,8),dtype=torch.uint8)*255\n",
        "img2[:,:,1] = torch.zeros((8,8),dtype=torch.uint8)\n",
        "img2[:,:,2] = torch.zeros((8,8),dtype=torch.uint8)"
      ],
      "metadata": {
        "id": "e5h9hcQ8Zkld"
      },
      "execution_count": null,
      "outputs": []
    },
    {
      "cell_type": "code",
      "source": [
        "plt.imshow(img2,cmap='gray')"
      ],
      "metadata": {
        "colab": {
          "base_uri": "https://localhost:8080/",
          "height": 447
        },
        "id": "WqPcEAGeZvOq",
        "outputId": "a992d0b0-222d-4261-f623-64996fb92253"
      },
      "execution_count": null,
      "outputs": [
        {
          "output_type": "execute_result",
          "data": {
            "text/plain": [
              "<matplotlib.image.AxesImage at 0x7ff46e86fdf0>"
            ]
          },
          "metadata": {},
          "execution_count": 45
        },
        {
          "output_type": "display_data",
          "data": {
            "text/plain": [
              "<Figure size 640x480 with 1 Axes>"
            ],
            "image/png": "[encoded data removed]"
          },
          "metadata": {}
        }
      ]
    },
    {
      "cell_type": "markdown",
      "source": [
        "green"
      ],
      "metadata": {
        "id": "mh2hB2R4aTu0"
      }
    },
    {
      "cell_type": "code",
      "source": [
        "img2[:,:,0] = torch.ones((8,8),dtype=torch.uint8)*0 #R\n",
        "img2[:,:,1] = torch.ones((8,8),dtype=torch.uint8)*255 #G\n",
        "img2[:,:,2] = torch.ones((8,8),dtype=torch.uint8)*0 #B\n",
        "plt.imshow(img2,cmap='gray')\n",
        "plt.show()"
      ],
      "metadata": {
        "colab": {
          "base_uri": "https://localhost:8080/",
          "height": 430
        },
        "id": "wBI28UVIa_JO",
        "outputId": "1ed82b3c-1900-4e06-9a5c-3ca33d75ec55"
      },
      "execution_count": null,
      "outputs": [
        {
          "output_type": "display_data",
          "data": {
            "text/plain": [
              "<Figure size 640x480 with 1 Axes>"
            ],
            "image/png": "[encoded data removed]"
          },
          "metadata": {}
        }
      ]
    },
    {
      "cell_type": "markdown",
      "source": [
        "green"
      ],
      "metadata": {
        "id": "xDnRQ5UQb2vd"
      }
    },
    {
      "cell_type": "code",
      "source": [
        "img2[:,:,0] = torch.ones((8,8),dtype=torch.uint8)*0 #R\n",
        "img2[:,:,1] = torch.ones((8,8),dtype=torch.uint8)*0 #G\n",
        "img2[:,:,2] = torch.ones((8,8),dtype=torch.uint8)*255 #B\n",
        "plt.imshow(img2,cmap='gray')\n",
        "plt.show()"
      ],
      "metadata": {
        "colab": {
          "base_uri": "https://localhost:8080/",
          "height": 430
        },
        "id": "BY0YrSdgb2U5",
        "outputId": "0947d850-72ab-4acf-ce38-46ad8943fe19"
      },
      "execution_count": null,
      "outputs": [
        {
          "output_type": "display_data",
          "data": {
            "text/plain": [
              "<Figure size 640x480 with 1 Axes>"
            ],
            "image/png": "[encoded data removed]"
          },
          "metadata": {}
        }
      ]
    },
    {
      "cell_type": "markdown",
      "source": [
        "# yellow"
      ],
      "metadata": {
        "id": "S1lHTytjcChn"
      }
    },
    {
      "cell_type": "code",
      "source": [
        "img2[:,:,0] = torch.ones((8,8),dtype=torch.uint8)*255 #R\n",
        "img2[:,:,1] = torch.ones((8,8),dtype=torch.uint8)*255 #G\n",
        "img2[:,:,2] = torch.ones((8,8),dtype=torch.uint8)*0 #B\n",
        "plt.imshow(img2,cmap='gray')\n",
        "plt.show()"
      ],
      "metadata": {
        "colab": {
          "base_uri": "https://localhost:8080/",
          "height": 430
        },
        "id": "ALcku4b8cEO0",
        "outputId": "c2409b49-5c04-42e7-8ea3-69a898c01aa2"
      },
      "execution_count": null,
      "outputs": [
        {
          "output_type": "display_data",
          "data": {
            "text/plain": [
              "<Figure size 640x480 with 1 Axes>"
            ],
            "image/png": "[encoded data removed]"
          },
          "metadata": {}
        }
      ]
    },
    {
      "cell_type": "markdown",
      "source": [
        "# orange"
      ],
      "metadata": {
        "id": "MEcQuqVtcSgu"
      }
    },
    {
      "cell_type": "code",
      "source": [
        "img2[:,:,0] =  torch.ones((8,8),dtype=torch.uint8)*255#R\n",
        "img2[:,:,1] = torch.ones((8,8),dtype=torch.uint8)*128 #G\n",
        "img2[:,:,2] = torch.ones((8,8),dtype=torch.uint8)*0 #B\n",
        "plt.imshow(img2,cmap='gray')\n",
        "plt.show()"
      ],
      "metadata": {
        "colab": {
          "base_uri": "https://localhost:8080/",
          "height": 430
        },
        "id": "R4UeQ4yJcU1K",
        "outputId": "db903033-3d3f-4026-8048-734e7fba27c0"
      },
      "execution_count": null,
      "outputs": [
        {
          "output_type": "display_data",
          "data": {
            "text/plain": [
              "<Figure size 640x480 with 1 Axes>"
            ],
            "image/png": "[encoded data removed]"
          },
          "metadata": {}
        }
      ]
    },
    {
      "cell_type": "markdown",
      "source": [
        "Have a look at various colour charts here [RGB Colour Chart](https://www.rapidtables.com/web/color/RGB_Color.html)"
      ],
      "metadata": {
        "id": "TzRl7bf5aBrV"
      }
    },
    {
      "cell_type": "markdown",
      "source": [
        "Try out some colours"
      ],
      "metadata": {
        "id": "TF5Ri43VkB_4"
      }
    },
    {
      "cell_type": "code",
      "source": [
        "R, G, B = 255,102,178\n",
        "img2[:,:,0] =  torch.ones((8,8),dtype=torch.uint8)*R #R\n",
        "img2[:,:,1] = torch.ones((8,8),dtype=torch.uint8)*G #G\n",
        "img2[:,:,2] = torch.ones((8,8),dtype=torch.uint8)*B #B\n",
        "plt.imshow(img2,cmap='gray')\n",
        "plt.show()"
      ],
      "metadata": {
        "colab": {
          "base_uri": "https://localhost:8080/",
          "height": 430
        },
        "id": "XPaHjoqoaBXH",
        "outputId": "40a784ca-6f55-410d-b025-eb932efca719"
      },
      "execution_count": null,
      "outputs": [
        {
          "output_type": "display_data",
          "data": {
            "text/plain": [
              "<Figure size 640x480 with 1 Axes>"
            ],
            "image/png": "[encoded data removed]"
          },
          "metadata": {}
        }
      ]
    },
    {
      "cell_type": "code",
      "source": [
        "t = torch.tensor([1,2,3])"
      ],
      "metadata": {
        "id": "DUw7A-5aZyRV"
      },
      "execution_count": null,
      "outputs": []
    },
    {
      "cell_type": "code",
      "source": [
        "t.dtype"
      ],
      "metadata": {
        "colab": {
          "base_uri": "https://localhost:8080/"
        },
        "id": "2HeZw0MblVjN",
        "outputId": "2b15bac3-cf3a-4e12-d8a2-268227ca24a6"
      },
      "execution_count": null,
      "outputs": [
        {
          "output_type": "execute_result",
          "data": {
            "text/plain": [
              "torch.int64"
            ]
          },
          "metadata": {},
          "execution_count": 52
        }
      ]
    },
    {
      "cell_type": "code",
      "source": [
        "import torch"
      ],
      "metadata": {
        "id": "xr9LP4PvlXNz"
      },
      "execution_count": null,
      "outputs": []
    },
    {
      "cell_type": "code",
      "source": [
        "import matplotlib.pyplot as plt\n",
        "presentation_img = torch.ones((31,31,3),dtype=torch.uint8)*255\n",
        "plt.imshow(presentation_img)"
      ],
      "metadata": {
        "id": "WrrIBouh20PR",
        "colab": {
          "base_uri": "https://localhost:8080/",
          "height": 447
        },
        "outputId": "1fd164ba-4676-43a3-8079-936beb8a589f"
      },
      "execution_count": null,
      "outputs": [
        {
          "output_type": "execute_result",
          "data": {
            "text/plain": [
              "<matplotlib.image.AxesImage at 0x7ff46e7c27a0>"
            ]
          },
          "metadata": {},
          "execution_count": 54
        },
        {
          "output_type": "display_data",
          "data": {
            "text/plain": [
              "<Figure size 640x480 with 1 Axes>"
            ],
            "image/png": "[encoded data removed]"
          },
          "metadata": {}
        }
      ]
    },
    {
      "cell_type": "code",
      "source": [
        "presentation_img = torch.ones((31,31,3),dtype=torch.uint8)*255\n",
        "\n",
        "#Black outline ears\n",
        "presentation_img[3,10:21,:] = 0\n",
        "\n",
        "presentation_img[4,8:11,:] = 0\n",
        "presentation_img[4,20:23,:] = 0\n",
        "\n",
        "presentation_img[5,11,:] = 0\n",
        "presentation_img[5,19,:] = 0\n",
        "\n",
        "presentation_img[5,6:8,:] = 0\n",
        "presentation_img[5,23:25,:] = 0\n",
        "#presentation_img[5,8:11,:] = 0\n",
        "\n",
        "presentation_img[6,12,:] = 0\n",
        "presentation_img[6,18,:] = 0\n",
        "presentation_img[6,5,:] = 0\n",
        "presentation_img[6,25,:] = 0\n",
        "\n",
        "presentation_img[7,12,:] = 0\n",
        "presentation_img[7,18,:] = 0\n",
        "presentation_img[7,4,:] = 0\n",
        "presentation_img[7,26,:] = 0\n",
        "\n",
        "# presentation_img[8,12,:] = 0\n",
        "# presentation_img[8,18,:] = 0\n",
        "presentation_img[8,4,:] = 0\n",
        "presentation_img[8,26,:] = 0\n",
        "\n",
        "# presentation_img[9,12,:] = 0\n",
        "# presentation_img[9,18,:] = 0\n",
        "presentation_img[9,3,:] = 0\n",
        "presentation_img[9,27,:] = 0\n",
        "\n",
        "# presentation_img[10,12,:] = 0\n",
        "# presentation_img[10,18,:] = 0\n",
        "presentation_img[10,3,:] = 0\n",
        "presentation_img[10,27,:] = 0\n",
        "\n",
        "presentation_img[11:19,3,:] = 0\n",
        "presentation_img[11:19,27,:] = 0\n",
        "\n",
        "presentation_img[19:21,4,:] = 0\n",
        "presentation_img[19:21,26,:] = 0\n",
        "\n",
        "presentation_img[21:23,5:7,:] = 0\n",
        "presentation_img[21:23,24:26,:] = 0\n",
        "\n",
        "presentation_img[23,5,:] = 0\n",
        "presentation_img[23,25,:] = 0\n",
        "\n",
        "presentation_img[19:21,7,:] = 0\n",
        "presentation_img[19:21,23,:] = 0\n",
        "\n",
        "presentation_img[18,8,:] = 0\n",
        "presentation_img[18,22,:] = 0\n",
        "\n",
        "presentation_img[16:25,9,:] = 0\n",
        "presentation_img[16:25,21,:] = 0\n",
        "\n",
        "presentation_img[14:16,10,:] = 0\n",
        "presentation_img[14:16,20,:] = 0\n",
        "\n",
        "presentation_img[24,9:12,:] = 0\n",
        "presentation_img[24,19:21,:] = 0\n",
        "\n",
        "presentation_img[23,12:14,:] = 0\n",
        "presentation_img[23,17:19,:] = 0\n",
        "\n",
        "presentation_img[22,13,:] = 0\n",
        "presentation_img[22,17,:] = 0\n",
        "\n",
        "presentation_img[21,14:17,:] = 0\n",
        "\n",
        "#whiskers\n",
        "presentation_img[21,11,:] = 0\n",
        "presentation_img[21,19,:] = 0\n",
        "\n",
        "presentation_img[20,12,:] = 0\n",
        "presentation_img[20,18,:] = 0\n",
        "\n",
        "presentation_img[19,11,:] = 0\n",
        "presentation_img[19,19,:] = 0\n",
        "\n",
        "#nose\n",
        "presentation_img[14:19,14:17,:] = 0\n",
        "\n",
        "presentation_img[15:19,13,:] = 0\n",
        "presentation_img[15:19,17,:] = 0\n",
        "\n",
        "presentation_img[16:18,12,:] = 0\n",
        "presentation_img[16:18,18,:] = 0\n",
        "\n",
        "#bow tie\n",
        "presentation_img[26:30,12:19,:] = 0\n",
        "presentation_img[27:29,13:18,:] = 64\n",
        "#inner ears\n",
        "\n",
        "\n",
        "\n",
        "\n",
        "#Grey\n",
        "presentation_img[8:13,6:13,:] = 64\n",
        "presentation_img[8:13,19:25,:] = 64\n",
        "\n",
        "#light grey eyes\n",
        "presentation_img[9:12,8:11,:] = 84\n",
        "presentation_img[9:12,20:23,:] = 84\n",
        "\n",
        "#Yellow eyes\n",
        "presentation_img[11,9:11,0],presentation_img[11,9:11,1],presentation_img[11,9:11,2] = 184,134,11\n",
        "presentation_img[11,20:22,0],presentation_img[11,20:22,1],presentation_img[11,20:22,2] = 184,134,11\n",
        "presentation_img[10,10,0],presentation_img[10,10,1],presentation_img[10,10,2] = 184,134,11\n",
        "presentation_img[10,21,0],presentation_img[10,21,1],presentation_img[10,21,2] = 184,134,11\n",
        "presentation_img[10,20,:] = 255\n",
        "presentation_img[10,9,:] = 255\n",
        "\n",
        "#Cyan specs\n",
        "presentation_img[13,7:24,0],presentation_img[13,7:24,1],presentation_img[13,7:24,2] = 0,204,204\n",
        "presentation_img[13,12:19,:] = 255\n",
        "\n",
        "presentation_img[7,19:24,0],presentation_img[7,19:24,1],presentation_img[7,19:24,2] = 0,204,204\n",
        "presentation_img[7,7:12,0],presentation_img[7,7:12,1],presentation_img[7,7:12,2] = 0,204,204\n",
        "presentation_img[7,13:18,:] = 255\n",
        "\n",
        "presentation_img[8:13,6,0],presentation_img[8:13,6,1],presentation_img[8:13,6,2] = 0,204,204\n",
        "presentation_img[8:13,24,0],presentation_img[8:13,24,1],presentation_img[8:13,24,2] = 0,204,204\n",
        "\n",
        "presentation_img[8:13,12:19,0],presentation_img[8:13,12:19,1],presentation_img[8:13,12:19,2] = 0,204,204\n",
        "presentation_img[11:13,13:18,:] = 255\n",
        "presentation_img[10,14:17,:] = 255\n",
        "\n",
        "plt.imshow(presentation_img)\n",
        "plt.show()"
      ],
      "metadata": {
        "colab": {
          "base_uri": "https://localhost:8080/",
          "height": 430
        },
        "id": "KlwPaPYL6dN7",
        "outputId": "022345a2-cad7-4530-a34c-17d371e35d50"
      },
      "execution_count": null,
      "outputs": [
        {
          "output_type": "display_data",
          "data": {
            "text/plain": [
              "<Figure size 640x480 with 1 Axes>"
            ],
            "image/png": "[encoded data removed]"
          },
          "metadata": {}
        }
      ]
    },
    {
      "cell_type": "markdown",
      "source": [
        "## loss of information"
      ],
      "metadata": {
        "id": "3PmFgvHAYr8y"
      }
    },
    {
      "cell_type": "code",
      "source": [
        "from skimage.transform import resize\n",
        "presentation_img_resized = resize(np.array(presentation_img), (8, 8))\n",
        "plt.imshow(presentation_img_resized)\n",
        "plt.show()"
      ],
      "metadata": {
        "id": "sMOzcLXa64k7",
        "colab": {
          "base_uri": "https://localhost:8080/",
          "height": 430
        },
        "outputId": "b508ec2c-edd3-444e-b717-27478c70b595"
      },
      "execution_count": null,
      "outputs": [
        {
          "output_type": "display_data",
          "data": {
            "text/plain": [
              "<Figure size 640x480 with 1 Axes>"
            ],
            "image/png": "[encoded data removed]"
          },
          "metadata": {}
        }
      ]
    },
    {
      "cell_type": "code",
      "source": [],
      "metadata": {
        "id": "hQsymrXavY-V"
      },
      "execution_count": null,
      "outputs": []
    }
  ]
}