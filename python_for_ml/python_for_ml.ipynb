{
  "nbformat": 4,
  "nbformat_minor": 0,
  "metadata": {
    "colab": {
      "provenance": [],
      "gpuType": "T4",
      "authorship_tag": "ABX9TyNkR3erMkI80myeG3TsdtDi",
      "include_colab_link": true
    },
    "kernelspec": {
      "name": "python3",
      "display_name": "Python 3"
    },
    "language_info": {
      "name": "python"
    },
    "accelerator": "GPU"
  },
  "cells": [
    {
      "cell_type": "markdown",
      "metadata": {
        "id": "view-in-github",
        "colab_type": "text"
      },
      "source": [
        "<a href=\"https://colab.research.google.com/github/Yuri-Njathi/python_intro/blob/master/python_for_ml/python_for_ml.ipynb\" target=\"_parent\"><img src=\"https://colab.research.google.com/assets/colab-badge.svg\" alt=\"Open In Colab\"/></a>"
      ]
    },
    {
      "cell_type": "markdown",
      "source": [
        "1. Pandas basics 🐼\n",
        "\n",
        "2. Numpy 🖼 & Tensor basics 🖼,🖼,🖼"
      ],
      "metadata": {
        "id": "OshDAj22_qns"
      }
    },
    {
      "cell_type": "markdown",
      "source": [
        "# 1. Pandas basics 🐼\n",
        "a. Installation\n",
        "\n",
        "```\n",
        "pip install pandas\n",
        "\n",
        "```\n",
        "\n",
        "b. Importing Pandas\n",
        "\n",
        "```\n",
        "import pandas as pd\n",
        "```\n",
        "\n",
        "c. Data Structures : 2 types\n",
        "\n",
        "- Series - 1D labeled array\n",
        "\n",
        "```\n",
        "#create a simple series\n",
        "\n",
        "s = pd.Series([1,3,5,7])\n",
        "\n",
        "print(s)\n",
        "\n",
        "#accessing values\n",
        "\n",
        "print(s[1]) #3\n",
        "```\n",
        "\n",
        "- DataFrame - 2D table with labelled axes (rows, columns).\n",
        "\n",
        "```\n",
        "# simple dataframe\n",
        "data = {'column1':['value1','value2','value3'],'count':[1,2,3]}\n",
        "\n",
        "df = pd.DataFrame(data)\n",
        "\n",
        "print(df)\n",
        "```\n",
        "\n",
        "```\n",
        "# Access columns\n",
        "print(df['column1'])\n",
        "```\n",
        "\n",
        "```\n",
        "#Access rows using loc and iloc\n",
        "print(df.loc[0]) #by label (index)\n",
        "\n",
        "print(df.iloc[1]) #by position\n",
        "```\n",
        "\n",
        "d. Reading Data\n",
        "\n",
        "Supports reading data from various formats such as CSV, Excel,JSON etc\n",
        "\n",
        "```\n",
        "pd.read_csv('.csv') #csv\n",
        "\n",
        "pd.read_excel('.xlsx') #excel\n",
        "\n",
        "pd.read_json('.json') #json\n",
        "\n",
        "```\n",
        "\n",
        "e. Basic Operations on DataFrames\n",
        "\n",
        "```\n",
        "# view dta #\n",
        "df.head() #first 5 rows\n",
        "df.tail() #last 5 rows\n",
        "df.shape\n",
        "df.info() #dataframe summary\n",
        "df.describe()\n",
        "\n",
        "```\n",
        "\n",
        "```\n",
        "# select columns #\n",
        "\n",
        "df['column name'] # single column\n",
        "\n",
        "df[['column 1','column 2']] #multiple columns\n",
        "\n",
        "# selecting rows #\n",
        "\n",
        "df.iloc[0] #first row by position\n",
        "\n",
        "df.loc[0] #first row by index label\n",
        "\n",
        "# filtering rows based on conditions:  #\n",
        "\n",
        "df[df['Age'] > 30]\n",
        "```\n",
        "\n",
        "f. Adding or dropping data\n",
        "\n",
        "```\n",
        "df['new column'] = df['Age'] + 10 # create new column based on another\n",
        "\n",
        "df = df.drop('new column',axis=1) #axis=1 means dropping columns\n",
        "\n",
        "df = df.drop(0) # drops first row\n",
        "\n",
        "## look up inplace ##\n",
        "```\n",
        "\n",
        "g. Handling missing data\n",
        "\n",
        "Pandas makes it easy to handle missing values.\n",
        "\n",
        "```\n",
        "df.isnull().sum() #count missing values in each column\n",
        "\n",
        "df.fillna(0) #replace missing with 0\n",
        "\n",
        "df.dropna()\n",
        "```\n",
        "\n",
        "h. Sorting data by column\n",
        "\n",
        "```\n",
        "df.sort_values(by='Age',ascending=False)\n",
        "```\n",
        "\n",
        "i. Grouping and Aggregation\n",
        "\n",
        "```\n",
        "# Group data #\n",
        "df.groupby('Gender')['Age'].mean() # group by gender and calculate mean of age\n",
        "```\n",
        "\n",
        "j. Merging dataframes\n",
        "\n",
        "```\n",
        "df1 = pd.DataFrame({'ID':[1,2],'Name':['Yuri','Njathi']})\n",
        "df2 = pd.DataFrame({'ID':[1,2,5],'height':[100,120,140]})\n",
        "\n",
        "merge_df = pd.merge(df1,df2,on='ID',how='inner')\n",
        "```\n",
        "\n",
        "k. Pivot Tables (optional)\n",
        "```\n",
        "# Summarize data\n",
        "df.pivot_table(index='Category',columns='SubCategory',values='value',aggfunc='sum')\n",
        "\n",
        "```\n",
        "\n",
        "l. Working with dates (optional)\n",
        "\n",
        "handle date and time effectively\n",
        "\n",
        "```\n",
        "df['Date'] = pd.to_datetime(df['Date']) #convert column to datetime\n",
        "\n",
        "df['Year'] = df['Date'].df.year #extract specific components\n",
        "df['Month'] = df['Date'].df.month\n",
        "\n",
        "```\n",
        "\n",
        "m. Writing dataframes to files\n",
        "\n",
        "```\n",
        "df.to_csv('output.csv', index=False)\n",
        "\n",
        "df.to_excel('output.xlsx',index=False)\n",
        "```\n",
        "n. Advanced features\n",
        "```\n",
        "df['new column'] = df['Age'].apply(lambda x:x*2) #Apply function\n",
        "\n",
        "df['Name'].str.upper()\n",
        "\n",
        "```"
      ],
      "metadata": {
        "id": "awPqdegiBF8K"
      }
    },
    {
      "cell_type": "markdown",
      "source": [
        "## 2. Numpy 🖼 & Tensor basics 🖼,🖼,🖼\n",
        "\n",
        "NumPy works with arrays, matrices and numerical operations\n",
        "\n",
        "Torch tensors are similar to arrays but have additional capabilities such as GPUs and automatic differentiation\n",
        "\n"
      ],
      "metadata": {
        "id": "5nTJxLyINfBJ"
      }
    },
    {
      "cell_type": "markdown",
      "source": [
        "a. Installation"
      ],
      "metadata": {
        "id": "h4xUiYrXpq-A"
      }
    },
    {
      "cell_type": "code",
      "execution_count": 1,
      "metadata": {
        "id": "J72P_2V4_imL",
        "colab": {
          "base_uri": "https://localhost:8080/"
        },
        "outputId": "08e36e38-66f1-432b-ee56-dccbcdda7739"
      },
      "outputs": [
        {
          "output_type": "stream",
          "name": "stdout",
          "text": [
            "Requirement already satisfied: numpy in /usr/local/lib/python3.10/dist-packages (1.26.4)\n",
            "Requirement already satisfied: torch in /usr/local/lib/python3.10/dist-packages (2.4.1+cu121)\n",
            "Requirement already satisfied: filelock in /usr/local/lib/python3.10/dist-packages (from torch) (3.16.1)\n",
            "Requirement already satisfied: typing-extensions>=4.8.0 in /usr/local/lib/python3.10/dist-packages (from torch) (4.12.2)\n",
            "Requirement already satisfied: sympy in /usr/local/lib/python3.10/dist-packages (from torch) (1.13.3)\n",
            "Requirement already satisfied: networkx in /usr/local/lib/python3.10/dist-packages (from torch) (3.3)\n",
            "Requirement already satisfied: jinja2 in /usr/local/lib/python3.10/dist-packages (from torch) (3.1.4)\n",
            "Requirement already satisfied: fsspec in /usr/local/lib/python3.10/dist-packages (from torch) (2024.6.1)\n",
            "Requirement already satisfied: MarkupSafe>=2.0 in /usr/local/lib/python3.10/dist-packages (from jinja2->torch) (2.1.5)\n",
            "Requirement already satisfied: mpmath<1.4,>=1.1.0 in /usr/local/lib/python3.10/dist-packages (from sympy->torch) (1.3.0)\n"
          ]
        }
      ],
      "source": [
        "pip install numpy torch"
      ]
    },
    {
      "cell_type": "markdown",
      "source": [
        "b. Import NumPy and Torch"
      ],
      "metadata": {
        "id": "joN_U5SSqDiY"
      }
    },
    {
      "cell_type": "code",
      "source": [
        "import numpy as np\n",
        "import torch"
      ],
      "metadata": {
        "id": "KcGz5b6Bpu8F"
      },
      "execution_count": 2,
      "outputs": []
    },
    {
      "cell_type": "markdown",
      "source": [
        "c. Instantiating numpy arrays and tensors\n",
        "\n",
        "- from a list\n",
        "- from a list of lists to multidimentional tensors\n",
        "- using build-in functions"
      ],
      "metadata": {
        "id": "rowFu06qqSgw"
      }
    },
    {
      "cell_type": "code",
      "source": [
        "#from list\n",
        "#numpy\n",
        "n = np.array([1,2,3])\n",
        "#tensors\n",
        "t = torch.tensor([1,2,3])\n",
        "print(n,t)"
      ],
      "metadata": {
        "colab": {
          "base_uri": "https://localhost:8080/"
        },
        "id": "iQ5AQd6aqNRn",
        "outputId": "811fe8e0-ff8d-45dc-af19-bff899f1d650"
      },
      "execution_count": 3,
      "outputs": [
        {
          "output_type": "stream",
          "name": "stdout",
          "text": [
            "[1 2 3] tensor([1, 2, 3])\n"
          ]
        }
      ]
    },
    {
      "cell_type": "code",
      "source": [
        "#from a list of lists to multidimentional tensors\n",
        "l_of_l = [[1,2],[3,4],[5,6]]\n",
        "arr_2d, tensor_2d = np.array(l_of_l), torch.tensor(l_of_l)\n",
        "print(arr_2d, tensor_2d)"
      ],
      "metadata": {
        "colab": {
          "base_uri": "https://localhost:8080/"
        },
        "id": "uJQOrTS6rR08",
        "outputId": "4b5c525b-1f14-4f57-ba2b-c1efb7f65388"
      },
      "execution_count": 4,
      "outputs": [
        {
          "output_type": "stream",
          "name": "stdout",
          "text": [
            "[[1 2]\n",
            " [3 4]\n",
            " [5 6]] tensor([[1, 2],\n",
            "        [3, 4],\n",
            "        [5, 6]])\n"
          ]
        }
      ]
    },
    {
      "cell_type": "code",
      "source": [
        "#using build-in functions\n",
        "#numpy and torch\n",
        "n_zeros, t_zeros = np.zeros((2,3)), torch.zeros((2,3)) #2x3 array of zeros\n",
        "print(n_zeros, t_zeros)"
      ],
      "metadata": {
        "colab": {
          "base_uri": "https://localhost:8080/"
        },
        "id": "fl_XWSujsVRS",
        "outputId": "236a7056-b003-4f4b-90f0-dc6f4cc051b8"
      },
      "execution_count": 5,
      "outputs": [
        {
          "output_type": "stream",
          "name": "stdout",
          "text": [
            "[[0. 0. 0.]\n",
            " [0. 0. 0.]] tensor([[0., 0., 0.],\n",
            "        [0., 0., 0.]])\n"
          ]
        }
      ]
    },
    {
      "cell_type": "code",
      "source": [
        "n_ones, t_ones = np.ones((2,3)), torch.ones((2,3)) #2x3 array of ones\n",
        "print(n_ones, t_ones)"
      ],
      "metadata": {
        "colab": {
          "base_uri": "https://localhost:8080/"
        },
        "id": "TWNtfmMxs7le",
        "outputId": "89e05dea-1736-47aa-affa-dd7fae815376"
      },
      "execution_count": 6,
      "outputs": [
        {
          "output_type": "stream",
          "name": "stdout",
          "text": [
            "[[1. 1. 1.]\n",
            " [1. 1. 1.]] tensor([[1., 1., 1.],\n",
            "        [1., 1., 1.]])\n"
          ]
        }
      ]
    },
    {
      "cell_type": "code",
      "source": [
        "n_arange , t_arange = np.arange(0,10,2), torch.arange(0,10,2) # [0,2,4,6,8]\n",
        "print(n_arange , t_arange)"
      ],
      "metadata": {
        "colab": {
          "base_uri": "https://localhost:8080/"
        },
        "id": "j1qcOIdDuV1E",
        "outputId": "8b9753df-df06-45ad-dadf-20aa89f3eafe"
      },
      "execution_count": 7,
      "outputs": [
        {
          "output_type": "stream",
          "name": "stdout",
          "text": [
            "[0 2 4 6 8] tensor([0, 2, 4, 6, 8])\n"
          ]
        }
      ]
    },
    {
      "cell_type": "code",
      "source": [
        "n_linspace, t_linspace = np.linspace(0,1,5), torch.linspace(0,1,5) #5 vlaues equally btwn 0 and 1\n",
        "print(n_linspace, t_linspace)"
      ],
      "metadata": {
        "colab": {
          "base_uri": "https://localhost:8080/"
        },
        "id": "R-FQKnutuYIX",
        "outputId": "1e43463e-1f18-4beb-f658-33d9acf3ec6f"
      },
      "execution_count": 8,
      "outputs": [
        {
          "output_type": "stream",
          "name": "stdout",
          "text": [
            "[0.   0.25 0.5  0.75 1.  ] tensor([0.0000, 0.2500, 0.5000, 0.7500, 1.0000])\n"
          ]
        }
      ]
    },
    {
      "cell_type": "markdown",
      "source": [
        "## Array operations\n",
        "\n",
        "numpy and torch allow element-wise operations"
      ],
      "metadata": {
        "id": "3XRpwK2Puioz"
      }
    },
    {
      "cell_type": "code",
      "source": [
        "n_a, t_a = np.array([1,2,3]), torch.tensor([1,2,3])\n",
        "\n",
        "n_b, t_b = np.array([4,5,6]), torch.tensor([4,5,6])\n",
        "\n",
        "print(n_a,n_b,'\\n',t_a,t_b)"
      ],
      "metadata": {
        "colab": {
          "base_uri": "https://localhost:8080/"
        },
        "id": "5B9ENXl5uZVm",
        "outputId": "296bfa85-9f9a-4190-9124-a419b1c08b16"
      },
      "execution_count": 9,
      "outputs": [
        {
          "output_type": "stream",
          "name": "stdout",
          "text": [
            "[1 2 3] [4 5 6] \n",
            " tensor([1, 2, 3]) tensor([4, 5, 6])\n"
          ]
        }
      ]
    },
    {
      "cell_type": "code",
      "source": [
        "#Arithmetic\n",
        "print('Numpy addition :',n_a + n_b,'\\nTensor addition :',t_a + t_b) # [5 7 9]\n",
        "\n",
        "print('\\nNumpy multiplication :',n_a * n_b,'\\nTensor multiplication :',t_a * t_b) # [4 10 18]\n",
        "\n",
        "print('\\nNumpy division :',n_a / n_b,'\\nTensor division :',t_a / t_b) # [0.25 0.4 0.5]"
      ],
      "metadata": {
        "colab": {
          "base_uri": "https://localhost:8080/"
        },
        "id": "IwUZxBJnva8E",
        "outputId": "f1f7af21-de06-40db-86c6-60a767352835"
      },
      "execution_count": 10,
      "outputs": [
        {
          "output_type": "stream",
          "name": "stdout",
          "text": [
            "Numpy addition : [5 7 9] \n",
            "Tensor addition : tensor([5, 7, 9])\n",
            "\n",
            "Numpy multiplication : [ 4 10 18] \n",
            "Tensor multiplication : tensor([ 4, 10, 18])\n",
            "\n",
            "Numpy division : [0.25 0.4  0.5 ] \n",
            "Tensor division : tensor([0.2500, 0.4000, 0.5000])\n"
          ]
        }
      ]
    },
    {
      "cell_type": "code",
      "source": [
        "#Math functions\n",
        "print(\"Square root : \",np.sqrt(n_a),torch.sqrt(t_a))\n",
        "\n",
        "print(\"\\nSum : \",np.sum(n_a),torch.sum(t_a))\n",
        "\n",
        "print(\"\\nMean : \",np.mean(n_a),torch.mean(t_a.float()))"
      ],
      "metadata": {
        "colab": {
          "base_uri": "https://localhost:8080/"
        },
        "id": "HUTCZLBJv_uZ",
        "outputId": "e68d5299-5e2e-4cbc-f94c-afccd3180420"
      },
      "execution_count": 11,
      "outputs": [
        {
          "output_type": "stream",
          "name": "stdout",
          "text": [
            "Square root :  [1.         1.41421356 1.73205081] tensor([1.0000, 1.4142, 1.7321])\n",
            "\n",
            "Sum :  6 tensor(6)\n",
            "\n",
            "Mean :  2.0 tensor(2.)\n"
          ]
        }
      ]
    },
    {
      "cell_type": "markdown",
      "source": [
        "indexing, slicing and 2D arrays"
      ],
      "metadata": {
        "id": "v6-n65ffyglq"
      }
    },
    {
      "cell_type": "code",
      "source": [
        "#indexing\n",
        "n_arr, t_tensor = np.array([1,2,3,4,5,6]), torch.tensor([1,2,3,4,5,6])\n",
        "print(n_arr[0],t_tensor[0])"
      ],
      "metadata": {
        "colab": {
          "base_uri": "https://localhost:8080/"
        },
        "id": "7y332umrxcl8",
        "outputId": "caffee44-300f-492f-82cb-4a63d4c8275d"
      },
      "execution_count": 12,
      "outputs": [
        {
          "output_type": "stream",
          "name": "stdout",
          "text": [
            "1 tensor(1)\n"
          ]
        }
      ]
    },
    {
      "cell_type": "code",
      "source": [
        "#slicing\n",
        "print(n_arr[1:4],t_tensor[1:4])"
      ],
      "metadata": {
        "colab": {
          "base_uri": "https://localhost:8080/"
        },
        "id": "ecFNg-inzLEn",
        "outputId": "902e1fc3-c368-4e0a-bf74-14b30a1f55aa"
      },
      "execution_count": 13,
      "outputs": [
        {
          "output_type": "stream",
          "name": "stdout",
          "text": [
            "[2 3 4] tensor([2, 3, 4])\n"
          ]
        }
      ]
    },
    {
      "cell_type": "code",
      "source": [
        "print(n_arr[::2],t_tensor[::2])"
      ],
      "metadata": {
        "colab": {
          "base_uri": "https://localhost:8080/"
        },
        "id": "f9u_yV1Ozd6u",
        "outputId": "413dc691-176a-47e0-83d4-297e98685d25"
      },
      "execution_count": 14,
      "outputs": [
        {
          "output_type": "stream",
          "name": "stdout",
          "text": [
            "[1 3 5] tensor([1, 3, 5])\n"
          ]
        }
      ]
    },
    {
      "cell_type": "code",
      "source": [
        "#2D arrays/matrices\n",
        "arr_2d , tensor_2d = np.array([[1,2,3],[4,5,6],[7,8,9]]), torch.tensor([[1,2,3],[4,5,6],[7,8,9]])\n",
        "\n",
        "print(arr_2d[1,2], tensor_2d[1,2]) #row 1, column 2\n",
        "\n",
        "print(arr_2d[:,0], tensor_2d[:,0]) #first column"
      ],
      "metadata": {
        "colab": {
          "base_uri": "https://localhost:8080/"
        },
        "id": "MVGnFtm5zuhV",
        "outputId": "96077734-6a96-4c4f-a229-27fadd5dabeb"
      },
      "execution_count": 15,
      "outputs": [
        {
          "output_type": "stream",
          "name": "stdout",
          "text": [
            "6 tensor(6)\n",
            "[1 4 7] tensor([1, 4, 7])\n"
          ]
        }
      ]
    },
    {
      "cell_type": "markdown",
      "source": [
        "### Array reshaping"
      ],
      "metadata": {
        "id": "LIda-2CI1ahu"
      }
    },
    {
      "cell_type": "code",
      "source": [
        "arr,tensor = np.array([[1,2,3],[4,5,6]]),torch.tensor([[1,2,3],[4,5,6]])\n",
        "\n",
        "print(\"Reshape : \",arr.reshape(3,2),'\\n',tensor.view(3,2))#reshape(3,2))"
      ],
      "metadata": {
        "colab": {
          "base_uri": "https://localhost:8080/"
        },
        "id": "QD3h5iqY0wbJ",
        "outputId": "47a79762-6104-4266-d6d0-be63bf3398ad"
      },
      "execution_count": 16,
      "outputs": [
        {
          "output_type": "stream",
          "name": "stdout",
          "text": [
            "Reshape :  [[1 2]\n",
            " [3 4]\n",
            " [5 6]] \n",
            " tensor([[1, 2],\n",
            "        [3, 4],\n",
            "        [5, 6]])\n"
          ]
        }
      ]
    },
    {
      "cell_type": "markdown",
      "source": [
        "Transposing"
      ],
      "metadata": {
        "id": "o3-pmcH53A-Q"
      }
    },
    {
      "cell_type": "code",
      "source": [
        "arr.T"
      ],
      "metadata": {
        "colab": {
          "base_uri": "https://localhost:8080/"
        },
        "id": "po2JEaoJ2IaZ",
        "outputId": "588d2613-f7df-4880-a696-2a8af1663bb7"
      },
      "execution_count": 17,
      "outputs": [
        {
          "output_type": "execute_result",
          "data": {
            "text/plain": [
              "array([[1, 4],\n",
              "       [2, 5],\n",
              "       [3, 6]])"
            ]
          },
          "metadata": {},
          "execution_count": 17
        }
      ]
    },
    {
      "cell_type": "code",
      "source": [
        "tensor.T"
      ],
      "metadata": {
        "colab": {
          "base_uri": "https://localhost:8080/"
        },
        "id": "2ROz1VfK2-uH",
        "outputId": "e10a8473-560f-4325-f887-7da04aa40b2e"
      },
      "execution_count": 18,
      "outputs": [
        {
          "output_type": "execute_result",
          "data": {
            "text/plain": [
              "tensor([[1, 4],\n",
              "        [2, 5],\n",
              "        [3, 6]])"
            ]
          },
          "metadata": {},
          "execution_count": 18
        }
      ]
    },
    {
      "cell_type": "markdown",
      "source": [
        "## Random arrays and tensors"
      ],
      "metadata": {
        "id": "84La33Zf3JGI"
      }
    },
    {
      "cell_type": "code",
      "source": [
        "n_rand, t_rand = np.random.rand(3,2),torch.rand(3,2)\n",
        "print(n_rand,'\\n\\n',t_rand)"
      ],
      "metadata": {
        "colab": {
          "base_uri": "https://localhost:8080/"
        },
        "id": "EECYdJUz3Efi",
        "outputId": "e5d9fa70-919e-4a26-8796-8bbf71dd2596"
      },
      "execution_count": 19,
      "outputs": [
        {
          "output_type": "stream",
          "name": "stdout",
          "text": [
            "[[0.06456617 0.06539721]\n",
            " [0.68494241 0.49279963]\n",
            " [0.6786188  0.01347687]] \n",
            "\n",
            " tensor([[0.4625, 0.0312],\n",
            "        [0.8097, 0.9764],\n",
            "        [0.5198, 0.9463]])\n"
          ]
        }
      ]
    },
    {
      "cell_type": "code",
      "source": [
        "n_rand, t_rand = np.random.randn(3,2),torch.randn(3,2) #normal distribution\n",
        "print(n_rand,'\\n\\n',t_rand)"
      ],
      "metadata": {
        "colab": {
          "base_uri": "https://localhost:8080/"
        },
        "id": "a0wLHvfg3YwQ",
        "outputId": "92a37622-ec38-499b-a033-ae6ddb3c80d2"
      },
      "execution_count": 20,
      "outputs": [
        {
          "output_type": "stream",
          "name": "stdout",
          "text": [
            "[[ 0.84616778 -0.7121355 ]\n",
            " [-0.14440635  1.08120263]\n",
            " [-0.1732879  -0.94086885]] \n",
            "\n",
            " tensor([[-1.1997,  0.5570],\n",
            "        [ 2.0523, -0.8392],\n",
            "        [ 2.0337, -0.1858]])\n"
          ]
        }
      ]
    },
    {
      "cell_type": "markdown",
      "source": [
        "## Automatic Differentiation (Tensor Specific)\n",
        "\n",
        "One of pytorch's powerful features is automatic differentiation, essential for deep learning\n",
        "\n"
      ],
      "metadata": {
        "id": "wUhDR8pd4UcN"
      }
    },
    {
      "cell_type": "code",
      "source": [
        "# Creating a tensor with gradients\n",
        "x = torch.tensor(3.0,requires_grad=True)\n",
        "y = x**2\n",
        "y.backward() #Compute the gradient of y wrt x\n",
        "print(x.grad) #gradient = dy/dx"
      ],
      "metadata": {
        "colab": {
          "base_uri": "https://localhost:8080/"
        },
        "id": "48zNc25g4Aww",
        "outputId": "5c807370-4106-41b0-d838-559d5ac551aa"
      },
      "execution_count": 21,
      "outputs": [
        {
          "output_type": "stream",
          "name": "stdout",
          "text": [
            "tensor(6.)\n"
          ]
        }
      ]
    },
    {
      "cell_type": "markdown",
      "source": [
        "## Moving Tensors to GPU (Tensor Specific)"
      ],
      "metadata": {
        "id": "W2kvAIdR5cC6"
      }
    },
    {
      "cell_type": "code",
      "source": [
        "if torch.cuda.is_available():\n",
        "  t_gpu = t.to('cuda')\n",
        "  print(t_gpu)"
      ],
      "metadata": {
        "colab": {
          "base_uri": "https://localhost:8080/"
        },
        "id": "-FGaKA6C5CpR",
        "outputId": "aa6f05ee-b051-47c2-bad7-2bdeefbc2fc7"
      },
      "execution_count": 22,
      "outputs": [
        {
          "output_type": "stream",
          "name": "stdout",
          "text": [
            "tensor([1, 2, 3], device='cuda:0')\n"
          ]
        }
      ]
    },
    {
      "cell_type": "code",
      "source": [],
      "metadata": {
        "id": "XadCJwwy5xpU"
      },
      "execution_count": 22,
      "outputs": []
    }
  ]
}