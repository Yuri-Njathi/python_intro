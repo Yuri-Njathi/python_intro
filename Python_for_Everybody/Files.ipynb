{
 "cells": [
  {
   "cell_type": "code",
   "execution_count": 1,
   "metadata": {},
   "outputs": [],
   "source": [
    "#this is a notebook trying to bring understanding to chapter 7 : Files."
   ]
  },
  {
   "cell_type": "code",
   "execution_count": 2,
   "metadata": {},
   "outputs": [
    {
     "data": {
      "text/plain": [
       "'\\nFiles are secondary memory, they are not erased when power is turned off.\\nWe focus on reading and writing text files.\\nLater we will see how to work with database files which are binary files , designed to be read and written through database software.\\n'"
      ]
     },
     "execution_count": 2,
     "metadata": {},
     "output_type": "execute_result"
    }
   ],
   "source": [
    "'''\n",
    "Files are secondary memory, they are not erased when power is turned off.\n",
    "We focus on reading and writing text files.\n",
    "Later we will see how to work with database files which are binary files , designed to be read and written through database software.\n",
    "'''"
   ]
  },
  {
   "cell_type": "code",
   "execution_count": 6,
   "metadata": {},
   "outputs": [
    {
     "name": "stdout",
     "output_type": "stream",
     "text": [
      "<_io.TextIOWrapper name='mbox.txt' mode='r' encoding='UTF-8'>\n"
     ]
    },
    {
     "ename": "FileNotFoundError",
     "evalue": "[Errno 2] No such file or directory: 'non-exist.txt'",
     "output_type": "error",
     "traceback": [
      "\u001b[0;31m----------------------------------------------------------------------\u001b[0m",
      "\u001b[0;31mFileNotFoundError\u001b[0m                    Traceback (most recent call last)",
      "\u001b[0;32m<ipython-input-6-2997f7a80fbd>\u001b[0m in \u001b[0;36m<module>\u001b[0;34m\u001b[0m\n\u001b[1;32m     17\u001b[0m \u001b[0;31m#a non-existent file.\u001b[0m\u001b[0;34m\u001b[0m\u001b[0;34m\u001b[0m\u001b[0;34m\u001b[0m\u001b[0m\n\u001b[1;32m     18\u001b[0m \u001b[0mfhand\u001b[0m \u001b[0;34m=\u001b[0m \u001b[0;34m(\u001b[0m\u001b[0;34m'non-exist.txt'\u001b[0m\u001b[0;34m)\u001b[0m\u001b[0;34m\u001b[0m\u001b[0;34m\u001b[0m\u001b[0m\n\u001b[0;32m---> 19\u001b[0;31m \u001b[0mopen\u001b[0m\u001b[0;34m(\u001b[0m\u001b[0mfhand\u001b[0m\u001b[0;34m)\u001b[0m\u001b[0;34m\u001b[0m\u001b[0;34m\u001b[0m\u001b[0m\n\u001b[0m\u001b[1;32m     20\u001b[0m \u001b[0;31m#(just in case we'll be using try and except)\u001b[0m\u001b[0;34m\u001b[0m\u001b[0;34m\u001b[0m\u001b[0;34m\u001b[0m\u001b[0m\n",
      "\u001b[0;31mFileNotFoundError\u001b[0m: [Errno 2] No such file or directory: 'non-exist.txt'"
     ]
    }
   ],
   "source": [
    "#7.2 Opening files.\n",
    "'''\n",
    "When you open a file, the os will find it by name and make sure it exists.\n",
    "we'll open mbox.txt (download it at this link : \n",
    "[mbox.txt](http://www.py4e.com/code3/mbox.txt)\n",
    "'''\n",
    "#existing file\n",
    "fhand = open('mbox.txt')\n",
    "print(fhand)\n",
    "'''\n",
    "If file opening is successful the os returns a file handle.\n",
    "The file handle is not the data contained in the file but instead it is a 'hanlde' that\n",
    "we can use to read the data.\n",
    "\n",
    "#this handle tells us that the file exists and you have proper permissions to read the file.\n",
    "'''\n",
    "#a non-existent file.\n",
    "fhand = ('non-exist.txt')\n",
    "open(fhand)\n",
    "#(just in case we'll be using try and except)"
   ]
  },
  {
   "cell_type": "code",
   "execution_count": null,
   "metadata": {},
   "outputs": [],
   "source": [
    "#7.3 Test files and lines.\n",
    "'''\n",
    "A text file is a sequence of lines\n",
    "A Python string is a sequence of characters.\n",
    "'''"
   ]
  }
 ],
 "metadata": {
  "kernelspec": {
   "display_name": "Python 3",
   "language": "python",
   "name": "python3"
  },
  "language_info": {
   "codemirror_mode": {
    "name": "ipython",
    "version": 3
   },
   "file_extension": ".py",
   "mimetype": "text/x-python",
   "name": "python",
   "nbconvert_exporter": "python",
   "pygments_lexer": "ipython3",
   "version": "3.7.3"
  }
 },
 "nbformat": 4,
 "nbformat_minor": 2
}
