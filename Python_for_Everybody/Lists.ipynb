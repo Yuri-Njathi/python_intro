{
 "cells": [
  {
   "cell_type": "code",
   "execution_count": 1,
   "metadata": {},
   "outputs": [],
   "source": [
    "#Lists tutorial"
   ]
  },
  {
   "cell_type": "code",
   "execution_count": 25,
   "metadata": {},
   "outputs": [
    {
     "name": "stdout",
     "output_type": "stream",
     "text": [
      "['element1', 'element2']\n"
     ]
    }
   ],
   "source": [
    "#8.1 - A list is a sequence.\n",
    "#A list is a sequence of values\n",
    "#values in a list are called elements.\n",
    "#values are separated by commas.\n",
    "\n",
    "listname = [\"element1\", \"element2\" ]\n",
    "#elements can be : ints, strings,floats or lists.\n",
    "#yes a list can exist within a list.\n",
    "#a list within a list is called a nested list.\n",
    "[\"element\",2,\"string\",[\"nested list element 1\",\"nested list element2\"]]\n",
    "\n",
    "\n",
    "emptylist = []\n",
    "print(listname)\n",
    "\n",
    "numbers = [1,2]"
   ]
  },
  {
   "cell_type": "code",
   "execution_count": 26,
   "metadata": {},
   "outputs": [
    {
     "name": "stdout",
     "output_type": "stream",
     "text": [
      "Before :  ['Bob', 'Grace', 'Shirleen']\n",
      "After :  ['Bob', 'Grace', 'George']\n",
      "George\n",
      "Reverse :\n",
      "-1  :  George\n",
      "-2  :  Grace\n",
      "-3  :  Bob\n",
      "False\n",
      "True\n"
     ]
    }
   ],
   "source": [
    "#8.2 - Lists are mutable\n",
    "### lists , like strings can be accessed using an index in square brackets.\n",
    "####lists are mutable means the order of elements can change or elements can be reassigned values in a list.\n",
    "#example\n",
    "names = [\"Bob\",\"Grace\",\"Shirleen\"]\n",
    "print(\"Before : \",names)\n",
    "names[2] = \"George\"\n",
    "print(\"After : \",names)\n",
    "\n",
    "#if you try to read or write an element that doesnt exist, you get an IndexError.\n",
    "print(names[int(len(names)-1)]) #0 and +1 will error, -1 gives George.\n",
    "#A negative index value counts the list backward, the last being -1 and first(0) being lastint.\n",
    "#therefore names[-1] will be George\n",
    "j = -1\n",
    "print(\"Reverse :\")\n",
    "for name in names:\n",
    "    print(j,\" : \",names[j])\n",
    "    j =j-1\n",
    "\n",
    "\n",
    "#The in operator also works on lists:\n",
    "print(\"Gerishom\" in names) #false\n",
    "print(\"Bob\" in names) #true"
   ]
  },
  {
   "cell_type": "code",
   "execution_count": 33,
   "metadata": {},
   "outputs": [
    {
     "name": "stdout",
     "output_type": "stream",
     "text": [
      "Bob\n",
      "Grace\n",
      "George\n",
      "64 then\n",
      "128\n",
      "128 then\n",
      "256\n"
     ]
    }
   ],
   "source": [
    "#8.3 - Traversing a list.\n",
    "#1 for _ in _s loop (most common , read only)\n",
    "for name in names:\n",
    "    print(name)\n",
    "    i = 0\n",
    "#2 for _ in range(len(listname)): #common #read,write and update\n",
    "for i in range(len(numbers)):\n",
    "    print(numbers[i], \"then\")\n",
    "    numbers[i] = numbers[i] * 2\n",
    "    print(numbers[i])\n",
    "    \n",
    "#a for loop over an empty list never executes the body.\n",
    "for x in emptylist:\n",
    "    print(\"This never prints\")\n",
    "    \n",
    "#the length of a list containing a nested list is same if nested list was str or int, ie a nested list counts as one element.\n"
   ]
  },
  {
   "cell_type": "code",
   "execution_count": 38,
   "metadata": {},
   "outputs": [
    {
     "data": {
      "text/plain": [
       "[1, 2, 3, 1, 2, 3]"
      ]
     },
     "execution_count": 38,
     "metadata": {},
     "output_type": "execute_result"
    }
   ],
   "source": [
    "#8.4 -List Operations\n",
    "# + operator concatenates lists : \n",
    "a = [10]\n",
    "b = [20]\n",
    "a + b\n",
    "\n",
    "\n",
    "# * operator repeats a list a given number of times:\n",
    "[0] * 5\n",
    "[1,2,3] * 2 #type list."
   ]
  },
  {
   "cell_type": "code",
   "execution_count": 41,
   "metadata": {},
   "outputs": [
    {
     "name": "stdout",
     "output_type": "stream",
     "text": [
      "['a', 'x', 'Y', 'd', 'e', 'f']\n"
     ]
    }
   ],
   "source": [
    "#8.5 List slicing.\n",
    "#slice operator also works on lists :\n",
    "t = ['a','b','c']\n",
    "t[1:3]\n",
    "t[:]\n",
    "#if you omit the first index , the slice starts at the beginning.\n",
    "#if you omit the second , the slice goes to the end.\n",
    "#if you omit both, the slice is a copy of the whole list.\n",
    "\n",
    "\n",
    "#since lists are mutable, it is often useful to make a copy before performing operations that fold , spindle or mutilate lists.\n",
    "#a slice operator on the left side of an assignment can update multiple elements:\n",
    "t = ['a','b','c','d','e','f']\n",
    "t[1:3]=['x','Y']\n",
    "print(t)"
   ]
  },
  {
   "cell_type": "code",
   "execution_count": 55,
   "metadata": {},
   "outputs": [
    {
     "name": "stdout",
     "output_type": "stream",
     "text": [
      "['a', 'b', 'c', 'd']\n",
      "Before extend t1 :  ['a', 'b', 'c']\n",
      "After extend t1 : ['a', 'b', 'c', 'd', 'e']\n",
      "t2: ['d', 'e']\n",
      "Sort t ['a', 'b', 'd', 'e']\n"
     ]
    }
   ],
   "source": [
    "#8.6 List methods\n",
    "#python provides methods that operate on lists: I think this means that lists are part of a class.\n",
    "t = ['a','b','c']\n",
    "t.append('d')\n",
    "print(t)\n",
    "#extend takes a list as an argument and appends all the elements:\n",
    "t1 = ['a','b','c']\n",
    "t2 = ['d','e']\n",
    "print(\"Before extend t1 : \",t1)\n",
    "t1.extend(t2)\n",
    "print('After extend t1 :',t1)\n",
    "print('t2:',t2)\n",
    "#t2 remains unmodified\n",
    "\n",
    "\n",
    "#method sort arranges the elements of the list from low to high.\n",
    "t = ['d','e','b','a',]\n",
    "t.sort()\n",
    "print(\"Sort t\",t)\n",
    "\n",
    "#most list methodsare void ,they modify the list and return void."
   ]
  },
  {
   "cell_type": "code",
   "execution_count": 62,
   "metadata": {},
   "outputs": [
    {
     "name": "stdout",
     "output_type": "stream",
     "text": [
      "t : ['a', 'c']\n",
      "x : b\n",
      "['a', 'b']\n",
      "t :  ['a', 'c']\n",
      "Del index t : ['a']\n"
     ]
    }
   ],
   "source": [
    "#8.7 Deleting elements:\n",
    "#there are several ways to delete elements from a list:\n",
    "#Given a known index of the element you want, you can use #pop:\n",
    "#POP is even used in assembly programming of 8085 microprocessor.\n",
    "t = ['a','b','c']\n",
    "x = t.pop(1)\n",
    "print('t :',t)\n",
    "print('x :',x) #pop actuall tranfers the deleted element to a variable given certain organization.\n",
    "\n",
    "#pop modifies the list and returns the elements that was removed.\n",
    "#If you don't provide an index , it delets and returns the last element.\n",
    "\n",
    "#Given you dont need the removed value, you can use the del operator:\n",
    "t = ['a','b','c']\n",
    "del t[2]#use index\n",
    "print(t)\n",
    "\n",
    "\n",
    "#If you know the element you want to remove (but not index), you can use remove\n",
    "t = ['a','b','c']\n",
    "t.remove('b') #has null return.\n",
    "print('t : ',t)\n",
    "\n",
    "#To remove more than one element, you can use del with a slice index:\n",
    "t = ['a','b','c','d','e']\n",
    "del t[1:5]\n",
    "print(\"Del index t :\",t)\n",
    "\n"
   ]
  },
  {
   "cell_type": "code",
   "execution_count": null,
   "metadata": {},
   "outputs": [],
   "source": []
  }
 ],
 "metadata": {
  "kernelspec": {
   "display_name": "Python 3",
   "language": "python",
   "name": "python3"
  },
  "language_info": {
   "codemirror_mode": {
    "name": "ipython",
    "version": 3
   },
   "file_extension": ".py",
   "mimetype": "text/x-python",
   "name": "python",
   "nbconvert_exporter": "python",
   "pygments_lexer": "ipython3",
   "version": "3.7.3"
  }
 },
 "nbformat": 4,
 "nbformat_minor": 2
}
