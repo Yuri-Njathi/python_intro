{
 "cells": [
  {
   "cell_type": "code",
   "execution_count": 1,
   "metadata": {},
   "outputs": [],
   "source": [
    "#Lists tutorial"
   ]
  },
  {
   "cell_type": "code",
   "execution_count": 25,
   "metadata": {},
   "outputs": [
    {
     "name": "stdout",
     "output_type": "stream",
     "text": [
      "['element1', 'element2']\n"
     ]
    }
   ],
   "source": [
    "#8.1 - A list is a sequence.\n",
    "#A list is a sequence of values\n",
    "#values in a list are called elements.\n",
    "#values are separated by commas.\n",
    "\n",
    "listname = [\"element1\", \"element2\" ]\n",
    "#elements can be : ints, strings,floats or lists.\n",
    "#yes a list can exist within a list.\n",
    "#a list within a list is called a nested list.\n",
    "[\"element\",2,\"string\",[\"nested list element 1\",\"nested list element2\"]]\n",
    "\n",
    "\n",
    "emptylist = []\n",
    "print(listname)\n",
    "\n",
    "numbers = [1,2]"
   ]
  },
  {
   "cell_type": "code",
   "execution_count": 26,
   "metadata": {},
   "outputs": [
    {
     "name": "stdout",
     "output_type": "stream",
     "text": [
      "Before :  ['Bob', 'Grace', 'Shirleen']\n",
      "After :  ['Bob', 'Grace', 'George']\n",
      "George\n",
      "Reverse :\n",
      "-1  :  George\n",
      "-2  :  Grace\n",
      "-3  :  Bob\n",
      "False\n",
      "True\n"
     ]
    }
   ],
   "source": [
    "#8.2 - Lists are mutable\n",
    "### lists , like strings can be accessed using an index in square brackets.\n",
    "####lists are mutable means the order of elements can change or elements can be reassigned values in a list.\n",
    "#example\n",
    "names = [\"Bob\",\"Grace\",\"Shirleen\"]\n",
    "print(\"Before : \",names)\n",
    "names[2] = \"George\"\n",
    "print(\"After : \",names)\n",
    "\n",
    "#if you try to read or write an element that doesnt exist, you get an IndexError.\n",
    "print(names[int(len(names)-1)]) #0 and +1 will error, -1 gives George.\n",
    "#A negative index value counts the list backward, the last being -1 and first(0) being lastint.\n",
    "#therefore names[-1] will be George\n",
    "j = -1\n",
    "print(\"Reverse :\")\n",
    "for name in names:\n",
    "    print(j,\" : \",names[j])\n",
    "    j =j-1\n",
    "\n",
    "\n",
    "#The in operator also works on lists:\n",
    "print(\"Gerishom\" in names) #false\n",
    "print(\"Bob\" in names) #true"
   ]
  },
  {
   "cell_type": "code",
   "execution_count": 33,
   "metadata": {},
   "outputs": [
    {
     "name": "stdout",
     "output_type": "stream",
     "text": [
      "Bob\n",
      "Grace\n",
      "George\n",
      "64 then\n",
      "128\n",
      "128 then\n",
      "256\n"
     ]
    }
   ],
   "source": [
    "#8.3 - Traversing a list.\n",
    "#1 for _ in _s loop (most common , read only)\n",
    "for name in names:\n",
    "    print(name)\n",
    "    i = 0\n",
    "#2 for _ in range(len(listname)): #common #read,write and update\n",
    "for i in range(len(numbers)):\n",
    "    print(numbers[i], \"then\")\n",
    "    numbers[i] = numbers[i] * 2\n",
    "    print(numbers[i])\n",
    "    \n",
    "#a for loop over an empty list never executes the body.\n",
    "for x in emptylist:\n",
    "    print(\"This never prints\")\n",
    "    \n",
    "#the length of a list containing a nested list is same if nested list was str or int, ie a nested list counts as one element.\n"
   ]
  },
  {
   "cell_type": "code",
   "execution_count": 38,
   "metadata": {},
   "outputs": [
    {
     "data": {
      "text/plain": [
       "[1, 2, 3, 1, 2, 3]"
      ]
     },
     "execution_count": 38,
     "metadata": {},
     "output_type": "execute_result"
    }
   ],
   "source": [
    "#8.4 -List Operations\n",
    "# + operator concatenates lists : \n",
    "a = [10]\n",
    "b = [20]\n",
    "a + b\n",
    "\n",
    "\n",
    "# * operator repeats a list a given number of times:\n",
    "[0] * 5\n",
    "[1,2,3] * 2 #type list."
   ]
  },
  {
   "cell_type": "code",
   "execution_count": 41,
   "metadata": {},
   "outputs": [
    {
     "name": "stdout",
     "output_type": "stream",
     "text": [
      "['a', 'x', 'Y', 'd', 'e', 'f']\n"
     ]
    }
   ],
   "source": [
    "#8.5 List slicing.\n",
    "#slice operator also works on lists :\n",
    "t = ['a','b','c']\n",
    "t[1:3]\n",
    "t[:]\n",
    "#if you omit the first index , the slice starts at the beginning.\n",
    "#if you omit the second , the slice goes to the end.\n",
    "#if you omit both, the slice is a copy of the whole list.\n",
    "\n",
    "\n",
    "#since lists are mutable, it is often useful to make a copy before performing operations that fold , spindle or mutilate lists.\n",
    "#a slice operator on the left side of an assignment can update multiple elements:\n",
    "t = ['a','b','c','d','e','f']\n",
    "t[1:3]=['x','Y']\n",
    "print(t)"
   ]
  },
  {
   "cell_type": "code",
   "execution_count": 55,
   "metadata": {},
   "outputs": [
    {
     "name": "stdout",
     "output_type": "stream",
     "text": [
      "['a', 'b', 'c', 'd']\n",
      "Before extend t1 :  ['a', 'b', 'c']\n",
      "After extend t1 : ['a', 'b', 'c', 'd', 'e']\n",
      "t2: ['d', 'e']\n",
      "Sort t ['a', 'b', 'd', 'e']\n"
     ]
    }
   ],
   "source": [
    "#8.6 List methods\n",
    "#python provides methods that operate on lists: I think this means that lists are part of a class.\n",
    "t = ['a','b','c']\n",
    "t.append('d')\n",
    "print(t)\n",
    "#extend takes a list as an argument and appends all the elements:\n",
    "t1 = ['a','b','c']\n",
    "t2 = ['d','e']\n",
    "print(\"Before extend t1 : \",t1)\n",
    "t1.extend(t2)\n",
    "print('After extend t1 :',t1)\n",
    "print('t2:',t2)\n",
    "#t2 remains unmodified\n",
    "\n",
    "\n",
    "#method sort arranges the elements of the list from low to high.\n",
    "t = ['d','e','b','a',]\n",
    "t.sort()\n",
    "print(\"Sort t\",t)\n",
    "\n",
    "#most list methodsare void ,they modify the list and return void."
   ]
  },
  {
   "cell_type": "code",
   "execution_count": 2,
   "metadata": {},
   "outputs": [
    {
     "name": "stdout",
     "output_type": "stream",
     "text": [
      "t : ['a', 'c']\n",
      "x : b\n",
      "['a', 'b']\n",
      "t :  ['a', 'c']\n",
      "Del index t : ['a']\n"
     ]
    }
   ],
   "source": [
    "#8.7 Deleting elements:\n",
    "#there are several ways to delete elements from a list:\n",
    "#Given a known index of the element you want, you can use #pop:\n",
    "#POP is even used in assembly programming of 8085 microprocessor.\n",
    "t = ['a','b','c']\n",
    "x = t.pop(1)\n",
    "print('t :',t)\n",
    "print('x :',x) #pop actuall tranfers the deleted element to a variable given certain organization.\n",
    "\n",
    "#pop modifies the list and returns the elements that was removed.\n",
    "#If you don't provide an index , it delets and returns the last element.\n",
    "\n",
    "#Given you dont need the removed value, you can use the del operator:\n",
    "t = ['a','b','c']\n",
    "del t[2]#use index\n",
    "print(t)\n",
    "\n",
    "\n",
    "#If you know the element you want to remove (but not index), you can use remove\n",
    "t = ['a','b','c']\n",
    "t.remove('b') #has null return.\n",
    "print('t : ',t)\n",
    "\n",
    "#To remove more than one element, you can use del with a slice index:\n",
    "t = ['a','b','c','d','e']\n",
    "del t[1:5]\n",
    "print(\"Del index t :\",t)\n",
    "\n"
   ]
  },
  {
   "cell_type": "code",
   "execution_count": 2,
   "metadata": {},
   "outputs": [
    {
     "name": "stdout",
     "output_type": "stream",
     "text": [
      "Len :  6\n",
      "Max :  74\n",
      "Min :  3\n",
      "Sum :  154\n",
      "Average : 25\n"
     ]
    },
    {
     "data": {
      "text/plain": [
       "\"\\n#Simpler code using list functions.\\nnumlist = list()\\nwhile (True):\\n    inp = input('Enter a number: ')\\n    if inp == 'done': break\\n    value = float(inp)\\n    numlist.append(value)\\naverage = sum(numlist) / len(numlist)\\nprint('Average:', average)\\n\""
      ]
     },
     "execution_count": 2,
     "metadata": {},
     "output_type": "execute_result"
    }
   ],
   "source": [
    "#8.8 Lists and Functions.\n",
    "#there are a number of built-in functions that can be used on\n",
    "#lists that allow one to quickly look through a list without writing your own loops.\n",
    "\n",
    "nums = [3, 41, 12 , 9 , 74 , 15]\n",
    "#len\n",
    "print(\"Len : \",len(nums))\n",
    "#Max\n",
    "print(\"Max : \",max(nums))\n",
    "#Min\n",
    "print(\"Min : \",min(nums))\n",
    "#Sum\n",
    "print(\"Sum : \",sum(nums)) #only works with numbers\n",
    "#Sum/len : Average/Mean\n",
    "print(\"Average :\",int(sum(nums)/len(nums)))\n",
    "#We could use rewrite an earlier program that computed the average of a list of numbers entered by the user using a list.\n",
    "#but it'll take a long time: \n",
    "#not in code time, lines of code translate directly to efficiency.\n",
    "#common code used to find value:\n",
    "total = 0\n",
    "count = 0\n",
    "'''\n",
    "while (True):\n",
    "    inp = input('Enter a number: ')\n",
    "    if inp == 'done': break\n",
    "    value = float(inp)\n",
    "    total = total + value\n",
    "    count = count + 1\n",
    "    average = total / count\n",
    "    print('Average:', average)\n",
    "    #the above is an infinite loop\n",
    "'''\n",
    "'''\n",
    "#Simpler code using list functions.\n",
    "numlist = list()\n",
    "while (True):\n",
    "    inp = input('Enter a number: ')\n",
    "    if inp == 'done': break\n",
    "    value = float(inp)\n",
    "    numlist.append(value)\n",
    "average = sum(numlist) / len(numlist)\n",
    "print('Average:', average)\n",
    "'''\n",
    "#the above is an infinite loop"
   ]
  },
  {
   "cell_type": "code",
   "execution_count": 12,
   "metadata": {},
   "outputs": [
    {
     "name": "stdout",
     "output_type": "stream",
     "text": [
      "['s', 'p', 'a', 'm']\n",
      "['pinning', 'for', 'the', 'fjords']\n",
      "the\n",
      "['gerber', 'e#rgrf hbvjern', ' rfwrfw#vuerjujer berhver', 'ejbv']\n",
      "['pinning', 'for', 'the', 'fjords']\n",
      "pinning for the fjords\n"
     ]
    }
   ],
   "source": [
    "#8.9 Lists and Strings\n",
    "#A string is a sequence of charachters and a list is a sequence of values, but a list of characters is not the same as a string.\n",
    "\n",
    "#convert list to string:\n",
    "s = 'spam'\n",
    "t = list(s)\n",
    "print(t)\n",
    "#avoid using list as a variable name.\n",
    "\n",
    "\n",
    "#The list function breaks a string into individual letters.\n",
    "#if you want to break a string into words , you can use the split method:\n",
    "s = 'pinning for the fjords'\n",
    "t = s.split()\n",
    "print(t)\n",
    "print(t[2])\n",
    "\n",
    "\n",
    "#once you have used split to break the string into a list of words, you can use the index operator(square brackets) to look at a paticular word\n",
    "\n",
    "#by default split splits using \" \" (a space).\n",
    "#to specify, the separator, call delimiter ie split(delimiter)\n",
    "s = 'gerber-e#rgrf hbvjern- rfwrfw#vuerjujer berhver-ejbv'\n",
    "delimiter = '-'\n",
    "x = s.split(delimiter)\n",
    "print(x)\n",
    "\n",
    "\n",
    "\n",
    "#joining words in a string: #string method join()\n",
    "print(t)\n",
    "delimiter = ' '\n",
    "s = delimiter.join(t)\n",
    "print(s)\n",
    "#using join.\n"
   ]
  },
  {
   "cell_type": "code",
   "execution_count": 3,
   "metadata": {},
   "outputs": [
    {
     "name": "stdout",
     "output_type": "stream",
     "text": [
      "Sat\n"
     ]
    }
   ],
   "source": [
    "#8.10 - Parsing Lines(An important lists feature)\n",
    "#usually when reading a file we want sth to do other than just printing the whole text.\n",
    "#in this example , given a file with a line with the date in a certain format; we will use the split method (very effective).\n",
    "#The program we will write looks for lines starting with \"From\"?\n",
    "#It will split line then print out the third word in the line: (the presumption is that the third word is the day of the week)\n",
    "\n",
    "fhand = open('mbox-short.txt')#in my github repo.\n",
    "for line in fhand:\n",
    "    line = line.rstrip()\n",
    "    if not line.startswith('From'): continue\n",
    "    words = line.split()\n",
    "    print(words[2]) #Sat\n",
    "\n",
    "    \n",
    "#Charles says we'll learn more sofisticated techniques for picking the lines and how to split the information."
   ]
  },
  {
   "cell_type": "code",
   "execution_count": 5,
   "metadata": {},
   "outputs": [
    {
     "name": "stdout",
     "output_type": "stream",
     "text": [
      "a is b(string) :  True\n",
      "a is b(lists) :  False\n"
     ]
    }
   ],
   "source": [
    "#8.11 : Objects and values   :Using \"is\".\n",
    "a = 'ndizi'#this is Swahili for banana.\n",
    "b = 'ndizi'\n",
    "# a is b for a string will b true.\n",
    "#how many objects made ? 1\n",
    "blstr = a is b\n",
    "print(\"a is b(string) : \",blstr) #equivalent and identical\n",
    "#for a string python creates one string object and both a and b refer to it.\n",
    "\n",
    "a =[1,2,3]\n",
    "b =[1,2,3]\n",
    "#a is b for lists ? what will it be?\n",
    "#how many objects are made? 2\n",
    "bllist = a is b\n",
    "print(\"a is b(lists) : \",bllist)#equivalent not identical\n",
    "\n",
    "#OBJECTS HAVE VALUES."
   ]
  },
  {
   "cell_type": "code",
   "execution_count": null,
   "metadata": {},
   "outputs": [],
   "source": []
  }
 ],
 "metadata": {
  "kernelspec": {
   "display_name": "Python 3",
   "language": "python",
   "name": "python3"
  },
  "language_info": {
   "codemirror_mode": {
    "name": "ipython",
    "version": 3
   },
   "file_extension": ".py",
   "mimetype": "text/x-python",
   "name": "python",
   "nbconvert_exporter": "python",
   "pygments_lexer": "ipython3",
   "version": "3.7.3"
  }
 },
 "nbformat": 4,
 "nbformat_minor": 2
}
