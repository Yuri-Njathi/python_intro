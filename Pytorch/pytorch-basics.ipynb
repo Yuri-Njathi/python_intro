{
 "cells": [
  {
   "cell_type": "markdown",
   "id": "665c9e86",
   "metadata": {
    "papermill": {
     "duration": 0.004778,
     "end_time": "2024-08-22T20:26:23.828590",
     "exception": false,
     "start_time": "2024-08-22T20:26:23.823812",
     "status": "completed"
    },
    "tags": []
   },
   "source": [
    "# QuickStart\n",
    "Based on [Pytorch Quickstart](https://pytorch.org/tutorials/beginner/basics/quickstart_tutorial.html)\n",
    "\n",
    "- This section runs through the API for common tasks in ML.\n",
    "\n",
    "## Working with data\n",
    "\n",
    "PyTorch has 2 primitives to work with data: `torch.utils.data.DataLoader` and `torch.utils.data.Dataset`.\n",
    "\n",
    "`Dataset` stores the samples and their corresponding labels, and `Dataloader` wraps an iterable around the `Dataset`."
   ]
  },
  {
   "cell_type": "code",
   "execution_count": 1,
   "id": "eb237f8f",
   "metadata": {
    "_cell_guid": "b1076dfc-b9ad-4769-8c92-a6c4dae69d19",
    "_uuid": "8f2839f25d086af736a60e9eeb907d3b93b6e0e5",
    "execution": {
     "iopub.execute_input": "2024-08-22T20:26:23.839233Z",
     "iopub.status.busy": "2024-08-22T20:26:23.838584Z",
     "iopub.status.idle": "2024-08-22T20:26:28.833892Z",
     "shell.execute_reply": "2024-08-22T20:26:28.833035Z"
    },
    "papermill": {
     "duration": 5.00308,
     "end_time": "2024-08-22T20:26:28.836120",
     "exception": false,
     "start_time": "2024-08-22T20:26:23.833040",
     "status": "completed"
    },
    "tags": []
   },
   "outputs": [],
   "source": [
    "import torch\n",
    "from torch import nn\n",
    "from torch.utils.data import DataLoader\n",
    "from torchvision import datasets\n",
    "from torchvision.transforms import ToTensor"
   ]
  },
  {
   "cell_type": "markdown",
   "id": "3ac30015",
   "metadata": {
    "papermill": {
     "duration": 0.004304,
     "end_time": "2024-08-22T20:26:28.845490",
     "exception": false,
     "start_time": "2024-08-22T20:26:28.841186",
     "status": "completed"
    },
    "tags": []
   },
   "source": [
    "PyTorch has TorchText, TorchVision and TorchAudio, all contain datasets.\n",
    "\n",
    "We will use a TorchVision dataset.\n",
    "\n",
    "The `torchvision.datasets` module contains `Dataset` objects for many real-world vision data like CIFAR, COCO etc\n",
    "\n",
    "Here is the [full list](https://pytorch.org/vision/stable/datasets.html)\n",
    "\n",
    "We'll use a 3 datasets to get the gist: FashionMNIST.\n",
    "\n",
    "Every TorchVision Dataset includes two arguments: `transform` and `target_transform` to modify the samples and labels respectively."
   ]
  },
  {
   "cell_type": "code",
   "execution_count": 2,
   "id": "1a51a1ef",
   "metadata": {
    "execution": {
     "iopub.execute_input": "2024-08-22T20:26:28.855208Z",
     "iopub.status.busy": "2024-08-22T20:26:28.854710Z",
     "iopub.status.idle": "2024-08-22T20:26:47.153853Z",
     "shell.execute_reply": "2024-08-22T20:26:47.152904Z"
    },
    "papermill": {
     "duration": 18.307397,
     "end_time": "2024-08-22T20:26:47.157112",
     "exception": false,
     "start_time": "2024-08-22T20:26:28.849715",
     "status": "completed"
    },
    "tags": []
   },
   "outputs": [
    {
     "name": "stdout",
     "output_type": "stream",
     "text": [
      "Downloading http://fashion-mnist.s3-website.eu-central-1.amazonaws.com/train-images-idx3-ubyte.gz\n",
      "Downloading http://fashion-mnist.s3-website.eu-central-1.amazonaws.com/train-images-idx3-ubyte.gz to data/FashionMNIST/raw/train-images-idx3-ubyte.gz\n"
     ]
    },
    {
     "name": "stderr",
     "output_type": "stream",
     "text": [
      "100%|██████████| 26421880/26421880 [00:03<00:00, 6632372.33it/s] \n"
     ]
    },
    {
     "name": "stdout",
     "output_type": "stream",
     "text": [
      "Extracting data/FashionMNIST/raw/train-images-idx3-ubyte.gz to data/FashionMNIST/raw\n",
      "\n",
      "Downloading http://fashion-mnist.s3-website.eu-central-1.amazonaws.com/train-labels-idx1-ubyte.gz\n",
      "Downloading http://fashion-mnist.s3-website.eu-central-1.amazonaws.com/train-labels-idx1-ubyte.gz to data/FashionMNIST/raw/train-labels-idx1-ubyte.gz\n"
     ]
    },
    {
     "name": "stderr",
     "output_type": "stream",
     "text": [
      "100%|██████████| 29515/29515 [00:00<00:00, 111340.95it/s]\n"
     ]
    },
    {
     "name": "stdout",
     "output_type": "stream",
     "text": [
      "Extracting data/FashionMNIST/raw/train-labels-idx1-ubyte.gz to data/FashionMNIST/raw\n",
      "\n",
      "Downloading http://fashion-mnist.s3-website.eu-central-1.amazonaws.com/t10k-images-idx3-ubyte.gz\n",
      "Downloading http://fashion-mnist.s3-website.eu-central-1.amazonaws.com/t10k-images-idx3-ubyte.gz to data/FashionMNIST/raw/t10k-images-idx3-ubyte.gz\n"
     ]
    },
    {
     "name": "stderr",
     "output_type": "stream",
     "text": [
      "100%|██████████| 4422102/4422102 [00:08<00:00, 496722.05it/s] \n"
     ]
    },
    {
     "name": "stdout",
     "output_type": "stream",
     "text": [
      "Extracting data/FashionMNIST/raw/t10k-images-idx3-ubyte.gz to data/FashionMNIST/raw\n",
      "\n",
      "Downloading http://fashion-mnist.s3-website.eu-central-1.amazonaws.com/t10k-labels-idx1-ubyte.gz\n",
      "Downloading http://fashion-mnist.s3-website.eu-central-1.amazonaws.com/t10k-labels-idx1-ubyte.gz to data/FashionMNIST/raw/t10k-labels-idx1-ubyte.gz\n"
     ]
    },
    {
     "name": "stderr",
     "output_type": "stream",
     "text": [
      "100%|██████████| 5148/5148 [00:00<00:00, 24875895.15it/s]"
     ]
    },
    {
     "name": "stdout",
     "output_type": "stream",
     "text": [
      "Extracting data/FashionMNIST/raw/t10k-labels-idx1-ubyte.gz to data/FashionMNIST/raw\n",
      "\n"
     ]
    },
    {
     "name": "stderr",
     "output_type": "stream",
     "text": [
      "\n"
     ]
    }
   ],
   "source": [
    "# download training data from open datasets\n",
    "\n",
    "train_data = datasets.FashionMNIST(\n",
    "root = 'data',\n",
    "download=True,\n",
    "train = True,\n",
    "transform=ToTensor()\n",
    ") #required argument = `root` if locally available else #2nd required argument is download=True \n",
    "\n",
    "test_data = datasets.FashionMNIST(\n",
    "root = 'data',\n",
    "download=True,\n",
    "train = False,\n",
    "transform=ToTensor()\n",
    ") #required argument = `root` if locally available else #2nd required argument is download=True "
   ]
  },
  {
   "cell_type": "markdown",
   "id": "ede13595",
   "metadata": {
    "papermill": {
     "duration": 0.010805,
     "end_time": "2024-08-22T20:26:47.177960",
     "exception": false,
     "start_time": "2024-08-22T20:26:47.167155",
     "status": "completed"
    },
    "tags": []
   },
   "source": [
    "The `Dataset` is passed as an argument to `DataLoader` to wrap an iterable over our dataset and support automatic batching, sampling, shuffling and multiprocess data loading.\n",
    "\n",
    "A batch size of 64 means each element in the dataloader iterable will return a batch of 64 features & labels."
   ]
  },
  {
   "cell_type": "code",
   "execution_count": 3,
   "id": "6957da3b",
   "metadata": {
    "execution": {
     "iopub.execute_input": "2024-08-22T20:26:47.199030Z",
     "iopub.status.busy": "2024-08-22T20:26:47.198734Z",
     "iopub.status.idle": "2024-08-22T20:26:47.244210Z",
     "shell.execute_reply": "2024-08-22T20:26:47.243244Z"
    },
    "papermill": {
     "duration": 0.058286,
     "end_time": "2024-08-22T20:26:47.246179",
     "exception": false,
     "start_time": "2024-08-22T20:26:47.187893",
     "status": "completed"
    },
    "tags": []
   },
   "outputs": [
    {
     "name": "stdout",
     "output_type": "stream",
     "text": [
      "Shape of X [N, C, H, W]: torch.Size([64, 1, 28, 28])\n",
      "Shape of y: torch.Size([64]) & data type : torch.int64\n"
     ]
    }
   ],
   "source": [
    "#Create dataloaders.\n",
    "train_dataloader = DataLoader(train_data, batch_size=64)\n",
    "test_dataloader = DataLoader(test_data, batch_size=64)\n",
    "\n",
    "for X, y in test_dataloader:\n",
    "    print(f\"Shape of X [N, C, H, W]: {X.shape}\")\n",
    "    print(f\"Shape of y: {y.shape} & data type : {y.dtype}\")\n",
    "    break"
   ]
  },
  {
   "cell_type": "markdown",
   "id": "62176b1c",
   "metadata": {
    "papermill": {
     "duration": 0.009528,
     "end_time": "2024-08-22T20:26:47.265683",
     "exception": false,
     "start_time": "2024-08-22T20:26:47.256155",
     "status": "completed"
    },
    "tags": []
   },
   "source": [
    "# Creating Models\n",
    "\n",
    "To define a NN in PyTorch, a class is created that inherits from nn. Module, the layers are defined in the network in the __init__ function and specify how data will pass through the network in the forward function. To accelerate in the NN, we move it to th GPU or MPS if available"
   ]
  },
  {
   "cell_type": "code",
   "execution_count": 4,
   "id": "a14f95a4",
   "metadata": {
    "execution": {
     "iopub.execute_input": "2024-08-22T20:26:47.286592Z",
     "iopub.status.busy": "2024-08-22T20:26:47.286218Z",
     "iopub.status.idle": "2024-08-22T20:26:47.342008Z",
     "shell.execute_reply": "2024-08-22T20:26:47.341075Z"
    },
    "papermill": {
     "duration": 0.068346,
     "end_time": "2024-08-22T20:26:47.343859",
     "exception": false,
     "start_time": "2024-08-22T20:26:47.275513",
     "status": "completed"
    },
    "tags": []
   },
   "outputs": [
    {
     "name": "stdout",
     "output_type": "stream",
     "text": [
      "Device :  cuda\n"
     ]
    }
   ],
   "source": [
    "device = (\"cuda\" if torch.cuda.is_available() else \"mps\" if torch.backend.mps.is_available() else \"cpu\")\n",
    "print(\"Device : \", device)"
   ]
  },
  {
   "cell_type": "code",
   "execution_count": 5,
   "id": "e3ee4f0e",
   "metadata": {
    "execution": {
     "iopub.execute_input": "2024-08-22T20:26:47.364830Z",
     "iopub.status.busy": "2024-08-22T20:26:47.364537Z",
     "iopub.status.idle": "2024-08-22T20:26:47.516895Z",
     "shell.execute_reply": "2024-08-22T20:26:47.515863Z"
    },
    "papermill": {
     "duration": 0.165417,
     "end_time": "2024-08-22T20:26:47.519168",
     "exception": false,
     "start_time": "2024-08-22T20:26:47.353751",
     "status": "completed"
    },
    "tags": []
   },
   "outputs": [
    {
     "name": "stdout",
     "output_type": "stream",
     "text": [
      "NeuralNetwork(\n",
      "  (flatten): Flatten(start_dim=1, end_dim=-1)\n",
      "  (linear_relu_stack): Sequential(\n",
      "    (0): Linear(in_features=784, out_features=512, bias=True)\n",
      "    (1): ReLU()\n",
      "    (2): Linear(in_features=512, out_features=512, bias=True)\n",
      "    (3): ReLU()\n",
      "    (4): Linear(in_features=512, out_features=10, bias=True)\n",
      "  )\n",
      ")\n"
     ]
    }
   ],
   "source": [
    "#Define Model\n",
    "class NeuralNetwork(nn.Module):\n",
    "    def __init__(self):\n",
    "        super().__init__()\n",
    "        self.flatten = nn.Flatten()\n",
    "        self.linear_relu_stack = nn.Sequential(nn.Linear(28*28,512),nn.ReLU(),nn.Linear(512,512),nn.ReLU(),nn.Linear(512,10))\n",
    "    \n",
    "    def forward(self,x):\n",
    "        x = self.flatten(x)\n",
    "        logits = self.linear_relu_stack(x)\n",
    "        return logits\n",
    "\n",
    "model = NeuralNetwork().to(device)\n",
    "print(model)\n",
    "\n",
    "        "
   ]
  },
  {
   "cell_type": "code",
   "execution_count": null,
   "id": "65bd1034",
   "metadata": {
    "papermill": {
     "duration": 0.00968,
     "end_time": "2024-08-22T20:26:47.539835",
     "exception": false,
     "start_time": "2024-08-22T20:26:47.530155",
     "status": "completed"
    },
    "tags": []
   },
   "outputs": [],
   "source": []
  },
  {
   "cell_type": "code",
   "execution_count": 6,
   "id": "42c91ade",
   "metadata": {
    "execution": {
     "iopub.execute_input": "2024-08-22T20:26:47.560896Z",
     "iopub.status.busy": "2024-08-22T20:26:47.560604Z",
     "iopub.status.idle": "2024-08-22T20:27:03.287735Z",
     "shell.execute_reply": "2024-08-22T20:27:03.286744Z"
    },
    "papermill": {
     "duration": 15.740462,
     "end_time": "2024-08-22T20:27:03.290174",
     "exception": false,
     "start_time": "2024-08-22T20:26:47.549712",
     "status": "completed"
    },
    "tags": []
   },
   "outputs": [
    {
     "name": "stdout",
     "output_type": "stream",
     "text": [
      "Downloading https://www.cs.toronto.edu/~kriz/cifar-10-python.tar.gz to data1/cifar-10-python.tar.gz\n"
     ]
    },
    {
     "name": "stderr",
     "output_type": "stream",
     "text": [
      "100%|██████████| 170498071/170498071 [00:11<00:00, 14347397.07it/s]\n"
     ]
    },
    {
     "name": "stdout",
     "output_type": "stream",
     "text": [
      "Extracting data1/cifar-10-python.tar.gz to data1\n"
     ]
    }
   ],
   "source": [
    "dummy_train_data = datasets.CIFAR10(root='data1',download=True)"
   ]
  },
  {
   "cell_type": "code",
   "execution_count": 7,
   "id": "93895c9a",
   "metadata": {
    "execution": {
     "iopub.execute_input": "2024-08-22T20:27:03.322192Z",
     "iopub.status.busy": "2024-08-22T20:27:03.321882Z",
     "iopub.status.idle": "2024-08-22T20:27:19.107505Z",
     "shell.execute_reply": "2024-08-22T20:27:19.106720Z"
    },
    "papermill": {
     "duration": 15.803854,
     "end_time": "2024-08-22T20:27:19.109855",
     "exception": false,
     "start_time": "2024-08-22T20:27:03.306001",
     "status": "completed"
    },
    "tags": []
   },
   "outputs": [
    {
     "name": "stdout",
     "output_type": "stream",
     "text": [
      "Downloading https://www.cs.toronto.edu/~kriz/cifar-100-python.tar.gz to data1/cifar-100-python.tar.gz\n"
     ]
    },
    {
     "name": "stderr",
     "output_type": "stream",
     "text": [
      "100%|██████████| 169001437/169001437 [00:11<00:00, 14261600.22it/s]\n"
     ]
    },
    {
     "name": "stdout",
     "output_type": "stream",
     "text": [
      "Extracting data1/cifar-100-python.tar.gz to data1\n"
     ]
    }
   ],
   "source": [
    "dummy_train_data = datasets.CIFAR100(root='data1',download=True)"
   ]
  },
  {
   "cell_type": "code",
   "execution_count": 8,
   "id": "aeb0aacb",
   "metadata": {
    "execution": {
     "iopub.execute_input": "2024-08-22T20:27:19.152978Z",
     "iopub.status.busy": "2024-08-22T20:27:19.152179Z",
     "iopub.status.idle": "2024-08-22T20:27:19.156355Z",
     "shell.execute_reply": "2024-08-22T20:27:19.155471Z"
    },
    "papermill": {
     "duration": 0.027973,
     "end_time": "2024-08-22T20:27:19.158380",
     "exception": false,
     "start_time": "2024-08-22T20:27:19.130407",
     "status": "completed"
    },
    "tags": []
   },
   "outputs": [],
   "source": [
    "# dummy_train_data = datasets.Country211(root='data1',download=True)"
   ]
  },
  {
   "cell_type": "code",
   "execution_count": 9,
   "id": "bf8981cc",
   "metadata": {
    "execution": {
     "iopub.execute_input": "2024-08-22T20:27:19.200099Z",
     "iopub.status.busy": "2024-08-22T20:27:19.199838Z",
     "iopub.status.idle": "2024-08-22T20:28:15.110044Z",
     "shell.execute_reply": "2024-08-22T20:28:15.109078Z"
    },
    "papermill": {
     "duration": 55.934225,
     "end_time": "2024-08-22T20:28:15.112965",
     "exception": false,
     "start_time": "2024-08-22T20:27:19.178740",
     "status": "completed"
    },
    "tags": []
   },
   "outputs": [
    {
     "name": "stdout",
     "output_type": "stream",
     "text": [
      "Downloading https://thor.robots.ox.ac.uk/dtd/dtd-r1.0.1.tar.gz to data1/dtd/dtd-r1.0.1.tar.gz\n"
     ]
    },
    {
     "name": "stderr",
     "output_type": "stream",
     "text": [
      "100%|██████████| 625239812/625239812 [00:44<00:00, 14111808.71it/s]\n"
     ]
    },
    {
     "name": "stdout",
     "output_type": "stream",
     "text": [
      "Extracting data1/dtd/dtd-r1.0.1.tar.gz to data1/dtd\n"
     ]
    }
   ],
   "source": [
    "dummy_train_data = datasets.DTD(root='data1',download=True)"
   ]
  },
  {
   "cell_type": "code",
   "execution_count": null,
   "id": "d697b63a",
   "metadata": {
    "papermill": {
     "duration": 0.032624,
     "end_time": "2024-08-22T20:28:15.182001",
     "exception": false,
     "start_time": "2024-08-22T20:28:15.149377",
     "status": "completed"
    },
    "tags": []
   },
   "outputs": [],
   "source": []
  }
 ],
 "metadata": {
  "kaggle": {
   "accelerator": "gpu",
   "dataSources": [],
   "dockerImageVersionId": 30746,
   "isGpuEnabled": true,
   "isInternetEnabled": true,
   "language": "python",
   "sourceType": "notebook"
  },
  "kernelspec": {
   "display_name": "Python 3",
   "language": "python",
   "name": "python3"
  },
  "language_info": {
   "codemirror_mode": {
    "name": "ipython",
    "version": 3
   },
   "file_extension": ".py",
   "mimetype": "text/x-python",
   "name": "python",
   "nbconvert_exporter": "python",
   "pygments_lexer": "ipython3",
   "version": "3.10.13"
  },
  "papermill": {
   "default_parameters": {},
   "duration": 115.137969,
   "end_time": "2024-08-22T20:28:16.337675",
   "environment_variables": {},
   "exception": null,
   "input_path": "__notebook__.ipynb",
   "output_path": "__notebook__.ipynb",
   "parameters": {},
   "start_time": "2024-08-22T20:26:21.199706",
   "version": "2.5.0"
  }
 },
 "nbformat": 4,
 "nbformat_minor": 5
}
