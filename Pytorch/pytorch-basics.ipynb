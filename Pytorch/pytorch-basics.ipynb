{
 "cells": [
  {
   "cell_type": "markdown",
   "id": "544474c2",
   "metadata": {
    "papermill": {
     "duration": 0.006815,
     "end_time": "2024-08-19T15:04:45.746645",
     "exception": false,
     "start_time": "2024-08-19T15:04:45.739830",
     "status": "completed"
    },
    "tags": []
   },
   "source": [
    "# QuickStart\n",
    "Based on [Pytorch Quickstart](https://pytorch.org/tutorials/beginner/basics/quickstart_tutorial.html)\n",
    "\n",
    "- This section runs through the API for common tasks in ML.\n",
    "\n",
    "## Working with data\n",
    "\n",
    "PyTorch has 2 primitives to work with data: `torch.utils.data.DataLoader` and `torch.utils.data.Dataset`.\n",
    "\n",
    "`Dataset` stores the samples and their corresponding labels, and `Dataloader` wraps an iterable around the `Dataset`."
   ]
  },
  {
   "cell_type": "code",
   "execution_count": 1,
   "id": "fc9132eb",
   "metadata": {
    "_cell_guid": "b1076dfc-b9ad-4769-8c92-a6c4dae69d19",
    "_uuid": "8f2839f25d086af736a60e9eeb907d3b93b6e0e5",
    "execution": {
     "iopub.execute_input": "2024-08-19T15:04:45.785952Z",
     "iopub.status.busy": "2024-08-19T15:04:45.785487Z",
     "iopub.status.idle": "2024-08-19T15:04:54.752891Z",
     "shell.execute_reply": "2024-08-19T15:04:54.751405Z"
    },
    "papermill": {
     "duration": 9.002463,
     "end_time": "2024-08-19T15:04:54.756284",
     "exception": false,
     "start_time": "2024-08-19T15:04:45.753821",
     "status": "completed"
    },
    "tags": []
   },
   "outputs": [],
   "source": [
    "import torch\n",
    "from torch import nn\n",
    "from torch.utils.data import DataLoader\n",
    "from torchvision import datasets\n",
    "from torchvision.transforms import ToTensor"
   ]
  },
  {
   "cell_type": "markdown",
   "id": "4943efa2",
   "metadata": {
    "papermill": {
     "duration": 0.005224,
     "end_time": "2024-08-19T15:04:54.766935",
     "exception": false,
     "start_time": "2024-08-19T15:04:54.761711",
     "status": "completed"
    },
    "tags": []
   },
   "source": [
    "PyTorch has TorchText, TorchVision and TorchAudio, all contain datasets.\n",
    "\n",
    "We will use a TorchVision dataset.\n",
    "\n",
    "The `torchvision.datasets` module contains `Dataset` objects for many real-world vision data like CIFAR, COCO etc\n",
    "\n",
    "Here is the [full list](https://pytorch.org/vision/stable/datasets.html)\n",
    "\n",
    "We'll use a 3 datasets to get the gist: FashionMNIST.\n",
    "\n",
    "Every TorchVision Dataset includes two arguments: `transform` and `target_transform` to modify the samples and labels respectively."
   ]
  },
  {
   "cell_type": "code",
   "execution_count": 2,
   "id": "07d8fd42",
   "metadata": {
    "execution": {
     "iopub.execute_input": "2024-08-19T15:04:54.781462Z",
     "iopub.status.busy": "2024-08-19T15:04:54.780580Z",
     "iopub.status.idle": "2024-08-19T15:04:57.387276Z",
     "shell.execute_reply": "2024-08-19T15:04:57.385855Z"
    },
    "papermill": {
     "duration": 2.617877,
     "end_time": "2024-08-19T15:04:57.390618",
     "exception": false,
     "start_time": "2024-08-19T15:04:54.772741",
     "status": "completed"
    },
    "tags": []
   },
   "outputs": [
    {
     "name": "stdout",
     "output_type": "stream",
     "text": [
      "Downloading http://fashion-mnist.s3-website.eu-central-1.amazonaws.com/train-images-idx3-ubyte.gz\n",
      "Downloading http://fashion-mnist.s3-website.eu-central-1.amazonaws.com/train-images-idx3-ubyte.gz to data/FashionMNIST/raw/train-images-idx3-ubyte.gz\n"
     ]
    },
    {
     "name": "stderr",
     "output_type": "stream",
     "text": [
      "100%|██████████| 26421880/26421880 [00:01<00:00, 24831033.02it/s]\n"
     ]
    },
    {
     "name": "stdout",
     "output_type": "stream",
     "text": [
      "Extracting data/FashionMNIST/raw/train-images-idx3-ubyte.gz to data/FashionMNIST/raw\n",
      "\n",
      "Downloading http://fashion-mnist.s3-website.eu-central-1.amazonaws.com/train-labels-idx1-ubyte.gz\n",
      "Downloading http://fashion-mnist.s3-website.eu-central-1.amazonaws.com/train-labels-idx1-ubyte.gz to data/FashionMNIST/raw/train-labels-idx1-ubyte.gz\n"
     ]
    },
    {
     "name": "stderr",
     "output_type": "stream",
     "text": [
      "100%|██████████| 29515/29515 [00:00<00:00, 1656229.61it/s]"
     ]
    },
    {
     "name": "stdout",
     "output_type": "stream",
     "text": [
      "Extracting data/FashionMNIST/raw/train-labels-idx1-ubyte.gz to data/FashionMNIST/raw\n",
      "\n",
      "Downloading http://fashion-mnist.s3-website.eu-central-1.amazonaws.com/t10k-images-idx3-ubyte.gz\n"
     ]
    },
    {
     "name": "stderr",
     "output_type": "stream",
     "text": [
      "\n"
     ]
    },
    {
     "name": "stdout",
     "output_type": "stream",
     "text": [
      "Downloading http://fashion-mnist.s3-website.eu-central-1.amazonaws.com/t10k-images-idx3-ubyte.gz to data/FashionMNIST/raw/t10k-images-idx3-ubyte.gz\n"
     ]
    },
    {
     "name": "stderr",
     "output_type": "stream",
     "text": [
      "100%|██████████| 4422102/4422102 [00:00<00:00, 49970741.46it/s]"
     ]
    },
    {
     "name": "stdout",
     "output_type": "stream",
     "text": [
      "Extracting data/FashionMNIST/raw/t10k-images-idx3-ubyte.gz to data/FashionMNIST/raw\n"
     ]
    },
    {
     "name": "stderr",
     "output_type": "stream",
     "text": [
      "\n"
     ]
    },
    {
     "name": "stdout",
     "output_type": "stream",
     "text": [
      "\n",
      "Downloading http://fashion-mnist.s3-website.eu-central-1.amazonaws.com/t10k-labels-idx1-ubyte.gz\n",
      "Downloading http://fashion-mnist.s3-website.eu-central-1.amazonaws.com/t10k-labels-idx1-ubyte.gz to data/FashionMNIST/raw/t10k-labels-idx1-ubyte.gz\n"
     ]
    },
    {
     "name": "stderr",
     "output_type": "stream",
     "text": [
      "100%|██████████| 5148/5148 [00:00<00:00, 13166022.56it/s]"
     ]
    },
    {
     "name": "stdout",
     "output_type": "stream",
     "text": [
      "Extracting data/FashionMNIST/raw/t10k-labels-idx1-ubyte.gz to data/FashionMNIST/raw\n",
      "\n"
     ]
    },
    {
     "name": "stderr",
     "output_type": "stream",
     "text": [
      "\n"
     ]
    }
   ],
   "source": [
    "# download training data from open datasets\n",
    "\n",
    "train_data = datasets.FashionMNIST(\n",
    "root = 'data',\n",
    "download=True,\n",
    "train = True,\n",
    "transform=ToTensor()\n",
    ") #required argument = `root` if locally available else #2nd required argument is download=True \n",
    "\n",
    "test_data = datasets.FashionMNIST(\n",
    "root = 'data',\n",
    "download=True,\n",
    "train = False,\n",
    "transform=ToTensor()\n",
    ") #required argument = `root` if locally available else #2nd required argument is download=True "
   ]
  },
  {
   "cell_type": "markdown",
   "id": "bb9315ce",
   "metadata": {
    "papermill": {
     "duration": 0.008225,
     "end_time": "2024-08-19T15:04:57.406922",
     "exception": false,
     "start_time": "2024-08-19T15:04:57.398697",
     "status": "completed"
    },
    "tags": []
   },
   "source": [
    "The `Dataset` is passed as an argument to `DataLoader` to wrap an iterable over our dataset and support automatic batching, sampling, shuffling and multiprocess data loading.\n",
    "\n",
    "A batch size of 64 means each element in the dataloader iterable will return a batch of 64 features & labels."
   ]
  },
  {
   "cell_type": "code",
   "execution_count": 3,
   "id": "8b163f36",
   "metadata": {
    "execution": {
     "iopub.execute_input": "2024-08-19T15:04:57.425800Z",
     "iopub.status.busy": "2024-08-19T15:04:57.425294Z",
     "iopub.status.idle": "2024-08-19T15:04:57.522291Z",
     "shell.execute_reply": "2024-08-19T15:04:57.520801Z"
    },
    "papermill": {
     "duration": 0.111361,
     "end_time": "2024-08-19T15:04:57.526800",
     "exception": false,
     "start_time": "2024-08-19T15:04:57.415439",
     "status": "completed"
    },
    "tags": []
   },
   "outputs": [
    {
     "name": "stdout",
     "output_type": "stream",
     "text": [
      "Shape of X [N, C, H, W]: torch.Size([64, 1, 28, 28])\n",
      "Shape of y: torch.Size([64]) & data type : torch.int64\n"
     ]
    }
   ],
   "source": [
    "#Create dataloaders.\n",
    "train_dataloader = DataLoader(train_data, batch_size=64)\n",
    "test_dataloader = DataLoader(test_data, batch_size=64)\n",
    "\n",
    "for X, y in test_dataloader:\n",
    "    print(f\"Shape of X [N, C, H, W]: {X.shape}\")\n",
    "    print(f\"Shape of y: {y.shape} & data type : {y.dtype}\")\n",
    "    break"
   ]
  },
  {
   "cell_type": "code",
   "execution_count": null,
   "id": "3c909314",
   "metadata": {
    "papermill": {
     "duration": 0.009237,
     "end_time": "2024-08-19T15:04:57.544995",
     "exception": false,
     "start_time": "2024-08-19T15:04:57.535758",
     "status": "completed"
    },
    "tags": []
   },
   "outputs": [],
   "source": []
  },
  {
   "cell_type": "code",
   "execution_count": null,
   "id": "3f839bbe",
   "metadata": {
    "papermill": {
     "duration": 0.008102,
     "end_time": "2024-08-19T15:04:57.561794",
     "exception": false,
     "start_time": "2024-08-19T15:04:57.553692",
     "status": "completed"
    },
    "tags": []
   },
   "outputs": [],
   "source": []
  },
  {
   "cell_type": "code",
   "execution_count": null,
   "id": "dee71a15",
   "metadata": {
    "papermill": {
     "duration": 0.008277,
     "end_time": "2024-08-19T15:04:57.578895",
     "exception": false,
     "start_time": "2024-08-19T15:04:57.570618",
     "status": "completed"
    },
    "tags": []
   },
   "outputs": [],
   "source": []
  },
  {
   "cell_type": "code",
   "execution_count": 4,
   "id": "0a70c81d",
   "metadata": {
    "execution": {
     "iopub.execute_input": "2024-08-19T15:04:57.600342Z",
     "iopub.status.busy": "2024-08-19T15:04:57.599847Z",
     "iopub.status.idle": "2024-08-19T15:05:07.648951Z",
     "shell.execute_reply": "2024-08-19T15:05:07.646894Z"
    },
    "papermill": {
     "duration": 10.062813,
     "end_time": "2024-08-19T15:05:07.652163",
     "exception": false,
     "start_time": "2024-08-19T15:04:57.589350",
     "status": "completed"
    },
    "tags": []
   },
   "outputs": [
    {
     "name": "stdout",
     "output_type": "stream",
     "text": [
      "Downloading https://www.cs.toronto.edu/~kriz/cifar-10-python.tar.gz to data1/cifar-10-python.tar.gz\n"
     ]
    },
    {
     "name": "stderr",
     "output_type": "stream",
     "text": [
      "100%|██████████| 170498071/170498071 [00:05<00:00, 29163284.38it/s]\n"
     ]
    },
    {
     "name": "stdout",
     "output_type": "stream",
     "text": [
      "Extracting data1/cifar-10-python.tar.gz to data1\n"
     ]
    }
   ],
   "source": [
    "dummy_train_data = datasets.CIFAR10(root='data1',download=True)"
   ]
  },
  {
   "cell_type": "code",
   "execution_count": 5,
   "id": "ac4b5ba7",
   "metadata": {
    "execution": {
     "iopub.execute_input": "2024-08-19T15:05:07.684236Z",
     "iopub.status.busy": "2024-08-19T15:05:07.682904Z",
     "iopub.status.idle": "2024-08-19T15:05:17.508266Z",
     "shell.execute_reply": "2024-08-19T15:05:17.506888Z"
    },
    "papermill": {
     "duration": 9.844981,
     "end_time": "2024-08-19T15:05:17.511143",
     "exception": false,
     "start_time": "2024-08-19T15:05:07.666162",
     "status": "completed"
    },
    "tags": []
   },
   "outputs": [
    {
     "name": "stdout",
     "output_type": "stream",
     "text": [
      "Downloading https://www.cs.toronto.edu/~kriz/cifar-100-python.tar.gz to data1/cifar-100-python.tar.gz\n"
     ]
    },
    {
     "name": "stderr",
     "output_type": "stream",
     "text": [
      "100%|██████████| 169001437/169001437 [00:05<00:00, 29413387.53it/s]\n"
     ]
    },
    {
     "name": "stdout",
     "output_type": "stream",
     "text": [
      "Extracting data1/cifar-100-python.tar.gz to data1\n"
     ]
    }
   ],
   "source": [
    "dummy_train_data = datasets.CIFAR100(root='data1',download=True)"
   ]
  },
  {
   "cell_type": "code",
   "execution_count": 6,
   "id": "b16b0375",
   "metadata": {
    "execution": {
     "iopub.execute_input": "2024-08-19T15:05:17.555367Z",
     "iopub.status.busy": "2024-08-19T15:05:17.554905Z",
     "iopub.status.idle": "2024-08-19T15:05:17.560403Z",
     "shell.execute_reply": "2024-08-19T15:05:17.559107Z"
    },
    "papermill": {
     "duration": 0.030531,
     "end_time": "2024-08-19T15:05:17.562992",
     "exception": false,
     "start_time": "2024-08-19T15:05:17.532461",
     "status": "completed"
    },
    "tags": []
   },
   "outputs": [],
   "source": [
    "# dummy_train_data = datasets.Country211(root='data1',download=True)"
   ]
  },
  {
   "cell_type": "code",
   "execution_count": 7,
   "id": "aa0e188d",
   "metadata": {
    "execution": {
     "iopub.execute_input": "2024-08-19T15:05:17.606929Z",
     "iopub.status.busy": "2024-08-19T15:05:17.606527Z",
     "iopub.status.idle": "2024-08-19T15:05:29.052945Z",
     "shell.execute_reply": "2024-08-19T15:05:29.051540Z"
    },
    "papermill": {
     "duration": 11.472662,
     "end_time": "2024-08-19T15:05:29.056721",
     "exception": false,
     "start_time": "2024-08-19T15:05:17.584059",
     "status": "completed"
    },
    "tags": []
   },
   "outputs": [
    {
     "name": "stdout",
     "output_type": "stream",
     "text": [
      "Downloading https://thor.robots.ox.ac.uk/dtd/dtd-r1.0.1.tar.gz to data1/dtd/dtd-r1.0.1.tar.gz\n"
     ]
    },
    {
     "name": "stderr",
     "output_type": "stream",
     "text": [
      "100%|██████████| 625239812/625239812 [00:03<00:00, 194188633.84it/s]\n"
     ]
    },
    {
     "name": "stdout",
     "output_type": "stream",
     "text": [
      "Extracting data1/dtd/dtd-r1.0.1.tar.gz to data1/dtd\n"
     ]
    }
   ],
   "source": [
    "dummy_train_data = datasets.DTD(root='data1',download=True)"
   ]
  },
  {
   "cell_type": "code",
   "execution_count": null,
   "id": "a55ef596",
   "metadata": {
    "papermill": {
     "duration": 0.022786,
     "end_time": "2024-08-19T15:05:29.105790",
     "exception": false,
     "start_time": "2024-08-19T15:05:29.083004",
     "status": "completed"
    },
    "tags": []
   },
   "outputs": [],
   "source": []
  }
 ],
 "metadata": {
  "kaggle": {
   "accelerator": "none",
   "dataSources": [],
   "dockerImageVersionId": 30746,
   "isGpuEnabled": false,
   "isInternetEnabled": true,
   "language": "python",
   "sourceType": "notebook"
  },
  "kernelspec": {
   "display_name": "Python 3",
   "language": "python",
   "name": "python3"
  },
  "language_info": {
   "codemirror_mode": {
    "name": "ipython",
    "version": 3
   },
   "file_extension": ".py",
   "mimetype": "text/x-python",
   "name": "python",
   "nbconvert_exporter": "python",
   "pygments_lexer": "ipython3",
   "version": "3.10.13"
  },
  "papermill": {
   "default_parameters": {},
   "duration": 50.615011,
   "end_time": "2024-08-19T15:05:31.396135",
   "environment_variables": {},
   "exception": null,
   "input_path": "__notebook__.ipynb",
   "output_path": "__notebook__.ipynb",
   "parameters": {},
   "start_time": "2024-08-19T15:04:40.781124",
   "version": "2.5.0"
  }
 },
 "nbformat": 4,
 "nbformat_minor": 5
}
