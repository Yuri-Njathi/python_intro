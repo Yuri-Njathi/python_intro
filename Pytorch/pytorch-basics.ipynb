{
 "cells": [
  {
   "cell_type": "markdown",
   "id": "03ee63fa",
   "metadata": {
    "papermill": {
     "duration": 0.009721,
     "end_time": "2024-08-23T17:24:13.611711",
     "exception": false,
     "start_time": "2024-08-23T17:24:13.601990",
     "status": "completed"
    },
    "tags": []
   },
   "source": [
    "# QuickStart\n",
    "Based on [Pytorch Quickstart](https://pytorch.org/tutorials/beginner/basics/quickstart_tutorial.html)\n",
    "\n",
    "- This section runs through the API for common tasks in ML.\n",
    "\n",
    "## Working with data\n",
    "\n",
    "PyTorch has 2 primitives to work with data: `torch.utils.data.DataLoader` and `torch.utils.data.Dataset`.\n",
    "\n",
    "`Dataset` stores the samples and their corresponding labels, and `Dataloader` wraps an iterable around the `Dataset`."
   ]
  },
  {
   "cell_type": "code",
   "execution_count": 1,
   "id": "c372f5a8",
   "metadata": {
    "_cell_guid": "b1076dfc-b9ad-4769-8c92-a6c4dae69d19",
    "_uuid": "8f2839f25d086af736a60e9eeb907d3b93b6e0e5",
    "execution": {
     "iopub.execute_input": "2024-08-23T17:24:13.631057Z",
     "iopub.status.busy": "2024-08-23T17:24:13.630700Z",
     "iopub.status.idle": "2024-08-23T17:24:18.640925Z",
     "shell.execute_reply": "2024-08-23T17:24:18.639931Z"
    },
    "papermill": {
     "duration": 5.022539,
     "end_time": "2024-08-23T17:24:18.643255",
     "exception": false,
     "start_time": "2024-08-23T17:24:13.620716",
     "status": "completed"
    },
    "tags": []
   },
   "outputs": [],
   "source": [
    "import torch\n",
    "from torch import nn\n",
    "from torch.utils.data import DataLoader\n",
    "from torchvision import datasets\n",
    "from torchvision.transforms import ToTensor"
   ]
  },
  {
   "cell_type": "markdown",
   "id": "b4c2e6e4",
   "metadata": {
    "papermill": {
     "duration": 0.009139,
     "end_time": "2024-08-23T17:24:18.661770",
     "exception": false,
     "start_time": "2024-08-23T17:24:18.652631",
     "status": "completed"
    },
    "tags": []
   },
   "source": [
    "PyTorch has TorchText, TorchVision and TorchAudio, all contain datasets.\n",
    "\n",
    "We will use a TorchVision dataset.\n",
    "\n",
    "The `torchvision.datasets` module contains `Dataset` objects for many real-world vision data like CIFAR, COCO etc\n",
    "\n",
    "Here is the [full list](https://pytorch.org/vision/stable/datasets.html)\n",
    "\n",
    "We'll use a 3 datasets to get the gist: FashionMNIST.\n",
    "\n",
    "Every TorchVision Dataset includes two arguments: `transform` and `target_transform` to modify the samples and labels respectively."
   ]
  },
  {
   "cell_type": "code",
   "execution_count": 2,
   "id": "0f3ff2de",
   "metadata": {
    "execution": {
     "iopub.execute_input": "2024-08-23T17:24:18.680861Z",
     "iopub.status.busy": "2024-08-23T17:24:18.680237Z",
     "iopub.status.idle": "2024-08-23T17:24:19.991403Z",
     "shell.execute_reply": "2024-08-23T17:24:19.990592Z"
    },
    "papermill": {
     "duration": 1.323263,
     "end_time": "2024-08-23T17:24:19.993812",
     "exception": false,
     "start_time": "2024-08-23T17:24:18.670549",
     "status": "completed"
    },
    "tags": []
   },
   "outputs": [
    {
     "name": "stdout",
     "output_type": "stream",
     "text": [
      "Downloading http://fashion-mnist.s3-website.eu-central-1.amazonaws.com/train-images-idx3-ubyte.gz\n",
      "Downloading http://fashion-mnist.s3-website.eu-central-1.amazonaws.com/train-images-idx3-ubyte.gz to data/FashionMNIST/raw/train-images-idx3-ubyte.gz\n"
     ]
    },
    {
     "name": "stderr",
     "output_type": "stream",
     "text": [
      "100%|██████████| 26421880/26421880 [00:00<00:00, 114678849.43it/s]\n"
     ]
    },
    {
     "name": "stdout",
     "output_type": "stream",
     "text": [
      "Extracting data/FashionMNIST/raw/train-images-idx3-ubyte.gz to data/FashionMNIST/raw\n",
      "\n",
      "Downloading http://fashion-mnist.s3-website.eu-central-1.amazonaws.com/train-labels-idx1-ubyte.gz\n",
      "Downloading http://fashion-mnist.s3-website.eu-central-1.amazonaws.com/train-labels-idx1-ubyte.gz to data/FashionMNIST/raw/train-labels-idx1-ubyte.gz\n"
     ]
    },
    {
     "name": "stderr",
     "output_type": "stream",
     "text": [
      "100%|██████████| 29515/29515 [00:00<00:00, 4997976.61it/s]\n"
     ]
    },
    {
     "name": "stdout",
     "output_type": "stream",
     "text": [
      "Extracting data/FashionMNIST/raw/train-labels-idx1-ubyte.gz to data/FashionMNIST/raw\n",
      "\n",
      "Downloading http://fashion-mnist.s3-website.eu-central-1.amazonaws.com/t10k-images-idx3-ubyte.gz\n",
      "Downloading http://fashion-mnist.s3-website.eu-central-1.amazonaws.com/t10k-images-idx3-ubyte.gz to data/FashionMNIST/raw/t10k-images-idx3-ubyte.gz\n"
     ]
    },
    {
     "name": "stderr",
     "output_type": "stream",
     "text": [
      "100%|██████████| 4422102/4422102 [00:00<00:00, 62410461.08it/s]\n"
     ]
    },
    {
     "name": "stdout",
     "output_type": "stream",
     "text": [
      "Extracting data/FashionMNIST/raw/t10k-images-idx3-ubyte.gz to data/FashionMNIST/raw\n",
      "\n",
      "Downloading http://fashion-mnist.s3-website.eu-central-1.amazonaws.com/t10k-labels-idx1-ubyte.gz\n",
      "Downloading http://fashion-mnist.s3-website.eu-central-1.amazonaws.com/t10k-labels-idx1-ubyte.gz to data/FashionMNIST/raw/t10k-labels-idx1-ubyte.gz\n"
     ]
    },
    {
     "name": "stderr",
     "output_type": "stream",
     "text": [
      "100%|██████████| 5148/5148 [00:00<00:00, 8703054.01it/s]\n"
     ]
    },
    {
     "name": "stdout",
     "output_type": "stream",
     "text": [
      "Extracting data/FashionMNIST/raw/t10k-labels-idx1-ubyte.gz to data/FashionMNIST/raw\n",
      "\n"
     ]
    }
   ],
   "source": [
    "# download training data from open datasets\n",
    "\n",
    "train_data = datasets.FashionMNIST(\n",
    "root = 'data',\n",
    "download=True,\n",
    "train = True,\n",
    "transform=ToTensor()\n",
    ") #required argument = `root` if locally available else #2nd required argument is download=True \n",
    "\n",
    "test_data = datasets.FashionMNIST(\n",
    "root = 'data',\n",
    "download=True,\n",
    "train = False,\n",
    "transform=ToTensor()\n",
    ") #required argument = `root` if locally available else #2nd required argument is download=True "
   ]
  },
  {
   "cell_type": "markdown",
   "id": "06802201",
   "metadata": {
    "papermill": {
     "duration": 0.010504,
     "end_time": "2024-08-23T17:24:20.015251",
     "exception": false,
     "start_time": "2024-08-23T17:24:20.004747",
     "status": "completed"
    },
    "tags": []
   },
   "source": [
    "The `Dataset` is passed as an argument to `DataLoader` to wrap an iterable over our dataset and support automatic batching, sampling, shuffling and multiprocess data loading.\n",
    "\n",
    "A batch size of 64 means each element in the dataloader iterable will return a batch of 64 features & labels."
   ]
  },
  {
   "cell_type": "code",
   "execution_count": 3,
   "id": "0fe43548",
   "metadata": {
    "execution": {
     "iopub.execute_input": "2024-08-23T17:24:20.038935Z",
     "iopub.status.busy": "2024-08-23T17:24:20.038617Z",
     "iopub.status.idle": "2024-08-23T17:24:20.081813Z",
     "shell.execute_reply": "2024-08-23T17:24:20.080876Z"
    },
    "papermill": {
     "duration": 0.056726,
     "end_time": "2024-08-23T17:24:20.083731",
     "exception": false,
     "start_time": "2024-08-23T17:24:20.027005",
     "status": "completed"
    },
    "tags": []
   },
   "outputs": [
    {
     "name": "stdout",
     "output_type": "stream",
     "text": [
      "Shape of X [N, C, H, W]: torch.Size([64, 1, 28, 28])\n",
      "Shape of y: torch.Size([64]) & data type : torch.int64\n"
     ]
    }
   ],
   "source": [
    "#Create dataloaders.\n",
    "train_dataloader = DataLoader(train_data, batch_size=64)\n",
    "test_dataloader = DataLoader(test_data, batch_size=64)\n",
    "\n",
    "for X, y in test_dataloader:\n",
    "    print(f\"Shape of X [N, C, H, W]: {X.shape}\")\n",
    "    print(f\"Shape of y: {y.shape} & data type : {y.dtype}\")\n",
    "    break"
   ]
  },
  {
   "cell_type": "code",
   "execution_count": 4,
   "id": "e7198b80",
   "metadata": {
    "execution": {
     "iopub.execute_input": "2024-08-23T17:24:20.106177Z",
     "iopub.status.busy": "2024-08-23T17:24:20.105905Z",
     "iopub.status.idle": "2024-08-23T17:24:20.112620Z",
     "shell.execute_reply": "2024-08-23T17:24:20.111722Z"
    },
    "papermill": {
     "duration": 0.019849,
     "end_time": "2024-08-23T17:24:20.114486",
     "exception": false,
     "start_time": "2024-08-23T17:24:20.094637",
     "status": "completed"
    },
    "tags": []
   },
   "outputs": [
    {
     "data": {
      "text/plain": [
       "['T-shirt/top',\n",
       " 'Trouser',\n",
       " 'Pullover',\n",
       " 'Dress',\n",
       " 'Coat',\n",
       " 'Sandal',\n",
       " 'Shirt',\n",
       " 'Sneaker',\n",
       " 'Bag',\n",
       " 'Ankle boot']"
      ]
     },
     "execution_count": 4,
     "metadata": {},
     "output_type": "execute_result"
    }
   ],
   "source": [
    "train_dataloader.dataset.classes"
   ]
  },
  {
   "cell_type": "code",
   "execution_count": 5,
   "id": "3f19a015",
   "metadata": {
    "execution": {
     "iopub.execute_input": "2024-08-23T17:24:20.136747Z",
     "iopub.status.busy": "2024-08-23T17:24:20.136453Z",
     "iopub.status.idle": "2024-08-23T17:24:20.141084Z",
     "shell.execute_reply": "2024-08-23T17:24:20.140296Z"
    },
    "papermill": {
     "duration": 0.018132,
     "end_time": "2024-08-23T17:24:20.143204",
     "exception": false,
     "start_time": "2024-08-23T17:24:20.125072",
     "status": "completed"
    },
    "tags": []
   },
   "outputs": [
    {
     "name": "stdout",
     "output_type": "stream",
     "text": [
      "<class 'list'>\n",
      "['T-shirt/top', 'Trouser', 'Pullover', 'Dress', 'Coat', 'Sandal', 'Shirt', 'Sneaker', 'Bag', 'Ankle boot']\n"
     ]
    }
   ],
   "source": [
    "classes = train_dataloader.dataset.classes\n",
    "print(type(classes))\n",
    "print(classes)"
   ]
  },
  {
   "cell_type": "markdown",
   "id": "55e99e01",
   "metadata": {
    "papermill": {
     "duration": 0.010421,
     "end_time": "2024-08-23T17:24:20.164510",
     "exception": false,
     "start_time": "2024-08-23T17:24:20.154089",
     "status": "completed"
    },
    "tags": []
   },
   "source": [
    "# Creating Models\n",
    "\n",
    "To define a NN in PyTorch, a class is created that inherits from nn. Module, the layers are defined in the network in the __init__ function and specify how data will pass through the network in the forward function. To accelerate in the NN, we move it to th GPU or MPS if available"
   ]
  },
  {
   "cell_type": "code",
   "execution_count": 6,
   "id": "ed791020",
   "metadata": {
    "execution": {
     "iopub.execute_input": "2024-08-23T17:24:20.186884Z",
     "iopub.status.busy": "2024-08-23T17:24:20.186599Z",
     "iopub.status.idle": "2024-08-23T17:24:20.244370Z",
     "shell.execute_reply": "2024-08-23T17:24:20.243407Z"
    },
    "papermill": {
     "duration": 0.071452,
     "end_time": "2024-08-23T17:24:20.246644",
     "exception": false,
     "start_time": "2024-08-23T17:24:20.175192",
     "status": "completed"
    },
    "tags": []
   },
   "outputs": [
    {
     "name": "stdout",
     "output_type": "stream",
     "text": [
      "Device :  cuda\n"
     ]
    }
   ],
   "source": [
    "device = (\"cuda\" if torch.cuda.is_available() else \"mps\" if torch.backend.mps.is_available() else \"cpu\")\n",
    "print(\"Device : \", device)"
   ]
  },
  {
   "cell_type": "code",
   "execution_count": 7,
   "id": "d3596fcd",
   "metadata": {
    "execution": {
     "iopub.execute_input": "2024-08-23T17:24:20.269729Z",
     "iopub.status.busy": "2024-08-23T17:24:20.269398Z",
     "iopub.status.idle": "2024-08-23T17:24:20.423020Z",
     "shell.execute_reply": "2024-08-23T17:24:20.421797Z"
    },
    "papermill": {
     "duration": 0.167428,
     "end_time": "2024-08-23T17:24:20.425178",
     "exception": false,
     "start_time": "2024-08-23T17:24:20.257750",
     "status": "completed"
    },
    "tags": []
   },
   "outputs": [
    {
     "name": "stdout",
     "output_type": "stream",
     "text": [
      "NeuralNetwork(\n",
      "  (flatten): Flatten(start_dim=1, end_dim=-1)\n",
      "  (linear_relu_stack): Sequential(\n",
      "    (0): Linear(in_features=784, out_features=512, bias=True)\n",
      "    (1): ReLU()\n",
      "    (2): Linear(in_features=512, out_features=512, bias=True)\n",
      "    (3): ReLU()\n",
      "    (4): Linear(in_features=512, out_features=10, bias=True)\n",
      "  )\n",
      ")\n"
     ]
    }
   ],
   "source": [
    "#Define Model\n",
    "class NeuralNetwork(nn.Module):\n",
    "    def __init__(self):\n",
    "        super().__init__()\n",
    "        self.flatten = nn.Flatten()\n",
    "        self.linear_relu_stack = nn.Sequential(nn.Linear(28*28,512),nn.ReLU(),nn.Linear(512,512),nn.ReLU(),nn.Linear(512,10))\n",
    "    \n",
    "    def forward(self,x):\n",
    "        x = self.flatten(x)\n",
    "        logits = self.linear_relu_stack(x)\n",
    "        return logits\n",
    "\n",
    "model = NeuralNetwork().to(device)\n",
    "print(model)\n",
    "\n",
    "        "
   ]
  },
  {
   "cell_type": "markdown",
   "id": "3597594b",
   "metadata": {
    "papermill": {
     "duration": 0.010989,
     "end_time": "2024-08-23T17:24:20.447587",
     "exception": false,
     "start_time": "2024-08-23T17:24:20.436598",
     "status": "completed"
    },
    "tags": []
   },
   "source": [
    "# optimizing the Model Parameters\n",
    "to train a model a loss function and an optimizer are used."
   ]
  },
  {
   "cell_type": "code",
   "execution_count": 8,
   "id": "31ff8a70",
   "metadata": {
    "execution": {
     "iopub.execute_input": "2024-08-23T17:24:20.471571Z",
     "iopub.status.busy": "2024-08-23T17:24:20.470904Z",
     "iopub.status.idle": "2024-08-23T17:24:20.476007Z",
     "shell.execute_reply": "2024-08-23T17:24:20.475159Z"
    },
    "papermill": {
     "duration": 0.019235,
     "end_time": "2024-08-23T17:24:20.478017",
     "exception": false,
     "start_time": "2024-08-23T17:24:20.458782",
     "status": "completed"
    },
    "tags": []
   },
   "outputs": [],
   "source": [
    "loss_fn = nn.CrossEntropyLoss()\n",
    "optimizer = torch.optim.Adam(model.parameters(),lr=1e-3)"
   ]
  },
  {
   "cell_type": "markdown",
   "id": "13424af8",
   "metadata": {
    "papermill": {
     "duration": 0.010638,
     "end_time": "2024-08-23T17:24:20.499600",
     "exception": false,
     "start_time": "2024-08-23T17:24:20.488962",
     "status": "completed"
    },
    "tags": []
   },
   "source": [
    "In a single training loop, the model makes predictions on the training dataset (fed to it in batches) and backpropagates the prediction error to adjust the model's parameters"
   ]
  },
  {
   "cell_type": "code",
   "execution_count": 9,
   "id": "71568e7d",
   "metadata": {
    "execution": {
     "iopub.execute_input": "2024-08-23T17:24:20.522508Z",
     "iopub.status.busy": "2024-08-23T17:24:20.522225Z",
     "iopub.status.idle": "2024-08-23T17:24:20.531705Z",
     "shell.execute_reply": "2024-08-23T17:24:20.530857Z"
    },
    "papermill": {
     "duration": 0.023064,
     "end_time": "2024-08-23T17:24:20.533651",
     "exception": false,
     "start_time": "2024-08-23T17:24:20.510587",
     "status": "completed"
    },
    "tags": []
   },
   "outputs": [],
   "source": [
    "def train(dataloader, model, loss_fn, optimizer):\n",
    "    size = len(dataloader.dataset)\n",
    "    model.train() #Why?\n",
    "    for batch, (X,y) in enumerate(dataloader):\n",
    "        X, y = X.to(device), y.to(device)\n",
    "        #compute prediction error\n",
    "        pred = model(X)\n",
    "        loss = loss_fn(pred,y)\n",
    "        #Backpropagation\n",
    "        loss.backward()\n",
    "        optimizer.step()\n",
    "        optimizer.zero_grad()#why?\n",
    "        \n",
    "        if batch % 100 == 0:\n",
    "            loss, current = loss.item(), (batch+1)*len(X)\n",
    "            print(f\"loss: {loss:>7f} [{current:>5d}/{size:>5d}]\")\n",
    "\n",
    "# Check the model's performance against the test dataset to ensure it is learning\n",
    "def test(dataloader,model,loss_fn):\n",
    "    size = len(dataloader.dataset)\n",
    "    num_batches = len(dataloader)\n",
    "    model.eval()\n",
    "    test_loss, correct = 0,0\n",
    "    with torch.no_grad():\n",
    "        for X, y in dataloader:\n",
    "            X, y = X.to(device), y.to(device)\n",
    "            pred = model(X)\n",
    "            test_loss += loss_fn(pred,y).item()\n",
    "            correct += (pred.argmax(1) == y).type(torch.float).sum().item()\n",
    "    test_loss /= num_batches\n",
    "    correct /= size\n",
    "    print(f\"Test Error: \\n Accuracy: {(100*correct):>0.1f}%, Average Loss : {test_loss:>8f} \\n\")"
   ]
  },
  {
   "cell_type": "markdown",
   "id": "cb6652e2",
   "metadata": {
    "papermill": {
     "duration": 0.01059,
     "end_time": "2024-08-23T17:24:20.555123",
     "exception": false,
     "start_time": "2024-08-23T17:24:20.544533",
     "status": "completed"
    },
    "tags": []
   },
   "source": [
    "# train over epochs"
   ]
  },
  {
   "cell_type": "code",
   "execution_count": 10,
   "id": "449c182e",
   "metadata": {
    "execution": {
     "iopub.execute_input": "2024-08-23T17:24:20.578178Z",
     "iopub.status.busy": "2024-08-23T17:24:20.577918Z",
     "iopub.status.idle": "2024-08-23T17:25:03.990377Z",
     "shell.execute_reply": "2024-08-23T17:25:03.989544Z"
    },
    "papermill": {
     "duration": 43.42644,
     "end_time": "2024-08-23T17:25:03.992589",
     "exception": false,
     "start_time": "2024-08-23T17:24:20.566149",
     "status": "completed"
    },
    "tags": []
   },
   "outputs": [
    {
     "name": "stdout",
     "output_type": "stream",
     "text": [
      "Epoch 1\n",
      " --------------------------------------\n",
      "loss: 2.311084 [   64/60000]\n",
      "loss: 0.537839 [ 6464/60000]\n",
      "loss: 0.389876 [12864/60000]\n",
      "loss: 0.515429 [19264/60000]\n",
      "loss: 0.466273 [25664/60000]\n",
      "loss: 0.452351 [32064/60000]\n",
      "loss: 0.372711 [38464/60000]\n",
      "loss: 0.514988 [44864/60000]\n",
      "loss: 0.526308 [51264/60000]\n",
      "loss: 0.488072 [57664/60000]\n",
      "Test Error: \n",
      " Accuracy: 84.2%, Average Loss : 0.431486 \n",
      "\n",
      "Epoch 2\n",
      " --------------------------------------\n",
      "loss: 0.290335 [   64/60000]\n",
      "loss: 0.351618 [ 6464/60000]\n",
      "loss: 0.306716 [12864/60000]\n",
      "loss: 0.408244 [19264/60000]\n",
      "loss: 0.422910 [25664/60000]\n",
      "loss: 0.391173 [32064/60000]\n",
      "loss: 0.308097 [38464/60000]\n",
      "loss: 0.474651 [44864/60000]\n",
      "loss: 0.393032 [51264/60000]\n",
      "loss: 0.411235 [57664/60000]\n",
      "Test Error: \n",
      " Accuracy: 85.2%, Average Loss : 0.399621 \n",
      "\n",
      "Epoch 3\n",
      " --------------------------------------\n",
      "loss: 0.215236 [   64/60000]\n",
      "loss: 0.340540 [ 6464/60000]\n",
      "loss: 0.222811 [12864/60000]\n",
      "loss: 0.321803 [19264/60000]\n",
      "loss: 0.366737 [25664/60000]\n",
      "loss: 0.379949 [32064/60000]\n",
      "loss: 0.307137 [38464/60000]\n",
      "loss: 0.416543 [44864/60000]\n",
      "loss: 0.333911 [51264/60000]\n",
      "loss: 0.363261 [57664/60000]\n",
      "Test Error: \n",
      " Accuracy: 85.4%, Average Loss : 0.388164 \n",
      "\n",
      "Epoch 4\n",
      " --------------------------------------\n",
      "loss: 0.220968 [   64/60000]\n",
      "loss: 0.293741 [ 6464/60000]\n",
      "loss: 0.199502 [12864/60000]\n",
      "loss: 0.264196 [19264/60000]\n",
      "loss: 0.341125 [25664/60000]\n",
      "loss: 0.334908 [32064/60000]\n",
      "loss: 0.286389 [38464/60000]\n",
      "loss: 0.359460 [44864/60000]\n",
      "loss: 0.288614 [51264/60000]\n",
      "loss: 0.323490 [57664/60000]\n",
      "Test Error: \n",
      " Accuracy: 85.7%, Average Loss : 0.383869 \n",
      "\n",
      "Epoch 5\n",
      " --------------------------------------\n",
      "loss: 0.225717 [   64/60000]\n",
      "loss: 0.266442 [ 6464/60000]\n",
      "loss: 0.215204 [12864/60000]\n",
      "loss: 0.236048 [19264/60000]\n",
      "loss: 0.295688 [25664/60000]\n",
      "loss: 0.288154 [32064/60000]\n",
      "loss: 0.251644 [38464/60000]\n",
      "loss: 0.303772 [44864/60000]\n",
      "loss: 0.277635 [51264/60000]\n",
      "loss: 0.304784 [57664/60000]\n",
      "Test Error: \n",
      " Accuracy: 87.2%, Average Loss : 0.349875 \n",
      "\n",
      "Done!!!\n"
     ]
    }
   ],
   "source": [
    "epochs = 5\n",
    "for t in range(epochs):\n",
    "    print(f\"Epoch {t+1}\\n --------------------------------------\")\n",
    "    train(train_dataloader, model, loss_fn, optimizer)\n",
    "    test(test_dataloader, model, loss_fn)\n",
    "\n",
    "print(\"Done!!!\")"
   ]
  },
  {
   "cell_type": "code",
   "execution_count": 11,
   "id": "34186d78",
   "metadata": {
    "execution": {
     "iopub.execute_input": "2024-08-23T17:25:04.023849Z",
     "iopub.status.busy": "2024-08-23T17:25:04.023557Z",
     "iopub.status.idle": "2024-08-23T17:25:04.027340Z",
     "shell.execute_reply": "2024-08-23T17:25:04.026479Z"
    },
    "papermill": {
     "duration": 0.021408,
     "end_time": "2024-08-23T17:25:04.029263",
     "exception": false,
     "start_time": "2024-08-23T17:25:04.007855",
     "status": "completed"
    },
    "tags": []
   },
   "outputs": [],
   "source": [
    "#model classes?\n"
   ]
  },
  {
   "cell_type": "markdown",
   "id": "ef479e0c",
   "metadata": {
    "papermill": {
     "duration": 0.014828,
     "end_time": "2024-08-23T17:25:04.058720",
     "exception": false,
     "start_time": "2024-08-23T17:25:04.043892",
     "status": "completed"
    },
    "tags": []
   },
   "source": [
    "# Saving Models\n",
    "\n",
    "A common way to save models is to serialize the internal state dictionary that contains the model paramters. (Simply saving the weights).\n",
    "\n",
    "Here we'll save the classes too."
   ]
  },
  {
   "cell_type": "code",
   "execution_count": 12,
   "id": "cabdadb5",
   "metadata": {
    "execution": {
     "iopub.execute_input": "2024-08-23T17:25:04.089937Z",
     "iopub.status.busy": "2024-08-23T17:25:04.089616Z",
     "iopub.status.idle": "2024-08-23T17:25:04.103252Z",
     "shell.execute_reply": "2024-08-23T17:25:04.102285Z"
    },
    "papermill": {
     "duration": 0.031597,
     "end_time": "2024-08-23T17:25:04.105138",
     "exception": false,
     "start_time": "2024-08-23T17:25:04.073541",
     "status": "completed"
    },
    "tags": []
   },
   "outputs": [
    {
     "name": "stdout",
     "output_type": "stream",
     "text": [
      "Saved PyTorch Model State to model.pth\n"
     ]
    }
   ],
   "source": [
    "torch.save(model.state_dict(),\"model_weights.pth\") #save weights only\n",
    "print(\"Saved PyTorch Model State to model.pth\")"
   ]
  },
  {
   "cell_type": "code",
   "execution_count": 13,
   "id": "4ef1494d",
   "metadata": {
    "execution": {
     "iopub.execute_input": "2024-08-23T17:25:04.136169Z",
     "iopub.status.busy": "2024-08-23T17:25:04.135893Z",
     "iopub.status.idle": "2024-08-23T17:25:04.146639Z",
     "shell.execute_reply": "2024-08-23T17:25:04.145598Z"
    },
    "papermill": {
     "duration": 0.02876,
     "end_time": "2024-08-23T17:25:04.148886",
     "exception": false,
     "start_time": "2024-08-23T17:25:04.120126",
     "status": "completed"
    },
    "tags": []
   },
   "outputs": [
    {
     "name": "stdout",
     "output_type": "stream",
     "text": [
      "Saved PyTorch Model State and classes to model_weights_and_cls.pth\n"
     ]
    }
   ],
   "source": [
    "#save weights and classes\n",
    "torch.save({'model_state':model.state_dict(),'classes':classes},\"model_weights_and_cls.pth\") #save weights\n",
    "print(\"Saved PyTorch Model State and classes to model_weights_and_cls.pth\")"
   ]
  },
  {
   "cell_type": "markdown",
   "id": "e6b50c60",
   "metadata": {
    "papermill": {
     "duration": 0.014876,
     "end_time": "2024-08-23T17:25:04.178968",
     "exception": false,
     "start_time": "2024-08-23T17:25:04.164092",
     "status": "completed"
    },
    "tags": []
   },
   "source": [
    "# Loading Models\n",
    "\n",
    "The process for loading a model includes re-creating the model structure and loading the state dictionary into it."
   ]
  },
  {
   "cell_type": "code",
   "execution_count": 14,
   "id": "5d7bb0d8",
   "metadata": {
    "execution": {
     "iopub.execute_input": "2024-08-23T17:25:04.210643Z",
     "iopub.status.busy": "2024-08-23T17:25:04.210277Z",
     "iopub.status.idle": "2024-08-23T17:25:04.226997Z",
     "shell.execute_reply": "2024-08-23T17:25:04.226122Z"
    },
    "papermill": {
     "duration": 0.034745,
     "end_time": "2024-08-23T17:25:04.228858",
     "exception": false,
     "start_time": "2024-08-23T17:25:04.194113",
     "status": "completed"
    },
    "tags": []
   },
   "outputs": [
    {
     "data": {
      "text/plain": [
       "<All keys matched successfully>"
      ]
     },
     "execution_count": 14,
     "metadata": {},
     "output_type": "execute_result"
    }
   ],
   "source": [
    "#weights only\n",
    "model = NeuralNetwork().to(device)\n",
    "model.load_state_dict(torch.load(\"model_weights.pth\"))"
   ]
  },
  {
   "cell_type": "code",
   "execution_count": 15,
   "id": "c0b4e5e0",
   "metadata": {
    "execution": {
     "iopub.execute_input": "2024-08-23T17:25:04.260550Z",
     "iopub.status.busy": "2024-08-23T17:25:04.259970Z",
     "iopub.status.idle": "2024-08-23T17:25:04.275274Z",
     "shell.execute_reply": "2024-08-23T17:25:04.274301Z"
    },
    "papermill": {
     "duration": 0.033135,
     "end_time": "2024-08-23T17:25:04.277178",
     "exception": false,
     "start_time": "2024-08-23T17:25:04.244043",
     "status": "completed"
    },
    "tags": []
   },
   "outputs": [
    {
     "name": "stdout",
     "output_type": "stream",
     "text": [
      "dict_keys(['model_state', 'classes'])\n"
     ]
    }
   ],
   "source": [
    "#weights and classes\n",
    "model = NeuralNetwork().to(device)\n",
    "checkpoint = torch.load(\"model_weights_and_cls.pth\")\n",
    "print(checkpoint.keys())"
   ]
  },
  {
   "cell_type": "code",
   "execution_count": 16,
   "id": "154878a5",
   "metadata": {
    "execution": {
     "iopub.execute_input": "2024-08-23T17:25:04.309017Z",
     "iopub.status.busy": "2024-08-23T17:25:04.308339Z",
     "iopub.status.idle": "2024-08-23T17:25:04.313901Z",
     "shell.execute_reply": "2024-08-23T17:25:04.312963Z"
    },
    "papermill": {
     "duration": 0.023576,
     "end_time": "2024-08-23T17:25:04.315839",
     "exception": false,
     "start_time": "2024-08-23T17:25:04.292263",
     "status": "completed"
    },
    "tags": []
   },
   "outputs": [
    {
     "name": "stdout",
     "output_type": "stream",
     "text": [
      "['T-shirt/top', 'Trouser', 'Pullover', 'Dress', 'Coat', 'Sandal', 'Shirt', 'Sneaker', 'Bag', 'Ankle boot']\n"
     ]
    }
   ],
   "source": [
    "model.load_state_dict(checkpoint['model_state'])\n",
    "classes = checkpoint['classes']\n",
    "print(classes)"
   ]
  },
  {
   "cell_type": "markdown",
   "id": "49a6c160",
   "metadata": {
    "papermill": {
     "duration": 0.015227,
     "end_time": "2024-08-23T17:25:04.346395",
     "exception": false,
     "start_time": "2024-08-23T17:25:04.331168",
     "status": "completed"
    },
    "tags": []
   },
   "source": [
    "The model can now be used for predictions"
   ]
  },
  {
   "cell_type": "code",
   "execution_count": 17,
   "id": "6727e31d",
   "metadata": {
    "execution": {
     "iopub.execute_input": "2024-08-23T17:25:04.378424Z",
     "iopub.status.busy": "2024-08-23T17:25:04.377854Z",
     "iopub.status.idle": "2024-08-23T17:25:04.382531Z",
     "shell.execute_reply": "2024-08-23T17:25:04.381642Z"
    },
    "papermill": {
     "duration": 0.02242,
     "end_time": "2024-08-23T17:25:04.384361",
     "exception": false,
     "start_time": "2024-08-23T17:25:04.361941",
     "status": "completed"
    },
    "tags": []
   },
   "outputs": [
    {
     "name": "stdout",
     "output_type": "stream",
     "text": [
      "classes : ['T-shirt/top', 'Trouser', 'Pullover', 'Dress', 'Coat', 'Sandal', 'Shirt', 'Sneaker', 'Bag', 'Ankle boot']\n"
     ]
    }
   ],
   "source": [
    "# Get the list of all the classes (target values)\n",
    "classes = checkpoint['classes']\n",
    "print('classes :',classes)\n"
   ]
  },
  {
   "cell_type": "code",
   "execution_count": 18,
   "id": "98f53994",
   "metadata": {
    "execution": {
     "iopub.execute_input": "2024-08-23T17:25:04.416798Z",
     "iopub.status.busy": "2024-08-23T17:25:04.416138Z",
     "iopub.status.idle": "2024-08-23T17:25:04.422302Z",
     "shell.execute_reply": "2024-08-23T17:25:04.421488Z"
    },
    "papermill": {
     "duration": 0.024503,
     "end_time": "2024-08-23T17:25:04.424197",
     "exception": false,
     "start_time": "2024-08-23T17:25:04.399694",
     "status": "completed"
    },
    "tags": []
   },
   "outputs": [
    {
     "data": {
      "text/plain": [
       "NeuralNetwork(\n",
       "  (flatten): Flatten(start_dim=1, end_dim=-1)\n",
       "  (linear_relu_stack): Sequential(\n",
       "    (0): Linear(in_features=784, out_features=512, bias=True)\n",
       "    (1): ReLU()\n",
       "    (2): Linear(in_features=512, out_features=512, bias=True)\n",
       "    (3): ReLU()\n",
       "    (4): Linear(in_features=512, out_features=10, bias=True)\n",
       "  )\n",
       ")"
      ]
     },
     "execution_count": 18,
     "metadata": {},
     "output_type": "execute_result"
    }
   ],
   "source": [
    "model.train()#why?"
   ]
  },
  {
   "cell_type": "code",
   "execution_count": 19,
   "id": "b1dff9a2",
   "metadata": {
    "execution": {
     "iopub.execute_input": "2024-08-23T17:25:04.497039Z",
     "iopub.status.busy": "2024-08-23T17:25:04.496690Z",
     "iopub.status.idle": "2024-08-23T17:25:04.514497Z",
     "shell.execute_reply": "2024-08-23T17:25:04.513502Z"
    },
    "papermill": {
     "duration": 0.076675,
     "end_time": "2024-08-23T17:25:04.516492",
     "exception": false,
     "start_time": "2024-08-23T17:25:04.439817",
     "status": "completed"
    },
    "tags": []
   },
   "outputs": [
    {
     "name": "stdout",
     "output_type": "stream",
     "text": [
      "Predicted: Ankle boot \n",
      " Actual: Ankle boot\n"
     ]
    }
   ],
   "source": [
    "model.eval() #why? ## This disables dropout and batch normalization layers,\n",
    "#ensuring consistent outputs during evaluation\n",
    "\n",
    "\n",
    "x,y = test_data[0][0], test_data[0][1]\n",
    "with torch.no_grad():\n",
    "    x = x.to(device)\n",
    "    pred = model(x)\n",
    "    predicted, actual = classes[pred[0].argmax(0)], classes[y]\n",
    "    print(f\"Predicted: {predicted} \\n Actual: {actual}\")"
   ]
  },
  {
   "cell_type": "code",
   "execution_count": 20,
   "id": "01ed9907",
   "metadata": {
    "execution": {
     "iopub.execute_input": "2024-08-23T17:25:04.548709Z",
     "iopub.status.busy": "2024-08-23T17:25:04.548406Z",
     "iopub.status.idle": "2024-08-23T17:25:04.552039Z",
     "shell.execute_reply": "2024-08-23T17:25:04.551281Z"
    },
    "papermill": {
     "duration": 0.021782,
     "end_time": "2024-08-23T17:25:04.553851",
     "exception": false,
     "start_time": "2024-08-23T17:25:04.532069",
     "status": "completed"
    },
    "tags": []
   },
   "outputs": [],
   "source": [
    "# len(train_dataloader)"
   ]
  },
  {
   "cell_type": "code",
   "execution_count": 21,
   "id": "ed98f087",
   "metadata": {
    "execution": {
     "iopub.execute_input": "2024-08-23T17:25:04.586052Z",
     "iopub.status.busy": "2024-08-23T17:25:04.585773Z",
     "iopub.status.idle": "2024-08-23T17:25:04.589368Z",
     "shell.execute_reply": "2024-08-23T17:25:04.588640Z"
    },
    "papermill": {
     "duration": 0.021999,
     "end_time": "2024-08-23T17:25:04.591314",
     "exception": false,
     "start_time": "2024-08-23T17:25:04.569315",
     "status": "completed"
    },
    "tags": []
   },
   "outputs": [],
   "source": [
    "# train_dataloader.__len__() #number of batches"
   ]
  },
  {
   "cell_type": "code",
   "execution_count": 22,
   "id": "9ddcd4f4",
   "metadata": {
    "execution": {
     "iopub.execute_input": "2024-08-23T17:25:04.623640Z",
     "iopub.status.busy": "2024-08-23T17:25:04.623146Z",
     "iopub.status.idle": "2024-08-23T17:25:04.626836Z",
     "shell.execute_reply": "2024-08-23T17:25:04.626047Z"
    },
    "papermill": {
     "duration": 0.021917,
     "end_time": "2024-08-23T17:25:04.628744",
     "exception": false,
     "start_time": "2024-08-23T17:25:04.606827",
     "status": "completed"
    },
    "tags": []
   },
   "outputs": [],
   "source": [
    "# len(train_dataloader.dataset) #total number of samples"
   ]
  },
  {
   "cell_type": "code",
   "execution_count": 23,
   "id": "3fa3133e",
   "metadata": {
    "execution": {
     "iopub.execute_input": "2024-08-23T17:25:04.661844Z",
     "iopub.status.busy": "2024-08-23T17:25:04.660962Z",
     "iopub.status.idle": "2024-08-23T17:25:04.665022Z",
     "shell.execute_reply": "2024-08-23T17:25:04.664290Z"
    },
    "papermill": {
     "duration": 0.022543,
     "end_time": "2024-08-23T17:25:04.666850",
     "exception": false,
     "start_time": "2024-08-23T17:25:04.644307",
     "status": "completed"
    },
    "tags": []
   },
   "outputs": [],
   "source": [
    "# dummy_train_data = datasets.CIFAR10(root='data1',download=True)"
   ]
  },
  {
   "cell_type": "code",
   "execution_count": 24,
   "id": "a6332df2",
   "metadata": {
    "execution": {
     "iopub.execute_input": "2024-08-23T17:25:04.699100Z",
     "iopub.status.busy": "2024-08-23T17:25:04.698837Z",
     "iopub.status.idle": "2024-08-23T17:25:04.702386Z",
     "shell.execute_reply": "2024-08-23T17:25:04.701649Z"
    },
    "papermill": {
     "duration": 0.021804,
     "end_time": "2024-08-23T17:25:04.704297",
     "exception": false,
     "start_time": "2024-08-23T17:25:04.682493",
     "status": "completed"
    },
    "tags": []
   },
   "outputs": [],
   "source": [
    "# dummy_train_data = datasets.CIFAR100(root='data1',download=True)"
   ]
  },
  {
   "cell_type": "code",
   "execution_count": 25,
   "id": "6316d3c3",
   "metadata": {
    "execution": {
     "iopub.execute_input": "2024-08-23T17:25:04.736251Z",
     "iopub.status.busy": "2024-08-23T17:25:04.735992Z",
     "iopub.status.idle": "2024-08-23T17:25:04.739467Z",
     "shell.execute_reply": "2024-08-23T17:25:04.738713Z"
    },
    "papermill": {
     "duration": 0.021551,
     "end_time": "2024-08-23T17:25:04.741279",
     "exception": false,
     "start_time": "2024-08-23T17:25:04.719728",
     "status": "completed"
    },
    "tags": []
   },
   "outputs": [],
   "source": [
    "# dummy_train_data = datasets.Country211(root='data1',download=True)"
   ]
  },
  {
   "cell_type": "code",
   "execution_count": 26,
   "id": "6f7afd75",
   "metadata": {
    "execution": {
     "iopub.execute_input": "2024-08-23T17:25:04.772996Z",
     "iopub.status.busy": "2024-08-23T17:25:04.772735Z",
     "iopub.status.idle": "2024-08-23T17:25:04.776204Z",
     "shell.execute_reply": "2024-08-23T17:25:04.775476Z"
    },
    "papermill": {
     "duration": 0.02141,
     "end_time": "2024-08-23T17:25:04.778043",
     "exception": false,
     "start_time": "2024-08-23T17:25:04.756633",
     "status": "completed"
    },
    "tags": []
   },
   "outputs": [],
   "source": [
    "# dummy_train_data = datasets.DTD(root='data1',download=True)"
   ]
  },
  {
   "cell_type": "code",
   "execution_count": null,
   "id": "698b2144",
   "metadata": {
    "papermill": {
     "duration": 0.015244,
     "end_time": "2024-08-23T17:25:04.808640",
     "exception": false,
     "start_time": "2024-08-23T17:25:04.793396",
     "status": "completed"
    },
    "tags": []
   },
   "outputs": [],
   "source": []
  }
 ],
 "metadata": {
  "kaggle": {
   "accelerator": "gpu",
   "dataSources": [],
   "dockerImageVersionId": 30746,
   "isGpuEnabled": true,
   "isInternetEnabled": true,
   "language": "python",
   "sourceType": "notebook"
  },
  "kernelspec": {
   "display_name": "Python 3",
   "language": "python",
   "name": "python3"
  },
  "language_info": {
   "codemirror_mode": {
    "name": "ipython",
    "version": 3
   },
   "file_extension": ".py",
   "mimetype": "text/x-python",
   "name": "python",
   "nbconvert_exporter": "python",
   "pygments_lexer": "ipython3",
   "version": "3.10.13"
  },
  "papermill": {
   "default_parameters": {},
   "duration": 55.231234,
   "end_time": "2024-08-23T17:25:06.044713",
   "environment_variables": {},
   "exception": null,
   "input_path": "__notebook__.ipynb",
   "output_path": "__notebook__.ipynb",
   "parameters": {},
   "start_time": "2024-08-23T17:24:10.813479",
   "version": "2.5.0"
  }
 },
 "nbformat": 4,
 "nbformat_minor": 5
}
