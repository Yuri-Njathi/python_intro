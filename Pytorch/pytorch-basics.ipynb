{
 "cells": [
  {
   "cell_type": "markdown",
   "id": "267f87db",
   "metadata": {
    "papermill": {
     "duration": 0.010717,
     "end_time": "2024-08-23T10:18:06.139557",
     "exception": false,
     "start_time": "2024-08-23T10:18:06.128840",
     "status": "completed"
    },
    "tags": []
   },
   "source": [
    "# QuickStart\n",
    "Based on [Pytorch Quickstart](https://pytorch.org/tutorials/beginner/basics/quickstart_tutorial.html)\n",
    "\n",
    "- This section runs through the API for common tasks in ML.\n",
    "\n",
    "## Working with data\n",
    "\n",
    "PyTorch has 2 primitives to work with data: `torch.utils.data.DataLoader` and `torch.utils.data.Dataset`.\n",
    "\n",
    "`Dataset` stores the samples and their corresponding labels, and `Dataloader` wraps an iterable around the `Dataset`."
   ]
  },
  {
   "cell_type": "code",
   "execution_count": 1,
   "id": "d59ce586",
   "metadata": {
    "_cell_guid": "b1076dfc-b9ad-4769-8c92-a6c4dae69d19",
    "_uuid": "8f2839f25d086af736a60e9eeb907d3b93b6e0e5",
    "execution": {
     "iopub.execute_input": "2024-08-23T10:18:06.159917Z",
     "iopub.status.busy": "2024-08-23T10:18:06.159510Z",
     "iopub.status.idle": "2024-08-23T10:18:11.438300Z",
     "shell.execute_reply": "2024-08-23T10:18:11.437506Z"
    },
    "papermill": {
     "duration": 5.291098,
     "end_time": "2024-08-23T10:18:11.440628",
     "exception": false,
     "start_time": "2024-08-23T10:18:06.149530",
     "status": "completed"
    },
    "tags": []
   },
   "outputs": [],
   "source": [
    "import torch\n",
    "from torch import nn\n",
    "from torch.utils.data import DataLoader\n",
    "from torchvision import datasets\n",
    "from torchvision.transforms import ToTensor"
   ]
  },
  {
   "cell_type": "markdown",
   "id": "f7ed2e40",
   "metadata": {
    "papermill": {
     "duration": 0.008778,
     "end_time": "2024-08-23T10:18:11.458231",
     "exception": false,
     "start_time": "2024-08-23T10:18:11.449453",
     "status": "completed"
    },
    "tags": []
   },
   "source": [
    "PyTorch has TorchText, TorchVision and TorchAudio, all contain datasets.\n",
    "\n",
    "We will use a TorchVision dataset.\n",
    "\n",
    "The `torchvision.datasets` module contains `Dataset` objects for many real-world vision data like CIFAR, COCO etc\n",
    "\n",
    "Here is the [full list](https://pytorch.org/vision/stable/datasets.html)\n",
    "\n",
    "We'll use a 3 datasets to get the gist: FashionMNIST.\n",
    "\n",
    "Every TorchVision Dataset includes two arguments: `transform` and `target_transform` to modify the samples and labels respectively."
   ]
  },
  {
   "cell_type": "code",
   "execution_count": 2,
   "id": "d45d2cd1",
   "metadata": {
    "execution": {
     "iopub.execute_input": "2024-08-23T10:18:11.476970Z",
     "iopub.status.busy": "2024-08-23T10:18:11.475959Z",
     "iopub.status.idle": "2024-08-23T10:18:22.864694Z",
     "shell.execute_reply": "2024-08-23T10:18:22.863440Z"
    },
    "papermill": {
     "duration": 11.400372,
     "end_time": "2024-08-23T10:18:22.866913",
     "exception": false,
     "start_time": "2024-08-23T10:18:11.466541",
     "status": "completed"
    },
    "tags": []
   },
   "outputs": [
    {
     "name": "stdout",
     "output_type": "stream",
     "text": [
      "Downloading http://fashion-mnist.s3-website.eu-central-1.amazonaws.com/train-images-idx3-ubyte.gz\n",
      "Downloading http://fashion-mnist.s3-website.eu-central-1.amazonaws.com/train-images-idx3-ubyte.gz to data/FashionMNIST/raw/train-images-idx3-ubyte.gz\n"
     ]
    },
    {
     "name": "stderr",
     "output_type": "stream",
     "text": [
      "100%|██████████| 26421880/26421880 [00:07<00:00, 3772159.95it/s]\n"
     ]
    },
    {
     "name": "stdout",
     "output_type": "stream",
     "text": [
      "Extracting data/FashionMNIST/raw/train-images-idx3-ubyte.gz to data/FashionMNIST/raw\n",
      "\n",
      "Downloading http://fashion-mnist.s3-website.eu-central-1.amazonaws.com/train-labels-idx1-ubyte.gz\n",
      "Downloading http://fashion-mnist.s3-website.eu-central-1.amazonaws.com/train-labels-idx1-ubyte.gz to data/FashionMNIST/raw/train-labels-idx1-ubyte.gz\n"
     ]
    },
    {
     "name": "stderr",
     "output_type": "stream",
     "text": [
      "100%|██████████| 29515/29515 [00:00<00:00, 215381.23it/s]\n"
     ]
    },
    {
     "name": "stdout",
     "output_type": "stream",
     "text": [
      "Extracting data/FashionMNIST/raw/train-labels-idx1-ubyte.gz to data/FashionMNIST/raw\n",
      "\n",
      "Downloading http://fashion-mnist.s3-website.eu-central-1.amazonaws.com/t10k-images-idx3-ubyte.gz\n",
      "Downloading http://fashion-mnist.s3-website.eu-central-1.amazonaws.com/t10k-images-idx3-ubyte.gz to data/FashionMNIST/raw/t10k-images-idx3-ubyte.gz\n"
     ]
    },
    {
     "name": "stderr",
     "output_type": "stream",
     "text": [
      "100%|██████████| 4422102/4422102 [00:01<00:00, 3965251.03it/s]\n"
     ]
    },
    {
     "name": "stdout",
     "output_type": "stream",
     "text": [
      "Extracting data/FashionMNIST/raw/t10k-images-idx3-ubyte.gz to data/FashionMNIST/raw\n",
      "\n",
      "Downloading http://fashion-mnist.s3-website.eu-central-1.amazonaws.com/t10k-labels-idx1-ubyte.gz\n",
      "Downloading http://fashion-mnist.s3-website.eu-central-1.amazonaws.com/t10k-labels-idx1-ubyte.gz to data/FashionMNIST/raw/t10k-labels-idx1-ubyte.gz\n"
     ]
    },
    {
     "name": "stderr",
     "output_type": "stream",
     "text": [
      "100%|██████████| 5148/5148 [00:00<00:00, 10647079.38it/s]"
     ]
    },
    {
     "name": "stdout",
     "output_type": "stream",
     "text": [
      "Extracting data/FashionMNIST/raw/t10k-labels-idx1-ubyte.gz to data/FashionMNIST/raw\n",
      "\n"
     ]
    },
    {
     "name": "stderr",
     "output_type": "stream",
     "text": [
      "\n"
     ]
    }
   ],
   "source": [
    "# download training data from open datasets\n",
    "\n",
    "train_data = datasets.FashionMNIST(\n",
    "root = 'data',\n",
    "download=True,\n",
    "train = True,\n",
    "transform=ToTensor()\n",
    ") #required argument = `root` if locally available else #2nd required argument is download=True \n",
    "\n",
    "test_data = datasets.FashionMNIST(\n",
    "root = 'data',\n",
    "download=True,\n",
    "train = False,\n",
    "transform=ToTensor()\n",
    ") #required argument = `root` if locally available else #2nd required argument is download=True "
   ]
  },
  {
   "cell_type": "markdown",
   "id": "f7bc7e87",
   "metadata": {
    "papermill": {
     "duration": 0.014764,
     "end_time": "2024-08-23T10:18:22.896783",
     "exception": false,
     "start_time": "2024-08-23T10:18:22.882019",
     "status": "completed"
    },
    "tags": []
   },
   "source": [
    "The `Dataset` is passed as an argument to `DataLoader` to wrap an iterable over our dataset and support automatic batching, sampling, shuffling and multiprocess data loading.\n",
    "\n",
    "A batch size of 64 means each element in the dataloader iterable will return a batch of 64 features & labels."
   ]
  },
  {
   "cell_type": "code",
   "execution_count": 3,
   "id": "fc8826f6",
   "metadata": {
    "execution": {
     "iopub.execute_input": "2024-08-23T10:18:22.929199Z",
     "iopub.status.busy": "2024-08-23T10:18:22.928305Z",
     "iopub.status.idle": "2024-08-23T10:18:22.978498Z",
     "shell.execute_reply": "2024-08-23T10:18:22.977487Z"
    },
    "papermill": {
     "duration": 0.067968,
     "end_time": "2024-08-23T10:18:22.980375",
     "exception": false,
     "start_time": "2024-08-23T10:18:22.912407",
     "status": "completed"
    },
    "tags": []
   },
   "outputs": [
    {
     "name": "stdout",
     "output_type": "stream",
     "text": [
      "Shape of X [N, C, H, W]: torch.Size([64, 1, 28, 28])\n",
      "Shape of y: torch.Size([64]) & data type : torch.int64\n"
     ]
    }
   ],
   "source": [
    "#Create dataloaders.\n",
    "train_dataloader = DataLoader(train_data, batch_size=64)\n",
    "test_dataloader = DataLoader(test_data, batch_size=64)\n",
    "\n",
    "for X, y in test_dataloader:\n",
    "    print(f\"Shape of X [N, C, H, W]: {X.shape}\")\n",
    "    print(f\"Shape of y: {y.shape} & data type : {y.dtype}\")\n",
    "    break"
   ]
  },
  {
   "cell_type": "code",
   "execution_count": 4,
   "id": "92d206c4",
   "metadata": {
    "execution": {
     "iopub.execute_input": "2024-08-23T10:18:23.011635Z",
     "iopub.status.busy": "2024-08-23T10:18:23.011321Z",
     "iopub.status.idle": "2024-08-23T10:18:23.017906Z",
     "shell.execute_reply": "2024-08-23T10:18:23.017049Z"
    },
    "papermill": {
     "duration": 0.024434,
     "end_time": "2024-08-23T10:18:23.019970",
     "exception": false,
     "start_time": "2024-08-23T10:18:22.995536",
     "status": "completed"
    },
    "tags": []
   },
   "outputs": [
    {
     "data": {
      "text/plain": [
       "['T-shirt/top',\n",
       " 'Trouser',\n",
       " 'Pullover',\n",
       " 'Dress',\n",
       " 'Coat',\n",
       " 'Sandal',\n",
       " 'Shirt',\n",
       " 'Sneaker',\n",
       " 'Bag',\n",
       " 'Ankle boot']"
      ]
     },
     "execution_count": 4,
     "metadata": {},
     "output_type": "execute_result"
    }
   ],
   "source": [
    "train_dataloader.dataset.classes"
   ]
  },
  {
   "cell_type": "code",
   "execution_count": 5,
   "id": "81591c7b",
   "metadata": {
    "execution": {
     "iopub.execute_input": "2024-08-23T10:18:23.052466Z",
     "iopub.status.busy": "2024-08-23T10:18:23.052172Z",
     "iopub.status.idle": "2024-08-23T10:18:23.056812Z",
     "shell.execute_reply": "2024-08-23T10:18:23.055978Z"
    },
    "papermill": {
     "duration": 0.022843,
     "end_time": "2024-08-23T10:18:23.059015",
     "exception": false,
     "start_time": "2024-08-23T10:18:23.036172",
     "status": "completed"
    },
    "tags": []
   },
   "outputs": [
    {
     "name": "stdout",
     "output_type": "stream",
     "text": [
      "<class 'list'>\n",
      "['T-shirt/top', 'Trouser', 'Pullover', 'Dress', 'Coat', 'Sandal', 'Shirt', 'Sneaker', 'Bag', 'Ankle boot']\n"
     ]
    }
   ],
   "source": [
    "classes = train_dataloader.dataset.classes\n",
    "print(type(classes))\n",
    "print(classes)"
   ]
  },
  {
   "cell_type": "markdown",
   "id": "41b8a7fc",
   "metadata": {
    "papermill": {
     "duration": 0.014678,
     "end_time": "2024-08-23T10:18:23.088715",
     "exception": false,
     "start_time": "2024-08-23T10:18:23.074037",
     "status": "completed"
    },
    "tags": []
   },
   "source": [
    "# Creating Models\n",
    "\n",
    "To define a NN in PyTorch, a class is created that inherits from nn. Module, the layers are defined in the network in the __init__ function and specify how data will pass through the network in the forward function. To accelerate in the NN, we move it to th GPU or MPS if available"
   ]
  },
  {
   "cell_type": "code",
   "execution_count": 6,
   "id": "f2b75350",
   "metadata": {
    "execution": {
     "iopub.execute_input": "2024-08-23T10:18:23.120269Z",
     "iopub.status.busy": "2024-08-23T10:18:23.119742Z",
     "iopub.status.idle": "2024-08-23T10:18:23.185972Z",
     "shell.execute_reply": "2024-08-23T10:18:23.185137Z"
    },
    "papermill": {
     "duration": 0.084129,
     "end_time": "2024-08-23T10:18:23.188071",
     "exception": false,
     "start_time": "2024-08-23T10:18:23.103942",
     "status": "completed"
    },
    "tags": []
   },
   "outputs": [
    {
     "name": "stdout",
     "output_type": "stream",
     "text": [
      "Device :  cuda\n"
     ]
    }
   ],
   "source": [
    "device = (\"cuda\" if torch.cuda.is_available() else \"mps\" if torch.backend.mps.is_available() else \"cpu\")\n",
    "print(\"Device : \", device)"
   ]
  },
  {
   "cell_type": "code",
   "execution_count": 7,
   "id": "93ce4ee1",
   "metadata": {
    "execution": {
     "iopub.execute_input": "2024-08-23T10:18:23.219335Z",
     "iopub.status.busy": "2024-08-23T10:18:23.219064Z",
     "iopub.status.idle": "2024-08-23T10:18:23.375815Z",
     "shell.execute_reply": "2024-08-23T10:18:23.374923Z"
    },
    "papermill": {
     "duration": 0.174571,
     "end_time": "2024-08-23T10:18:23.377847",
     "exception": false,
     "start_time": "2024-08-23T10:18:23.203276",
     "status": "completed"
    },
    "tags": []
   },
   "outputs": [
    {
     "name": "stdout",
     "output_type": "stream",
     "text": [
      "NeuralNetwork(\n",
      "  (flatten): Flatten(start_dim=1, end_dim=-1)\n",
      "  (linear_relu_stack): Sequential(\n",
      "    (0): Linear(in_features=784, out_features=512, bias=True)\n",
      "    (1): ReLU()\n",
      "    (2): Linear(in_features=512, out_features=512, bias=True)\n",
      "    (3): ReLU()\n",
      "    (4): Linear(in_features=512, out_features=10, bias=True)\n",
      "  )\n",
      ")\n"
     ]
    }
   ],
   "source": [
    "#Define Model\n",
    "class NeuralNetwork(nn.Module):\n",
    "    def __init__(self):\n",
    "        super().__init__()\n",
    "        self.flatten = nn.Flatten()\n",
    "        self.linear_relu_stack = nn.Sequential(nn.Linear(28*28,512),nn.ReLU(),nn.Linear(512,512),nn.ReLU(),nn.Linear(512,10))\n",
    "    \n",
    "    def forward(self,x):\n",
    "        x = self.flatten(x)\n",
    "        logits = self.linear_relu_stack(x)\n",
    "        return logits\n",
    "\n",
    "model = NeuralNetwork().to(device)\n",
    "print(model)\n",
    "\n",
    "        "
   ]
  },
  {
   "cell_type": "markdown",
   "id": "999c0275",
   "metadata": {
    "papermill": {
     "duration": 0.015189,
     "end_time": "2024-08-23T10:18:23.408442",
     "exception": false,
     "start_time": "2024-08-23T10:18:23.393253",
     "status": "completed"
    },
    "tags": []
   },
   "source": [
    "# optimizing the Model Parameters\n",
    "to train a model a loss function and an optimizer are used."
   ]
  },
  {
   "cell_type": "code",
   "execution_count": 8,
   "id": "97c10eda",
   "metadata": {
    "execution": {
     "iopub.execute_input": "2024-08-23T10:18:23.440607Z",
     "iopub.status.busy": "2024-08-23T10:18:23.440263Z",
     "iopub.status.idle": "2024-08-23T10:18:23.445390Z",
     "shell.execute_reply": "2024-08-23T10:18:23.444612Z"
    },
    "papermill": {
     "duration": 0.023546,
     "end_time": "2024-08-23T10:18:23.447305",
     "exception": false,
     "start_time": "2024-08-23T10:18:23.423759",
     "status": "completed"
    },
    "tags": []
   },
   "outputs": [],
   "source": [
    "loss_fn = nn.CrossEntropyLoss()\n",
    "optimizer = torch.optim.Adam(model.parameters(),lr=1e-3)"
   ]
  },
  {
   "cell_type": "markdown",
   "id": "36f5a71e",
   "metadata": {
    "papermill": {
     "duration": 0.015062,
     "end_time": "2024-08-23T10:18:23.477353",
     "exception": false,
     "start_time": "2024-08-23T10:18:23.462291",
     "status": "completed"
    },
    "tags": []
   },
   "source": [
    "In a single training loop, the model makes predictions on the training dataset (fed to it in batches) and backpropagates the prediction error to adjust the model's parameters"
   ]
  },
  {
   "cell_type": "code",
   "execution_count": 9,
   "id": "c6c1acdf",
   "metadata": {
    "execution": {
     "iopub.execute_input": "2024-08-23T10:18:23.508419Z",
     "iopub.status.busy": "2024-08-23T10:18:23.508158Z",
     "iopub.status.idle": "2024-08-23T10:18:23.518072Z",
     "shell.execute_reply": "2024-08-23T10:18:23.517368Z"
    },
    "papermill": {
     "duration": 0.027722,
     "end_time": "2024-08-23T10:18:23.519895",
     "exception": false,
     "start_time": "2024-08-23T10:18:23.492173",
     "status": "completed"
    },
    "tags": []
   },
   "outputs": [],
   "source": [
    "def train(dataloader, model, loss_fn, optimizer):\n",
    "    size = len(dataloader.dataset)\n",
    "    model.train() #Why?\n",
    "    for batch, (X,y) in enumerate(dataloader):\n",
    "        X, y = X.to(device), y.to(device)\n",
    "        #compute prediction error\n",
    "        pred = model(X)\n",
    "        loss = loss_fn(pred,y)\n",
    "        #Backpropagation\n",
    "        loss.backward()\n",
    "        optimizer.step()\n",
    "        optimizer.zero_grad()#why?\n",
    "        \n",
    "        if batch % 100 == 0:\n",
    "            loss, current = loss.item(), (batch+1)*len(X)\n",
    "            print(f\"loss: {loss:>7f} [{current:>5d}/{size:>5d}]\")\n",
    "\n",
    "# Check the model's performance against the test dataset to ensure it is learning\n",
    "def test(dataloader,model,loss_fn):\n",
    "    size = len(dataloader.dataset)\n",
    "    num_batches = len(dataloader)\n",
    "    model.eval()\n",
    "    test_loss, correct = 0,0\n",
    "    with torch.no_grad():\n",
    "        for X, y in dataloader:\n",
    "            X, y = X.to(device), y.to(device)\n",
    "            pred = model(X)\n",
    "            test_loss += loss_fn(pred,y).item()\n",
    "            correct += (pred.argmax(1) == y).type(torch.float).sum().item()\n",
    "    test_loss /= num_batches\n",
    "    correct /= size\n",
    "    print(f\"Test Error: \\n Accuracy: {(100*correct):>0.1f}%, Average Loss : {test_loss:>8f} \\n\")"
   ]
  },
  {
   "cell_type": "markdown",
   "id": "7396939e",
   "metadata": {
    "papermill": {
     "duration": 0.014881,
     "end_time": "2024-08-23T10:18:23.549899",
     "exception": false,
     "start_time": "2024-08-23T10:18:23.535018",
     "status": "completed"
    },
    "tags": []
   },
   "source": [
    "# train over epochs"
   ]
  },
  {
   "cell_type": "code",
   "execution_count": 10,
   "id": "f7f8f613",
   "metadata": {
    "execution": {
     "iopub.execute_input": "2024-08-23T10:18:23.580828Z",
     "iopub.status.busy": "2024-08-23T10:18:23.580542Z",
     "iopub.status.idle": "2024-08-23T10:19:08.765701Z",
     "shell.execute_reply": "2024-08-23T10:19:08.764791Z"
    },
    "papermill": {
     "duration": 45.203135,
     "end_time": "2024-08-23T10:19:08.768059",
     "exception": false,
     "start_time": "2024-08-23T10:18:23.564924",
     "status": "completed"
    },
    "tags": []
   },
   "outputs": [
    {
     "name": "stdout",
     "output_type": "stream",
     "text": [
      "Epoch 1\n",
      " --------------------------------------\n",
      "loss: 2.312442 [   64/60000]\n",
      "loss: 0.559191 [ 6464/60000]\n",
      "loss: 0.383175 [12864/60000]\n",
      "loss: 0.480915 [19264/60000]\n",
      "loss: 0.461780 [25664/60000]\n",
      "loss: 0.450933 [32064/60000]\n",
      "loss: 0.379078 [38464/60000]\n",
      "loss: 0.529398 [44864/60000]\n",
      "loss: 0.484964 [51264/60000]\n",
      "loss: 0.519925 [57664/60000]\n",
      "Test Error: \n",
      " Accuracy: 85.2%, Average Loss : 0.410334 \n",
      "\n",
      "Epoch 2\n",
      " --------------------------------------\n",
      "loss: 0.256104 [   64/60000]\n",
      "loss: 0.380373 [ 6464/60000]\n",
      "loss: 0.279755 [12864/60000]\n",
      "loss: 0.403462 [19264/60000]\n",
      "loss: 0.402608 [25664/60000]\n",
      "loss: 0.399307 [32064/60000]\n",
      "loss: 0.306596 [38464/60000]\n",
      "loss: 0.478695 [44864/60000]\n",
      "loss: 0.371814 [51264/60000]\n",
      "loss: 0.441859 [57664/60000]\n",
      "Test Error: \n",
      " Accuracy: 85.2%, Average Loss : 0.395481 \n",
      "\n",
      "Epoch 3\n",
      " --------------------------------------\n",
      "loss: 0.220391 [   64/60000]\n",
      "loss: 0.362194 [ 6464/60000]\n",
      "loss: 0.246603 [12864/60000]\n",
      "loss: 0.321155 [19264/60000]\n",
      "loss: 0.371899 [25664/60000]\n",
      "loss: 0.365702 [32064/60000]\n",
      "loss: 0.289473 [38464/60000]\n",
      "loss: 0.410536 [44864/60000]\n",
      "loss: 0.339649 [51264/60000]\n",
      "loss: 0.377163 [57664/60000]\n",
      "Test Error: \n",
      " Accuracy: 86.2%, Average Loss : 0.377905 \n",
      "\n",
      "Epoch 4\n",
      " --------------------------------------\n",
      "loss: 0.202257 [   64/60000]\n",
      "loss: 0.346497 [ 6464/60000]\n",
      "loss: 0.250496 [12864/60000]\n",
      "loss: 0.251606 [19264/60000]\n",
      "loss: 0.369520 [25664/60000]\n",
      "loss: 0.339611 [32064/60000]\n",
      "loss: 0.241534 [38464/60000]\n",
      "loss: 0.344813 [44864/60000]\n",
      "loss: 0.333442 [51264/60000]\n",
      "loss: 0.347385 [57664/60000]\n",
      "Test Error: \n",
      " Accuracy: 86.8%, Average Loss : 0.364364 \n",
      "\n",
      "Epoch 5\n",
      " --------------------------------------\n",
      "loss: 0.203952 [   64/60000]\n",
      "loss: 0.304524 [ 6464/60000]\n",
      "loss: 0.215047 [12864/60000]\n",
      "loss: 0.270030 [19264/60000]\n",
      "loss: 0.436228 [25664/60000]\n",
      "loss: 0.322257 [32064/60000]\n",
      "loss: 0.228889 [38464/60000]\n",
      "loss: 0.350442 [44864/60000]\n",
      "loss: 0.281098 [51264/60000]\n",
      "loss: 0.331190 [57664/60000]\n",
      "Test Error: \n",
      " Accuracy: 86.3%, Average Loss : 0.382497 \n",
      "\n",
      "Done!!!\n"
     ]
    }
   ],
   "source": [
    "epochs = 5\n",
    "for t in range(epochs):\n",
    "    print(f\"Epoch {t+1}\\n --------------------------------------\")\n",
    "    train(train_dataloader, model, loss_fn, optimizer)\n",
    "    test(test_dataloader, model, loss_fn)\n",
    "\n",
    "print(\"Done!!!\")"
   ]
  },
  {
   "cell_type": "code",
   "execution_count": 11,
   "id": "58bf8498",
   "metadata": {
    "execution": {
     "iopub.execute_input": "2024-08-23T10:19:08.807349Z",
     "iopub.status.busy": "2024-08-23T10:19:08.807017Z",
     "iopub.status.idle": "2024-08-23T10:19:08.810804Z",
     "shell.execute_reply": "2024-08-23T10:19:08.810001Z"
    },
    "papermill": {
     "duration": 0.025524,
     "end_time": "2024-08-23T10:19:08.812669",
     "exception": false,
     "start_time": "2024-08-23T10:19:08.787145",
     "status": "completed"
    },
    "tags": []
   },
   "outputs": [],
   "source": [
    "#model classes?\n"
   ]
  },
  {
   "cell_type": "markdown",
   "id": "991b2a40",
   "metadata": {
    "papermill": {
     "duration": 0.018861,
     "end_time": "2024-08-23T10:19:08.850456",
     "exception": false,
     "start_time": "2024-08-23T10:19:08.831595",
     "status": "completed"
    },
    "tags": []
   },
   "source": [
    "# Saving Models\n",
    "\n",
    "A common way to save models is to serialize the internal state dictionary that contains the model paramters. (Simply saving the weights).\n",
    "\n",
    "Here we'll save the classes too."
   ]
  },
  {
   "cell_type": "code",
   "execution_count": 12,
   "id": "025ece6c",
   "metadata": {
    "execution": {
     "iopub.execute_input": "2024-08-23T10:19:08.889302Z",
     "iopub.status.busy": "2024-08-23T10:19:08.889051Z",
     "iopub.status.idle": "2024-08-23T10:19:08.903002Z",
     "shell.execute_reply": "2024-08-23T10:19:08.902037Z"
    },
    "papermill": {
     "duration": 0.035507,
     "end_time": "2024-08-23T10:19:08.904818",
     "exception": false,
     "start_time": "2024-08-23T10:19:08.869311",
     "status": "completed"
    },
    "tags": []
   },
   "outputs": [
    {
     "name": "stdout",
     "output_type": "stream",
     "text": [
      "Saved PyTorch Model State to model.pth\n"
     ]
    }
   ],
   "source": [
    "torch.save(model.state_dict(),\"model_weights.pth\") #save weights only\n",
    "print(\"Saved PyTorch Model State to model.pth\")"
   ]
  },
  {
   "cell_type": "code",
   "execution_count": 13,
   "id": "45b1d1cb",
   "metadata": {
    "execution": {
     "iopub.execute_input": "2024-08-23T10:19:08.944344Z",
     "iopub.status.busy": "2024-08-23T10:19:08.943727Z",
     "iopub.status.idle": "2024-08-23T10:19:08.953317Z",
     "shell.execute_reply": "2024-08-23T10:19:08.952522Z"
    },
    "papermill": {
     "duration": 0.031469,
     "end_time": "2024-08-23T10:19:08.955449",
     "exception": false,
     "start_time": "2024-08-23T10:19:08.923980",
     "status": "completed"
    },
    "tags": []
   },
   "outputs": [
    {
     "name": "stdout",
     "output_type": "stream",
     "text": [
      "Saved PyTorch Model State and classes to model_weights_and_cls.pth\n"
     ]
    }
   ],
   "source": [
    "#save weights and classes\n",
    "torch.save({'model_state':model.state_dict(),'classes':classes},\"model_weights_and_cls.pth\") #save weights\n",
    "print(\"Saved PyTorch Model State and classes to model_weights_and_cls.pth\")"
   ]
  },
  {
   "cell_type": "markdown",
   "id": "dd02b46f",
   "metadata": {
    "papermill": {
     "duration": 0.018779,
     "end_time": "2024-08-23T10:19:08.993298",
     "exception": false,
     "start_time": "2024-08-23T10:19:08.974519",
     "status": "completed"
    },
    "tags": []
   },
   "source": [
    "# Loading Models\n",
    "\n",
    "The process for loading a model includes re-creating the model structure and loading the state dictionary into it."
   ]
  },
  {
   "cell_type": "code",
   "execution_count": 14,
   "id": "d9d9405f",
   "metadata": {
    "execution": {
     "iopub.execute_input": "2024-08-23T10:19:09.032347Z",
     "iopub.status.busy": "2024-08-23T10:19:09.032089Z",
     "iopub.status.idle": "2024-08-23T10:19:09.049189Z",
     "shell.execute_reply": "2024-08-23T10:19:09.048387Z"
    },
    "papermill": {
     "duration": 0.038787,
     "end_time": "2024-08-23T10:19:09.050979",
     "exception": false,
     "start_time": "2024-08-23T10:19:09.012192",
     "status": "completed"
    },
    "tags": []
   },
   "outputs": [
    {
     "data": {
      "text/plain": [
       "<All keys matched successfully>"
      ]
     },
     "execution_count": 14,
     "metadata": {},
     "output_type": "execute_result"
    }
   ],
   "source": [
    "#weights only\n",
    "model = NeuralNetwork().to(device)\n",
    "model.load_state_dict(torch.load(\"model_weights.pth\"))"
   ]
  },
  {
   "cell_type": "code",
   "execution_count": 15,
   "id": "e949a135",
   "metadata": {
    "execution": {
     "iopub.execute_input": "2024-08-23T10:19:09.135866Z",
     "iopub.status.busy": "2024-08-23T10:19:09.134812Z",
     "iopub.status.idle": "2024-08-23T10:19:09.150720Z",
     "shell.execute_reply": "2024-08-23T10:19:09.149688Z"
    },
    "papermill": {
     "duration": 0.03841,
     "end_time": "2024-08-23T10:19:09.152618",
     "exception": false,
     "start_time": "2024-08-23T10:19:09.114208",
     "status": "completed"
    },
    "tags": []
   },
   "outputs": [
    {
     "name": "stdout",
     "output_type": "stream",
     "text": [
      "dict_keys(['model_state', 'classes'])\n"
     ]
    }
   ],
   "source": [
    "#weights and classes\n",
    "model = NeuralNetwork().to(device)\n",
    "checkpoint = torch.load(\"model_weights_and_cls.pth\")\n",
    "print(checkpoint.keys())"
   ]
  },
  {
   "cell_type": "code",
   "execution_count": 16,
   "id": "6795ecd6",
   "metadata": {
    "execution": {
     "iopub.execute_input": "2024-08-23T10:19:09.194054Z",
     "iopub.status.busy": "2024-08-23T10:19:09.193534Z",
     "iopub.status.idle": "2024-08-23T10:19:09.198852Z",
     "shell.execute_reply": "2024-08-23T10:19:09.197985Z"
    },
    "papermill": {
     "duration": 0.028811,
     "end_time": "2024-08-23T10:19:09.200864",
     "exception": false,
     "start_time": "2024-08-23T10:19:09.172053",
     "status": "completed"
    },
    "tags": []
   },
   "outputs": [
    {
     "name": "stdout",
     "output_type": "stream",
     "text": [
      "['T-shirt/top', 'Trouser', 'Pullover', 'Dress', 'Coat', 'Sandal', 'Shirt', 'Sneaker', 'Bag', 'Ankle boot']\n"
     ]
    }
   ],
   "source": [
    "model.load_state_dict(checkpoint['model_state'])\n",
    "classes = checkpoint['classes']\n",
    "print(classes)"
   ]
  },
  {
   "cell_type": "markdown",
   "id": "be470ec6",
   "metadata": {
    "papermill": {
     "duration": 0.019513,
     "end_time": "2024-08-23T10:19:09.240025",
     "exception": false,
     "start_time": "2024-08-23T10:19:09.220512",
     "status": "completed"
    },
    "tags": []
   },
   "source": [
    "The model can now be used for predictions"
   ]
  },
  {
   "cell_type": "code",
   "execution_count": 17,
   "id": "c2f6bed7",
   "metadata": {
    "execution": {
     "iopub.execute_input": "2024-08-23T10:19:09.279836Z",
     "iopub.status.busy": "2024-08-23T10:19:09.279573Z",
     "iopub.status.idle": "2024-08-23T10:19:09.284030Z",
     "shell.execute_reply": "2024-08-23T10:19:09.283174Z"
    },
    "papermill": {
     "duration": 0.026524,
     "end_time": "2024-08-23T10:19:09.285944",
     "exception": false,
     "start_time": "2024-08-23T10:19:09.259420",
     "status": "completed"
    },
    "tags": []
   },
   "outputs": [
    {
     "name": "stdout",
     "output_type": "stream",
     "text": [
      "classes : ['T-shirt/top', 'Trouser', 'Pullover', 'Dress', 'Coat', 'Sandal', 'Shirt', 'Sneaker', 'Bag', 'Ankle boot']\n"
     ]
    }
   ],
   "source": [
    "# Get the list of all the classes (target values)\n",
    "classes = checkpoint['classes']\n",
    "print('classes :',classes)\n"
   ]
  },
  {
   "cell_type": "code",
   "execution_count": 18,
   "id": "73c5823b",
   "metadata": {
    "execution": {
     "iopub.execute_input": "2024-08-23T10:19:09.327026Z",
     "iopub.status.busy": "2024-08-23T10:19:09.326238Z",
     "iopub.status.idle": "2024-08-23T10:19:09.332064Z",
     "shell.execute_reply": "2024-08-23T10:19:09.331303Z"
    },
    "papermill": {
     "duration": 0.028294,
     "end_time": "2024-08-23T10:19:09.333963",
     "exception": false,
     "start_time": "2024-08-23T10:19:09.305669",
     "status": "completed"
    },
    "tags": []
   },
   "outputs": [
    {
     "data": {
      "text/plain": [
       "938"
      ]
     },
     "execution_count": 18,
     "metadata": {},
     "output_type": "execute_result"
    }
   ],
   "source": [
    "len(train_dataloader)"
   ]
  },
  {
   "cell_type": "code",
   "execution_count": 19,
   "id": "9bd1287e",
   "metadata": {
    "execution": {
     "iopub.execute_input": "2024-08-23T10:19:09.374467Z",
     "iopub.status.busy": "2024-08-23T10:19:09.373948Z",
     "iopub.status.idle": "2024-08-23T10:19:09.379397Z",
     "shell.execute_reply": "2024-08-23T10:19:09.378477Z"
    },
    "papermill": {
     "duration": 0.027582,
     "end_time": "2024-08-23T10:19:09.381208",
     "exception": false,
     "start_time": "2024-08-23T10:19:09.353626",
     "status": "completed"
    },
    "tags": []
   },
   "outputs": [
    {
     "data": {
      "text/plain": [
       "938"
      ]
     },
     "execution_count": 19,
     "metadata": {},
     "output_type": "execute_result"
    }
   ],
   "source": [
    "train_dataloader.__len__() #number of batches"
   ]
  },
  {
   "cell_type": "code",
   "execution_count": 20,
   "id": "d0b3e2db",
   "metadata": {
    "execution": {
     "iopub.execute_input": "2024-08-23T10:19:09.421881Z",
     "iopub.status.busy": "2024-08-23T10:19:09.421571Z",
     "iopub.status.idle": "2024-08-23T10:19:09.426935Z",
     "shell.execute_reply": "2024-08-23T10:19:09.426075Z"
    },
    "papermill": {
     "duration": 0.027895,
     "end_time": "2024-08-23T10:19:09.428922",
     "exception": false,
     "start_time": "2024-08-23T10:19:09.401027",
     "status": "completed"
    },
    "tags": []
   },
   "outputs": [
    {
     "data": {
      "text/plain": [
       "60000"
      ]
     },
     "execution_count": 20,
     "metadata": {},
     "output_type": "execute_result"
    }
   ],
   "source": [
    "len(train_dataloader.dataset) #total number of samples"
   ]
  },
  {
   "cell_type": "code",
   "execution_count": 21,
   "id": "a7cac487",
   "metadata": {
    "execution": {
     "iopub.execute_input": "2024-08-23T10:19:09.470082Z",
     "iopub.status.busy": "2024-08-23T10:19:09.469795Z",
     "iopub.status.idle": "2024-08-23T10:19:15.850799Z",
     "shell.execute_reply": "2024-08-23T10:19:15.849616Z"
    },
    "papermill": {
     "duration": 6.404524,
     "end_time": "2024-08-23T10:19:15.853424",
     "exception": false,
     "start_time": "2024-08-23T10:19:09.448900",
     "status": "completed"
    },
    "tags": []
   },
   "outputs": [
    {
     "name": "stdout",
     "output_type": "stream",
     "text": [
      "Downloading https://www.cs.toronto.edu/~kriz/cifar-10-python.tar.gz to data1/cifar-10-python.tar.gz\n"
     ]
    },
    {
     "name": "stderr",
     "output_type": "stream",
     "text": [
      "100%|██████████| 170498071/170498071 [00:03<00:00, 48063114.10it/s]\n"
     ]
    },
    {
     "name": "stdout",
     "output_type": "stream",
     "text": [
      "Extracting data1/cifar-10-python.tar.gz to data1\n"
     ]
    }
   ],
   "source": [
    "dummy_train_data = datasets.CIFAR10(root='data1',download=True)"
   ]
  },
  {
   "cell_type": "code",
   "execution_count": 22,
   "id": "81dfd96c",
   "metadata": {
    "execution": {
     "iopub.execute_input": "2024-08-23T10:19:15.901774Z",
     "iopub.status.busy": "2024-08-23T10:19:15.901148Z",
     "iopub.status.idle": "2024-08-23T10:19:27.837105Z",
     "shell.execute_reply": "2024-08-23T10:19:27.836313Z"
    },
    "papermill": {
     "duration": 11.962452,
     "end_time": "2024-08-23T10:19:27.839449",
     "exception": false,
     "start_time": "2024-08-23T10:19:15.876997",
     "status": "completed"
    },
    "tags": []
   },
   "outputs": [
    {
     "name": "stdout",
     "output_type": "stream",
     "text": [
      "Downloading https://www.cs.toronto.edu/~kriz/cifar-100-python.tar.gz to data1/cifar-100-python.tar.gz\n"
     ]
    },
    {
     "name": "stderr",
     "output_type": "stream",
     "text": [
      "100%|██████████| 169001437/169001437 [00:08<00:00, 18781214.69it/s]\n"
     ]
    },
    {
     "name": "stdout",
     "output_type": "stream",
     "text": [
      "Extracting data1/cifar-100-python.tar.gz to data1\n"
     ]
    }
   ],
   "source": [
    "dummy_train_data = datasets.CIFAR100(root='data1',download=True)"
   ]
  },
  {
   "cell_type": "code",
   "execution_count": 23,
   "id": "91e11d00",
   "metadata": {
    "execution": {
     "iopub.execute_input": "2024-08-23T10:19:27.900911Z",
     "iopub.status.busy": "2024-08-23T10:19:27.900123Z",
     "iopub.status.idle": "2024-08-23T10:19:27.904269Z",
     "shell.execute_reply": "2024-08-23T10:19:27.903433Z"
    },
    "papermill": {
     "duration": 0.03657,
     "end_time": "2024-08-23T10:19:27.906081",
     "exception": false,
     "start_time": "2024-08-23T10:19:27.869511",
     "status": "completed"
    },
    "tags": []
   },
   "outputs": [],
   "source": [
    "# dummy_train_data = datasets.Country211(root='data1',download=True)"
   ]
  },
  {
   "cell_type": "code",
   "execution_count": 24,
   "id": "2003ef3a",
   "metadata": {
    "execution": {
     "iopub.execute_input": "2024-08-23T10:19:27.966428Z",
     "iopub.status.busy": "2024-08-23T10:19:27.965735Z",
     "iopub.status.idle": "2024-08-23T10:20:02.475573Z",
     "shell.execute_reply": "2024-08-23T10:20:02.474710Z"
    },
    "papermill": {
     "duration": 34.542413,
     "end_time": "2024-08-23T10:20:02.477975",
     "exception": false,
     "start_time": "2024-08-23T10:19:27.935562",
     "status": "completed"
    },
    "tags": []
   },
   "outputs": [
    {
     "name": "stdout",
     "output_type": "stream",
     "text": [
      "Downloading https://thor.robots.ox.ac.uk/dtd/dtd-r1.0.1.tar.gz to data1/dtd/dtd-r1.0.1.tar.gz\n"
     ]
    },
    {
     "name": "stderr",
     "output_type": "stream",
     "text": [
      "100%|██████████| 625239812/625239812 [00:25<00:00, 24184126.19it/s]\n"
     ]
    },
    {
     "name": "stdout",
     "output_type": "stream",
     "text": [
      "Extracting data1/dtd/dtd-r1.0.1.tar.gz to data1/dtd\n"
     ]
    }
   ],
   "source": [
    "dummy_train_data = datasets.DTD(root='data1',download=True)"
   ]
  },
  {
   "cell_type": "code",
   "execution_count": null,
   "id": "33baca1c",
   "metadata": {
    "papermill": {
     "duration": 0.046812,
     "end_time": "2024-08-23T10:20:02.572624",
     "exception": false,
     "start_time": "2024-08-23T10:20:02.525812",
     "status": "completed"
    },
    "tags": []
   },
   "outputs": [],
   "source": []
  }
 ],
 "metadata": {
  "kaggle": {
   "accelerator": "gpu",
   "dataSources": [],
   "dockerImageVersionId": 30746,
   "isGpuEnabled": true,
   "isInternetEnabled": true,
   "language": "python",
   "sourceType": "notebook"
  },
  "kernelspec": {
   "display_name": "Python 3",
   "language": "python",
   "name": "python3"
  },
  "language_info": {
   "codemirror_mode": {
    "name": "ipython",
    "version": 3
   },
   "file_extension": ".py",
   "mimetype": "text/x-python",
   "name": "python",
   "nbconvert_exporter": "python",
   "pygments_lexer": "ipython3",
   "version": "3.10.13"
  },
  "papermill": {
   "default_parameters": {},
   "duration": 121.048211,
   "end_time": "2024-08-23T10:20:04.143823",
   "environment_variables": {},
   "exception": null,
   "input_path": "__notebook__.ipynb",
   "output_path": "__notebook__.ipynb",
   "parameters": {},
   "start_time": "2024-08-23T10:18:03.095612",
   "version": "2.5.0"
  }
 },
 "nbformat": 4,
 "nbformat_minor": 5
}
