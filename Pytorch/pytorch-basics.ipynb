{
 "cells": [
  {
   "cell_type": "markdown",
   "id": "015bebdb",
   "metadata": {
    "papermill": {
     "duration": 0.006675,
     "end_time": "2024-08-22T20:37:51.623208",
     "exception": false,
     "start_time": "2024-08-22T20:37:51.616533",
     "status": "completed"
    },
    "tags": []
   },
   "source": [
    "# QuickStart\n",
    "Based on [Pytorch Quickstart](https://pytorch.org/tutorials/beginner/basics/quickstart_tutorial.html)\n",
    "\n",
    "- This section runs through the API for common tasks in ML.\n",
    "\n",
    "## Working with data\n",
    "\n",
    "PyTorch has 2 primitives to work with data: `torch.utils.data.DataLoader` and `torch.utils.data.Dataset`.\n",
    "\n",
    "`Dataset` stores the samples and their corresponding labels, and `Dataloader` wraps an iterable around the `Dataset`."
   ]
  },
  {
   "cell_type": "code",
   "execution_count": 1,
   "id": "a1c0bdba",
   "metadata": {
    "_cell_guid": "b1076dfc-b9ad-4769-8c92-a6c4dae69d19",
    "_uuid": "8f2839f25d086af736a60e9eeb907d3b93b6e0e5",
    "execution": {
     "iopub.execute_input": "2024-08-22T20:37:51.638316Z",
     "iopub.status.busy": "2024-08-22T20:37:51.637477Z",
     "iopub.status.idle": "2024-08-22T20:37:57.280426Z",
     "shell.execute_reply": "2024-08-22T20:37:57.279320Z"
    },
    "papermill": {
     "duration": 5.653473,
     "end_time": "2024-08-22T20:37:57.283153",
     "exception": false,
     "start_time": "2024-08-22T20:37:51.629680",
     "status": "completed"
    },
    "tags": []
   },
   "outputs": [],
   "source": [
    "import torch\n",
    "from torch import nn\n",
    "from torch.utils.data import DataLoader\n",
    "from torchvision import datasets\n",
    "from torchvision.transforms import ToTensor"
   ]
  },
  {
   "cell_type": "markdown",
   "id": "c4e95840",
   "metadata": {
    "papermill": {
     "duration": 0.006554,
     "end_time": "2024-08-22T20:37:57.296085",
     "exception": false,
     "start_time": "2024-08-22T20:37:57.289531",
     "status": "completed"
    },
    "tags": []
   },
   "source": [
    "PyTorch has TorchText, TorchVision and TorchAudio, all contain datasets.\n",
    "\n",
    "We will use a TorchVision dataset.\n",
    "\n",
    "The `torchvision.datasets` module contains `Dataset` objects for many real-world vision data like CIFAR, COCO etc\n",
    "\n",
    "Here is the [full list](https://pytorch.org/vision/stable/datasets.html)\n",
    "\n",
    "We'll use a 3 datasets to get the gist: FashionMNIST.\n",
    "\n",
    "Every TorchVision Dataset includes two arguments: `transform` and `target_transform` to modify the samples and labels respectively."
   ]
  },
  {
   "cell_type": "code",
   "execution_count": 2,
   "id": "960353ef",
   "metadata": {
    "execution": {
     "iopub.execute_input": "2024-08-22T20:37:57.310287Z",
     "iopub.status.busy": "2024-08-22T20:37:57.309414Z",
     "iopub.status.idle": "2024-08-22T20:38:08.041692Z",
     "shell.execute_reply": "2024-08-22T20:38:08.040423Z"
    },
    "papermill": {
     "duration": 10.742271,
     "end_time": "2024-08-22T20:38:08.044500",
     "exception": false,
     "start_time": "2024-08-22T20:37:57.302229",
     "status": "completed"
    },
    "tags": []
   },
   "outputs": [
    {
     "name": "stdout",
     "output_type": "stream",
     "text": [
      "Downloading http://fashion-mnist.s3-website.eu-central-1.amazonaws.com/train-images-idx3-ubyte.gz\n",
      "Downloading http://fashion-mnist.s3-website.eu-central-1.amazonaws.com/train-images-idx3-ubyte.gz to data/FashionMNIST/raw/train-images-idx3-ubyte.gz\n"
     ]
    },
    {
     "name": "stderr",
     "output_type": "stream",
     "text": [
      "100%|██████████| 26421880/26421880 [00:03<00:00, 7268137.37it/s] \n"
     ]
    },
    {
     "name": "stdout",
     "output_type": "stream",
     "text": [
      "Extracting data/FashionMNIST/raw/train-images-idx3-ubyte.gz to data/FashionMNIST/raw\n",
      "\n",
      "Downloading http://fashion-mnist.s3-website.eu-central-1.amazonaws.com/train-labels-idx1-ubyte.gz\n",
      "Downloading http://fashion-mnist.s3-website.eu-central-1.amazonaws.com/train-labels-idx1-ubyte.gz to data/FashionMNIST/raw/train-labels-idx1-ubyte.gz\n"
     ]
    },
    {
     "name": "stderr",
     "output_type": "stream",
     "text": [
      "100%|██████████| 29515/29515 [00:00<00:00, 308923.42it/s]\n"
     ]
    },
    {
     "name": "stdout",
     "output_type": "stream",
     "text": [
      "Extracting data/FashionMNIST/raw/train-labels-idx1-ubyte.gz to data/FashionMNIST/raw\n",
      "\n",
      "Downloading http://fashion-mnist.s3-website.eu-central-1.amazonaws.com/t10k-images-idx3-ubyte.gz\n",
      "Downloading http://fashion-mnist.s3-website.eu-central-1.amazonaws.com/t10k-images-idx3-ubyte.gz to data/FashionMNIST/raw/t10k-images-idx3-ubyte.gz\n"
     ]
    },
    {
     "name": "stderr",
     "output_type": "stream",
     "text": [
      "100%|██████████| 4422102/4422102 [00:04<00:00, 1001270.67it/s]\n"
     ]
    },
    {
     "name": "stdout",
     "output_type": "stream",
     "text": [
      "Extracting data/FashionMNIST/raw/t10k-images-idx3-ubyte.gz to data/FashionMNIST/raw\n",
      "\n",
      "Downloading http://fashion-mnist.s3-website.eu-central-1.amazonaws.com/t10k-labels-idx1-ubyte.gz\n",
      "Downloading http://fashion-mnist.s3-website.eu-central-1.amazonaws.com/t10k-labels-idx1-ubyte.gz to data/FashionMNIST/raw/t10k-labels-idx1-ubyte.gz\n"
     ]
    },
    {
     "name": "stderr",
     "output_type": "stream",
     "text": [
      "100%|██████████| 5148/5148 [00:00<00:00, 9605105.42it/s]"
     ]
    },
    {
     "name": "stdout",
     "output_type": "stream",
     "text": [
      "Extracting data/FashionMNIST/raw/t10k-labels-idx1-ubyte.gz to data/FashionMNIST/raw\n",
      "\n"
     ]
    },
    {
     "name": "stderr",
     "output_type": "stream",
     "text": [
      "\n"
     ]
    }
   ],
   "source": [
    "# download training data from open datasets\n",
    "\n",
    "train_data = datasets.FashionMNIST(\n",
    "root = 'data',\n",
    "download=True,\n",
    "train = True,\n",
    "transform=ToTensor()\n",
    ") #required argument = `root` if locally available else #2nd required argument is download=True \n",
    "\n",
    "test_data = datasets.FashionMNIST(\n",
    "root = 'data',\n",
    "download=True,\n",
    "train = False,\n",
    "transform=ToTensor()\n",
    ") #required argument = `root` if locally available else #2nd required argument is download=True "
   ]
  },
  {
   "cell_type": "markdown",
   "id": "e69c54cd",
   "metadata": {
    "papermill": {
     "duration": 0.012861,
     "end_time": "2024-08-22T20:38:08.070279",
     "exception": false,
     "start_time": "2024-08-22T20:38:08.057418",
     "status": "completed"
    },
    "tags": []
   },
   "source": [
    "The `Dataset` is passed as an argument to `DataLoader` to wrap an iterable over our dataset and support automatic batching, sampling, shuffling and multiprocess data loading.\n",
    "\n",
    "A batch size of 64 means each element in the dataloader iterable will return a batch of 64 features & labels."
   ]
  },
  {
   "cell_type": "code",
   "execution_count": 3,
   "id": "bfa6834d",
   "metadata": {
    "execution": {
     "iopub.execute_input": "2024-08-22T20:38:08.098788Z",
     "iopub.status.busy": "2024-08-22T20:38:08.098381Z",
     "iopub.status.idle": "2024-08-22T20:38:08.151544Z",
     "shell.execute_reply": "2024-08-22T20:38:08.150395Z"
    },
    "papermill": {
     "duration": 0.070539,
     "end_time": "2024-08-22T20:38:08.154200",
     "exception": false,
     "start_time": "2024-08-22T20:38:08.083661",
     "status": "completed"
    },
    "tags": []
   },
   "outputs": [
    {
     "name": "stdout",
     "output_type": "stream",
     "text": [
      "Shape of X [N, C, H, W]: torch.Size([64, 1, 28, 28])\n",
      "Shape of y: torch.Size([64]) & data type : torch.int64\n"
     ]
    }
   ],
   "source": [
    "#Create dataloaders.\n",
    "train_dataloader = DataLoader(train_data, batch_size=64)\n",
    "test_dataloader = DataLoader(test_data, batch_size=64)\n",
    "\n",
    "for X, y in test_dataloader:\n",
    "    print(f\"Shape of X [N, C, H, W]: {X.shape}\")\n",
    "    print(f\"Shape of y: {y.shape} & data type : {y.dtype}\")\n",
    "    break"
   ]
  },
  {
   "cell_type": "markdown",
   "id": "1a7daba8",
   "metadata": {
    "papermill": {
     "duration": 0.013018,
     "end_time": "2024-08-22T20:38:08.180250",
     "exception": false,
     "start_time": "2024-08-22T20:38:08.167232",
     "status": "completed"
    },
    "tags": []
   },
   "source": [
    "# Creating Models\n",
    "\n",
    "To define a NN in PyTorch, a class is created that inherits from nn. Module, the layers are defined in the network in the __init__ function and specify how data will pass through the network in the forward function. To accelerate in the NN, we move it to th GPU or MPS if available"
   ]
  },
  {
   "cell_type": "code",
   "execution_count": 4,
   "id": "07eb2da0",
   "metadata": {
    "execution": {
     "iopub.execute_input": "2024-08-22T20:38:08.210806Z",
     "iopub.status.busy": "2024-08-22T20:38:08.210421Z",
     "iopub.status.idle": "2024-08-22T20:38:08.280881Z",
     "shell.execute_reply": "2024-08-22T20:38:08.279689Z"
    },
    "papermill": {
     "duration": 0.087947,
     "end_time": "2024-08-22T20:38:08.283225",
     "exception": false,
     "start_time": "2024-08-22T20:38:08.195278",
     "status": "completed"
    },
    "tags": []
   },
   "outputs": [
    {
     "name": "stdout",
     "output_type": "stream",
     "text": [
      "Device :  cuda\n"
     ]
    }
   ],
   "source": [
    "device = (\"cuda\" if torch.cuda.is_available() else \"mps\" if torch.backend.mps.is_available() else \"cpu\")\n",
    "print(\"Device : \", device)"
   ]
  },
  {
   "cell_type": "code",
   "execution_count": 5,
   "id": "40dd119c",
   "metadata": {
    "execution": {
     "iopub.execute_input": "2024-08-22T20:38:08.311953Z",
     "iopub.status.busy": "2024-08-22T20:38:08.311303Z",
     "iopub.status.idle": "2024-08-22T20:38:08.482525Z",
     "shell.execute_reply": "2024-08-22T20:38:08.481364Z"
    },
    "papermill": {
     "duration": 0.189104,
     "end_time": "2024-08-22T20:38:08.485061",
     "exception": false,
     "start_time": "2024-08-22T20:38:08.295957",
     "status": "completed"
    },
    "tags": []
   },
   "outputs": [
    {
     "name": "stdout",
     "output_type": "stream",
     "text": [
      "NeuralNetwork(\n",
      "  (flatten): Flatten(start_dim=1, end_dim=-1)\n",
      "  (linear_relu_stack): Sequential(\n",
      "    (0): Linear(in_features=784, out_features=512, bias=True)\n",
      "    (1): ReLU()\n",
      "    (2): Linear(in_features=512, out_features=512, bias=True)\n",
      "    (3): ReLU()\n",
      "    (4): Linear(in_features=512, out_features=10, bias=True)\n",
      "  )\n",
      ")\n"
     ]
    }
   ],
   "source": [
    "#Define Model\n",
    "class NeuralNetwork(nn.Module):\n",
    "    def __init__(self):\n",
    "        super().__init__()\n",
    "        self.flatten = nn.Flatten()\n",
    "        self.linear_relu_stack = nn.Sequential(nn.Linear(28*28,512),nn.ReLU(),nn.Linear(512,512),nn.ReLU(),nn.Linear(512,10))\n",
    "    \n",
    "    def forward(self,x):\n",
    "        x = self.flatten(x)\n",
    "        logits = self.linear_relu_stack(x)\n",
    "        return logits\n",
    "\n",
    "model = NeuralNetwork().to(device)\n",
    "print(model)\n",
    "\n",
    "        "
   ]
  },
  {
   "cell_type": "markdown",
   "id": "413fd6ae",
   "metadata": {
    "papermill": {
     "duration": 0.012776,
     "end_time": "2024-08-22T20:38:08.510667",
     "exception": false,
     "start_time": "2024-08-22T20:38:08.497891",
     "status": "completed"
    },
    "tags": []
   },
   "source": [
    "# optimizing the Model Parameters\n",
    "to train a model a loss function and an optimizer are used."
   ]
  },
  {
   "cell_type": "code",
   "execution_count": 6,
   "id": "05f9f135",
   "metadata": {
    "execution": {
     "iopub.execute_input": "2024-08-22T20:38:08.538511Z",
     "iopub.status.busy": "2024-08-22T20:38:08.537616Z",
     "iopub.status.idle": "2024-08-22T20:38:08.543043Z",
     "shell.execute_reply": "2024-08-22T20:38:08.542004Z"
    },
    "papermill": {
     "duration": 0.021549,
     "end_time": "2024-08-22T20:38:08.545345",
     "exception": false,
     "start_time": "2024-08-22T20:38:08.523796",
     "status": "completed"
    },
    "tags": []
   },
   "outputs": [],
   "source": [
    "loss = nn.CrossEntropyLoss()\n",
    "optimizer = torch.optim.Adam(model.parameters(),lr=1e-3)"
   ]
  },
  {
   "cell_type": "markdown",
   "id": "9d35a91a",
   "metadata": {
    "papermill": {
     "duration": 0.012611,
     "end_time": "2024-08-22T20:38:08.571133",
     "exception": false,
     "start_time": "2024-08-22T20:38:08.558522",
     "status": "completed"
    },
    "tags": []
   },
   "source": [
    "In a single training loop, the model makes predictions on the training dataset (fed to it in batches) and backpropagates the prediction error to adjust the model's parameters"
   ]
  },
  {
   "cell_type": "code",
   "execution_count": 7,
   "id": "f8b795bd",
   "metadata": {
    "execution": {
     "iopub.execute_input": "2024-08-22T20:38:08.598349Z",
     "iopub.status.busy": "2024-08-22T20:38:08.597429Z",
     "iopub.status.idle": "2024-08-22T20:38:08.602628Z",
     "shell.execute_reply": "2024-08-22T20:38:08.601611Z"
    },
    "papermill": {
     "duration": 0.021215,
     "end_time": "2024-08-22T20:38:08.604875",
     "exception": false,
     "start_time": "2024-08-22T20:38:08.583660",
     "status": "completed"
    },
    "tags": []
   },
   "outputs": [],
   "source": [
    "def train(dataloader, model, loss_fn, optimizer):\n",
    "    size = len(train_dataloader.dataset)\n",
    "    model.train() #Why?\n",
    "    "
   ]
  },
  {
   "cell_type": "code",
   "execution_count": 8,
   "id": "a74451db",
   "metadata": {
    "execution": {
     "iopub.execute_input": "2024-08-22T20:38:08.632237Z",
     "iopub.status.busy": "2024-08-22T20:38:08.631614Z",
     "iopub.status.idle": "2024-08-22T20:38:08.639390Z",
     "shell.execute_reply": "2024-08-22T20:38:08.638418Z"
    },
    "papermill": {
     "duration": 0.02408,
     "end_time": "2024-08-22T20:38:08.641771",
     "exception": false,
     "start_time": "2024-08-22T20:38:08.617691",
     "status": "completed"
    },
    "tags": []
   },
   "outputs": [
    {
     "data": {
      "text/plain": [
       "938"
      ]
     },
     "execution_count": 8,
     "metadata": {},
     "output_type": "execute_result"
    }
   ],
   "source": [
    "train_dataloader.__len__()"
   ]
  },
  {
   "cell_type": "code",
   "execution_count": 9,
   "id": "16e04f39",
   "metadata": {
    "execution": {
     "iopub.execute_input": "2024-08-22T20:38:08.670508Z",
     "iopub.status.busy": "2024-08-22T20:38:08.670107Z",
     "iopub.status.idle": "2024-08-22T20:38:08.676690Z",
     "shell.execute_reply": "2024-08-22T20:38:08.675778Z"
    },
    "papermill": {
     "duration": 0.023144,
     "end_time": "2024-08-22T20:38:08.678785",
     "exception": false,
     "start_time": "2024-08-22T20:38:08.655641",
     "status": "completed"
    },
    "tags": []
   },
   "outputs": [
    {
     "data": {
      "text/plain": [
       "60000"
      ]
     },
     "execution_count": 9,
     "metadata": {},
     "output_type": "execute_result"
    }
   ],
   "source": [
    "len(train_dataloader.dataset)"
   ]
  },
  {
   "cell_type": "code",
   "execution_count": 10,
   "id": "46d0244d",
   "metadata": {
    "execution": {
     "iopub.execute_input": "2024-08-22T20:38:08.708310Z",
     "iopub.status.busy": "2024-08-22T20:38:08.707889Z",
     "iopub.status.idle": "2024-08-22T20:38:14.828787Z",
     "shell.execute_reply": "2024-08-22T20:38:14.827871Z"
    },
    "papermill": {
     "duration": 6.138741,
     "end_time": "2024-08-22T20:38:14.831471",
     "exception": false,
     "start_time": "2024-08-22T20:38:08.692730",
     "status": "completed"
    },
    "tags": []
   },
   "outputs": [
    {
     "name": "stdout",
     "output_type": "stream",
     "text": [
      "Downloading https://www.cs.toronto.edu/~kriz/cifar-10-python.tar.gz to data1/cifar-10-python.tar.gz\n"
     ]
    },
    {
     "name": "stderr",
     "output_type": "stream",
     "text": [
      "100%|██████████| 170498071/170498071 [00:03<00:00, 56156319.49it/s]\n"
     ]
    },
    {
     "name": "stdout",
     "output_type": "stream",
     "text": [
      "Extracting data1/cifar-10-python.tar.gz to data1\n"
     ]
    }
   ],
   "source": [
    "dummy_train_data = datasets.CIFAR10(root='data1',download=True)"
   ]
  },
  {
   "cell_type": "code",
   "execution_count": 11,
   "id": "cd3f5509",
   "metadata": {
    "execution": {
     "iopub.execute_input": "2024-08-22T20:38:14.866416Z",
     "iopub.status.busy": "2024-08-22T20:38:14.865759Z",
     "iopub.status.idle": "2024-08-22T20:38:20.904879Z",
     "shell.execute_reply": "2024-08-22T20:38:20.903930Z"
    },
    "papermill": {
     "duration": 6.059411,
     "end_time": "2024-08-22T20:38:20.907525",
     "exception": false,
     "start_time": "2024-08-22T20:38:14.848114",
     "status": "completed"
    },
    "tags": []
   },
   "outputs": [
    {
     "name": "stdout",
     "output_type": "stream",
     "text": [
      "Downloading https://www.cs.toronto.edu/~kriz/cifar-100-python.tar.gz to data1/cifar-100-python.tar.gz\n"
     ]
    },
    {
     "name": "stderr",
     "output_type": "stream",
     "text": [
      "100%|██████████| 169001437/169001437 [00:02<00:00, 56584837.07it/s]\n"
     ]
    },
    {
     "name": "stdout",
     "output_type": "stream",
     "text": [
      "Extracting data1/cifar-100-python.tar.gz to data1\n"
     ]
    }
   ],
   "source": [
    "dummy_train_data = datasets.CIFAR100(root='data1',download=True)"
   ]
  },
  {
   "cell_type": "code",
   "execution_count": 12,
   "id": "98968944",
   "metadata": {
    "execution": {
     "iopub.execute_input": "2024-08-22T20:38:20.947719Z",
     "iopub.status.busy": "2024-08-22T20:38:20.946865Z",
     "iopub.status.idle": "2024-08-22T20:38:20.951428Z",
     "shell.execute_reply": "2024-08-22T20:38:20.950383Z"
    },
    "papermill": {
     "duration": 0.027421,
     "end_time": "2024-08-22T20:38:20.953655",
     "exception": false,
     "start_time": "2024-08-22T20:38:20.926234",
     "status": "completed"
    },
    "tags": []
   },
   "outputs": [],
   "source": [
    "# dummy_train_data = datasets.Country211(root='data1',download=True)"
   ]
  },
  {
   "cell_type": "code",
   "execution_count": 13,
   "id": "71d20aa0",
   "metadata": {
    "execution": {
     "iopub.execute_input": "2024-08-22T20:38:20.993213Z",
     "iopub.status.busy": "2024-08-22T20:38:20.992820Z",
     "iopub.status.idle": "2024-08-22T20:38:45.090693Z",
     "shell.execute_reply": "2024-08-22T20:38:45.088903Z"
    },
    "papermill": {
     "duration": 24.131058,
     "end_time": "2024-08-22T20:38:45.103485",
     "exception": false,
     "start_time": "2024-08-22T20:38:20.972427",
     "status": "completed"
    },
    "tags": []
   },
   "outputs": [
    {
     "name": "stdout",
     "output_type": "stream",
     "text": [
      "Downloading https://thor.robots.ox.ac.uk/dtd/dtd-r1.0.1.tar.gz to data1/dtd/dtd-r1.0.1.tar.gz\n"
     ]
    },
    {
     "name": "stderr",
     "output_type": "stream",
     "text": [
      "100%|██████████| 625239812/625239812 [00:15<00:00, 39550450.34it/s]\n"
     ]
    },
    {
     "name": "stdout",
     "output_type": "stream",
     "text": [
      "Extracting data1/dtd/dtd-r1.0.1.tar.gz to data1/dtd\n"
     ]
    }
   ],
   "source": [
    "dummy_train_data = datasets.DTD(root='data1',download=True)"
   ]
  },
  {
   "cell_type": "code",
   "execution_count": null,
   "id": "5b214dd7",
   "metadata": {
    "papermill": {
     "duration": 0.032078,
     "end_time": "2024-08-22T20:38:45.178490",
     "exception": false,
     "start_time": "2024-08-22T20:38:45.146412",
     "status": "completed"
    },
    "tags": []
   },
   "outputs": [],
   "source": []
  }
 ],
 "metadata": {
  "kaggle": {
   "accelerator": "gpu",
   "dataSources": [],
   "dockerImageVersionId": 30746,
   "isGpuEnabled": true,
   "isInternetEnabled": true,
   "language": "python",
   "sourceType": "notebook"
  },
  "kernelspec": {
   "display_name": "Python 3",
   "language": "python",
   "name": "python3"
  },
  "language_info": {
   "codemirror_mode": {
    "name": "ipython",
    "version": 3
   },
   "file_extension": ".py",
   "mimetype": "text/x-python",
   "name": "python",
   "nbconvert_exporter": "python",
   "pygments_lexer": "ipython3",
   "version": "3.10.13"
  },
  "papermill": {
   "default_parameters": {},
   "duration": 58.21435,
   "end_time": "2024-08-22T20:38:46.633677",
   "environment_variables": {},
   "exception": null,
   "input_path": "__notebook__.ipynb",
   "output_path": "__notebook__.ipynb",
   "parameters": {},
   "start_time": "2024-08-22T20:37:48.419327",
   "version": "2.5.0"
  }
 },
 "nbformat": 4,
 "nbformat_minor": 5
}
