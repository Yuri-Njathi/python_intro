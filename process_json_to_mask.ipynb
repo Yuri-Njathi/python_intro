{
  "nbformat": 4,
  "nbformat_minor": 0,
  "metadata": {
    "colab": {
      "provenance": [],
      "authorship_tag": "ABX9TyO1CHKRAJdGCOuz1jnHDkbl",
      "include_colab_link": true
    },
    "kernelspec": {
      "name": "python3",
      "display_name": "Python 3"
    },
    "language_info": {
      "name": "python"
    }
  },
  "cells": [
    {
      "cell_type": "markdown",
      "metadata": {
        "id": "view-in-github",
        "colab_type": "text"
      },
      "source": [
        "<a href=\"https://colab.research.google.com/github/Yuri-Njathi/python_intro/blob/master/process_json_to_mask.ipynb\" target=\"_parent\"><img src=\"https://colab.research.google.com/assets/colab-badge.svg\" alt=\"Open In Colab\"/></a>"
      ]
    },
    {
      "cell_type": "markdown",
      "source": [
        "[Source](https://www.youtube.com/watch?v=6gD3EGMMXz8)"
      ],
      "metadata": {
        "id": "6GcsFbb_xd13"
      }
    },
    {
      "cell_type": "code",
      "execution_count": 1,
      "metadata": {
        "id": "AhJCV5s3tqDG"
      },
      "outputs": [],
      "source": [
        "# imports\n",
        "import numpy as np\n",
        "import cv2\n",
        "import json"
      ]
    },
    {
      "cell_type": "code",
      "source": [
        "#read json file\n",
        "f = open('/content/labels_my-project-name_2024-10-22-12-59-42-segmentation.json','r')\n",
        "data = json.load(f)\n"
      ],
      "metadata": {
        "id": "XN8bo3Pst3x3"
      },
      "execution_count": 3,
      "outputs": []
    },
    {
      "cell_type": "code",
      "source": [
        "mask_dir = \"masks\"\n",
        "import os\n",
        "os.makedirs(mask_dir,exist_ok=True)\n",
        "images = data[\"images\"]\n",
        "annots = data[\"annotations\"]"
      ],
      "metadata": {
        "id": "glYhnU8guKg6"
      },
      "execution_count": 17,
      "outputs": []
    },
    {
      "cell_type": "code",
      "source": [
        "#generate contour\n",
        "for x, y in zip(images, annots):\n",
        "  filename = x[\"file_name\"]\n",
        "  h = x[\"height\"]\n",
        "  w = x[\"width\"]\n",
        "  mask = np.zeros((h,w))\n",
        "  seg = y[\"segmentation\"]\n",
        "  for points in seg:\n",
        "    contours = []\n",
        "    for i in range(0,len(points),2):\n",
        "      contours.append([points[i],points[i+1]])\n",
        "    contours = np.array(contours, dtype=np.int32)\n",
        "    cv2.drawContours(mask,[contours],-1,255,1)\n",
        "  cv2.imwrite(f\"{mask_dir}/{filename}\",mask)"
      ],
      "metadata": {
        "id": "NqyIITFzusxl"
      },
      "execution_count": 18,
      "outputs": []
    },
    {
      "cell_type": "code",
      "source": [
        "#generate mask\n",
        "for x, y in zip(images, annots):\n",
        "  filename = x[\"file_name\"]\n",
        "  h = x[\"height\"]\n",
        "  w = x[\"width\"]\n",
        "  mask = np.zeros((h,w))\n",
        "  seg = y[\"segmentation\"]\n",
        "  for points in seg:\n",
        "    contours = []\n",
        "    for i in range(0,len(points),2):\n",
        "      contours.append([points[i],points[i+1]])\n",
        "    contours = np.array(contours, dtype=np.int32)\n",
        "    cv2.drawContours(mask,[contours],-1,255,-1)\n",
        "  cv2.imwrite(f\"{mask_dir}/{filename}\",mask)"
      ],
      "metadata": {
        "id": "9Xnfq7u6xn5h"
      },
      "execution_count": 19,
      "outputs": []
    },
    {
      "cell_type": "code",
      "source": [
        "!pwd"
      ],
      "metadata": {
        "colab": {
          "base_uri": "https://localhost:8080/"
        },
        "id": "D4zsiMY6wFYn",
        "outputId": "ae1b2034-5def-463a-dce0-8c30416e7907"
      },
      "execution_count": 12,
      "outputs": [
        {
          "output_type": "stream",
          "name": "stdout",
          "text": [
            "/content\n"
          ]
        }
      ]
    },
    {
      "cell_type": "code",
      "source": [
        "!ls"
      ],
      "metadata": {
        "colab": {
          "base_uri": "https://localhost:8080/"
        },
        "id": "dh6YMP8DwjDu",
        "outputId": "456b3419-2f7f-4f03-91d8-77ab49eed8d0"
      },
      "execution_count": 13,
      "outputs": [
        {
          "output_type": "stream",
          "name": "stdout",
          "text": [
            "labels_my-project-name_2024-10-22-12-59-42-segmentation.json  sample_data\n",
            "pixel-art-segmentation.png\n"
          ]
        }
      ]
    },
    {
      "cell_type": "code",
      "source": [],
      "metadata": {
        "id": "uXcNqQEgw-Bi"
      },
      "execution_count": null,
      "outputs": []
    }
  ]
}